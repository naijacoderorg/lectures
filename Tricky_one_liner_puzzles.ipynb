{
  "nbformat": 4,
  "nbformat_minor": 0,
  "metadata": {
    "colab": {
      "provenance": [],
      "include_colab_link": true
    },
    "kernelspec": {
      "name": "python3",
      "display_name": "Python 3"
    },
    "language_info": {
      "name": "python"
    }
  },
  "cells": [
    {
      "cell_type": "markdown",
      "metadata": {
        "id": "view-in-github",
        "colab_type": "text"
      },
      "source": [
        "<a href=\"https://colab.research.google.com/github/naijacoderorg/lectures/blob/main/Tricky_one_liner_puzzles.ipynb\" target=\"_parent\"><img src=\"https://colab.research.google.com/assets/colab-badge.svg\" alt=\"Open In Colab\"/></a>"
      ]
    },
    {
      "cell_type": "markdown",
      "source": [
        "# Some challenging little puzzles\n",
        "\n",
        "Your goal is to find an input which makes the `sat` function (short for *satsify*) return `True`. Several of these puzzles involve [Python comprehensions](https://www.w3schools.com/python/python_lists_comprehension.asp). There are 30 puzzles\n",
        "divided into 3 parts of 10 each. These puzzles can be quite tricky. You can save your own copy of this notebook, since it will take time.\n",
        "\n",
        "Example:\n",
        "\n",
        "```python\n",
        "def sat(s: str):\n",
        "  return s + ' world!' == 'Hello, world!'\n",
        "\n",
        "```\n",
        "\n",
        "Answer:\n",
        "```python\n",
        "\n",
        "sat('Hello,')\n",
        "```\n",
        "\n",
        "Corrections/feedback appreciated at wespeakpython@gmail.com\n"
      ],
      "metadata": {
        "id": "2ogtHipbz2Vw"
      }
    },
    {
      "cell_type": "markdown",
      "source": [
        "## Part 1/3"
      ],
      "metadata": {
        "id": "gWSZx56sz4gU"
      }
    },
    {
      "cell_type": "code",
      "source": [
        "def sat(s: str):\n",
        "  return s.count('o') == 1000 and s.count('oo') == 0"
      ],
      "metadata": {
        "id": "KxcutuFczHHt"
      },
      "execution_count": null,
      "outputs": []
    },
    {
      "cell_type": "code",
      "source": [
        "def sat(s: str):\n",
        "  return s.count('o') == 1000 and s.count('oo') == 100 and s.count('ho') == 801"
      ],
      "metadata": {
        "id": "lfOwm4QKzKR4"
      },
      "execution_count": null,
      "outputs": []
    },
    {
      "cell_type": "code",
      "source": [
        "def sat(li: list):\n",
        "  return sorted(li) == list(range(999)) and all(li[i] != i for i in range(len(li)))\n"
      ],
      "metadata": {
        "id": "mg-uebIjzWhX"
      },
      "execution_count": null,
      "outputs": []
    },
    {
      "cell_type": "code",
      "source": [
        "def sat(li: list):\n",
        "  return len(li) == 10 and li.count(li[3]) == 2\n"
      ],
      "metadata": {
        "id": "SEyeNJwK0z1d"
      },
      "execution_count": null,
      "outputs": []
    },
    {
      "cell_type": "code",
      "source": [
        "def sat(li: list):\n",
        "  return all([li.count(i) == i for i in range(10)])\n",
        "\n"
      ],
      "metadata": {
        "id": "ATLQBClL03Kc"
      },
      "execution_count": null,
      "outputs": []
    },
    {
      "cell_type": "code",
      "source": [
        "def sat(i: int):\n",
        "  return i % 123 == 4 and i > 10 ** 10\n"
      ],
      "metadata": {
        "id": "CAS2iTqV1HY7"
      },
      "execution_count": null,
      "outputs": []
    },
    {
      "cell_type": "code",
      "source": [
        "def sat(s: str):\n",
        "  return str(8 ** 2888).count(s) > 8 and len(s) == 3\n",
        "\n"
      ],
      "metadata": {
        "id": "zMIpOpPg1JUq"
      },
      "execution_count": null,
      "outputs": []
    },
    {
      "cell_type": "code",
      "source": [
        "def sat(ls: list):\n",
        "  return ls[1234] in ls[1235] and ls[1234] != ls[1235]\n"
      ],
      "metadata": {
        "id": "dLgnGzyQ1K_4"
      },
      "execution_count": null,
      "outputs": []
    },
    {
      "cell_type": "code",
      "source": [
        "def sat(li: list):\n",
        "  return [\"The quick brown fox jumps over the lazy dog\"[i] for i in li] == list(\"The five boxing wizards jump quickly\")\n",
        "\n"
      ],
      "metadata": {
        "id": "-cnDbHTd1QNG"
      },
      "execution_count": null,
      "outputs": []
    },
    {
      "cell_type": "code",
      "source": [
        "def sat(s: str):\n",
        "  return s in str(8 ** 1818) and s == s[::-1] and len(s) > 11\n",
        "\n"
      ],
      "metadata": {
        "id": "0siiKahD1P8d"
      },
      "execution_count": null,
      "outputs": []
    },
    {
      "cell_type": "markdown",
      "source": [
        "## Part 2/3"
      ],
      "metadata": {
        "id": "5wIPGzy51WAy"
      }
    },
    {
      "cell_type": "code",
      "source": [
        "def sat(ls: list):\n",
        "  return min(ls) == max(ls) == str(len(ls))\n",
        "\n"
      ],
      "metadata": {
        "id": "GirUSnhc1bSi"
      },
      "execution_count": null,
      "outputs": []
    },
    {
      "cell_type": "code",
      "source": [
        "def sat(li: list):\n",
        "  return all(i + j == 9 for i, j in zip([4] + li, li)) and len(li) == 1000\n",
        "\n"
      ],
      "metadata": {
        "id": "eWT4qNUi1djj"
      },
      "execution_count": null,
      "outputs": []
    },
    {
      "cell_type": "code",
      "source": [
        "def sat(x: float):\n",
        "  return str(x - 3.1415).startswith(\"123.456\")\n"
      ],
      "metadata": {
        "id": "egWP5xtg1eew"
      },
      "execution_count": null,
      "outputs": []
    },
    {
      "cell_type": "code",
      "source": [
        "def sat(li: list):\n",
        "  return all([sum(li[:i]) == i for i in range(20)])\n"
      ],
      "metadata": {
        "id": "SKSpJajF1iq_"
      },
      "execution_count": null,
      "outputs": []
    },
    {
      "cell_type": "code",
      "source": [
        "def sat(li: list):\n",
        "  return all(sum(li[:i]) == 2 ** i - 1 for i in range(20))\n"
      ],
      "metadata": {
        "id": "AaxYxdFx1nnc"
      },
      "execution_count": null,
      "outputs": []
    },
    {
      "cell_type": "code",
      "source": [
        "def sat(s: str):\n",
        "  return float(s) + len(s) == 4.5\n"
      ],
      "metadata": {
        "id": "yJDQ3q-G1wBv"
      },
      "execution_count": null,
      "outputs": []
    },
    {
      "cell_type": "code",
      "source": [
        "def sat(i: int):\n",
        "  return len(str(i + 1000)) > len(str(i + 1001))\n"
      ],
      "metadata": {
        "id": "QWGw33fS11Sy"
      },
      "execution_count": null,
      "outputs": []
    },
    {
      "cell_type": "code",
      "source": [
        "def sat(ls: list):\n",
        "  return [s + t for s in ls for t in ls if s != t] == 'berlin berger linber linger gerber gerlin'.split()\n",
        "\n"
      ],
      "metadata": {
        "id": "Ll2gG-aH17oz"
      },
      "execution_count": null,
      "outputs": []
    },
    {
      "cell_type": "code",
      "source": [
        "def sat(li: list):\n",
        "  return {i + j for i in li for j in li} == {0, 1, 2, 3, 4, 5, 6, 17, 18, 19, 20, 34}\n",
        "\n"
      ],
      "metadata": {
        "id": "XUQXuEcI1-xI"
      },
      "execution_count": null,
      "outputs": []
    },
    {
      "cell_type": "code",
      "source": [
        "def sat(li: list):\n",
        "  return all(j in {i - 1, i + 1, 3 * i} for i, j in zip([0] + li, li + [128]))\n"
      ],
      "metadata": {
        "id": "Hoqzum3Y2Bmi"
      },
      "execution_count": null,
      "outputs": []
    },
    {
      "cell_type": "markdown",
      "source": [
        "## Part 3/3"
      ],
      "metadata": {
        "id": "Em48fXTM2C0V"
      }
    },
    {
      "cell_type": "code",
      "source": [
        "def sat(li: list):\n",
        "  return all(j in {i - 1, i + 1, 3 * i} for i, j in zip([0] + li, li + [128]))\n"
      ],
      "metadata": {
        "id": "0Xi2gfRq2Eyg"
      },
      "execution_count": null,
      "outputs": []
    },
    {
      "cell_type": "code",
      "source": [
        "def sat(li: list):\n",
        "  return all([li[i] != li[i + 1] for i in range(10)]) and len(set(li)) == 3\n",
        "\n"
      ],
      "metadata": {
        "id": "lGszyo-F2Hho"
      },
      "execution_count": null,
      "outputs": []
    },
    {
      "cell_type": "code",
      "source": [
        "def sat(s: str):\n",
        "  return s[::2] in s and len(set(s)) == 5\n"
      ],
      "metadata": {
        "id": "b2XxJw4L2KQz"
      },
      "execution_count": null,
      "outputs": []
    },
    {
      "cell_type": "code",
      "source": [
        "def sat(ls: list):\n",
        "  return tuple(ls) in zip('dee', 'doo', 'dah!')\n",
        "\n"
      ],
      "metadata": {
        "id": "mgQKzkUF2Me3"
      },
      "execution_count": null,
      "outputs": []
    },
    {
      "cell_type": "code",
      "source": [
        "def sat(li: list):\n",
        "  return li.count(17) == 3 and li.count(3) >= 2\n",
        "\n"
      ],
      "metadata": {
        "id": "nj7Pqqm_2Sik"
      },
      "execution_count": null,
      "outputs": []
    },
    {
      "cell_type": "code",
      "source": [
        "def sat(s: str):\n",
        "  return sorted(s) == sorted('Permute me true') and s == s[::-1]\n",
        "\n"
      ],
      "metadata": {
        "id": "3HC3qf6q2VSX"
      },
      "execution_count": null,
      "outputs": []
    },
    {
      "cell_type": "code",
      "source": [
        "def sat(ls: list):\n",
        "  return \"\".join(ls) == str(8 ** 88) and all(len(s) == 8 for s in ls)\n"
      ],
      "metadata": {
        "id": "alTxZ2jV2YUJ"
      },
      "execution_count": null,
      "outputs": []
    },
    {
      "cell_type": "code",
      "source": [
        "def sat(li: list):\n",
        "  return li[li[0]] != li[li[1]] and li[li[li[0]]] == li[li[li[1]]]\n",
        "\n"
      ],
      "metadata": {
        "id": "vy-d-5GG2a9m"
      },
      "execution_count": null,
      "outputs": []
    },
    {
      "cell_type": "code",
      "source": [
        "def sat(li: list):\n",
        "  return all(i in range(1000) and abs(i - j) >= 10 for i in li for j in li if i != j) and len(set(li)) == 100\n",
        "\n"
      ],
      "metadata": {
        "id": "BBRAgLi72dbk"
      },
      "execution_count": null,
      "outputs": []
    },
    {
      "cell_type": "code",
      "source": [
        "def sat(l: list):\n",
        "  return all(i in range(1000) and abs(i * i - j * j) >= 10 for i in l for j in l if i != j) and len(set(l)) > 995\n"
      ],
      "metadata": {
        "id": "tipyePPi2hV_"
      },
      "execution_count": null,
      "outputs": []
    },
    {
      "cell_type": "code",
      "source": [
        "def sat(li: list):\n",
        "  return all([123 * li[i] % 1000 < 123 * li[i + 1] % 1000 and li[i] in range(1000) for i in range(20)])\n"
      ],
      "metadata": {
        "id": "j1dzGJXh0Ibz"
      },
      "execution_count": null,
      "outputs": []
    }
  ]
}