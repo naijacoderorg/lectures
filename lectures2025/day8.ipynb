{
 "cells": [
  {
   "cell_type": "markdown",
   "id": "5ac99c16-cd1b-437b-8f41-e4985d102f4b",
   "metadata": {},
   "source": [
    "# Day 8: Sorting Algorithms: Bubble, Selection, Insertion\n",
    "-----------------------------------------------------------\n",
    "\n",
    "## Reflections from Last Day\n",
    "\n",
    "- Searching Algorithms\n",
    "    -  Linear Search $O(n)$\n",
    "    -  Binary Search $O(\\log n)$\n",
    "\n",
    "## Exercises from Last Day\n",
    "\n",
    "Implement binary search using recursion\n",
    "\n",
    "## Agenda for Today\n",
    "\n",
    "- Insertion Sort\n",
    "- Selection Sort\n",
    "- Bubble Sort"
   ]
  },
  {
   "cell_type": "markdown",
   "id": "e5e94efc-3711-41fb-a19f-08ecddbc6032",
   "metadata": {},
   "source": [
    "## Sorting Algorithms\n",
    "\n",
    "Sorting algorithms are used to rearrange elements in a list or array into a specified order, typically numerical or lexicographical. \n",
    "\n",
    "There are numerous sorting algorithms, each with its own characteristics in terms of **complexity, stability, and suitability** for different **data sizes and types**.\n"
   ]
  },
  {
   "cell_type": "markdown",
   "id": "cd8b14a7-1c2f-4ba7-aab8-24267a7b7711",
   "metadata": {},
   "source": [
    "### **Insertion Sort**\n",
    "\n",
    "Insertion sort builds the final sorted array (or list) one element at a time.\n",
    "\n",
    "It is efficient for small data sets or when the input array is almost sorted. Here's an introduction to Insertion Sort:\n",
    "\n",
    "Insertion Sort works similarly to how you might sort playing cards in your hands. \n",
    "- You start with an empty left hand and the cards face down on the table.\n",
    "- You then remove one card at a time from the table\n",
    "- Insert it into the correct position in your left hand, maintaining the cards in your left hand sorted.\n",
    "\n",
    "#### Steps\n",
    "\n",
    "1. **Initialization**: Start with the second element (index 1) and consider it as part of the sorted portion.\n",
    "\n",
    "2. **Comparison and Insertion**: For each element, compare it with the elements in the sorted portion (left side). Shift all the elements greater than the current element to the right. Insert the current element into its correct position.\n",
    "\n",
    "3. **Repeat**: Repeat the process until the entire array is sorted.\n"
   ]
  },
  {
   "cell_type": "markdown",
   "id": "9565ff36-6b38-470e-9ce3-be23f68b30ff",
   "metadata": {},
   "source": [
    "#### Example\n",
    "\n",
    "Let's sort the array `[5, 2, 4, 6, 1, 3]` using Insertion Sort:\n",
    "\n",
    "- **Initial Array**: `[5, 2, 4, 6, 1, 3]`\n",
    "\n",
    "1. Start with the second element (`2`):\n",
    "   - Compare `2` with `5` (first element). Since `2 < 5`, swap them.\n",
    "   - Array becomes `[2, 5, 4, 6, 1, 3]`.\n",
    "\n",
    "2. Consider the third element (`4`):\n",
    "   - Compare `4` with `5` (previous element). Since `4 < 5`, swap them.\n",
    "   - Array becomes `[2, 4, 5, 6, 1, 3]`.\n",
    "   - Compare `4` with `2` (previous element). No swap needed.\n",
    "\n",
    "3. Continue with each subsequent element, shifting larger elements as necessary and inserting the current element into its correct position.\n",
    "\n",
    "4. After sorting, the array becomes `[1, 2, 3, 4, 5, 6]`."
   ]
  },
  {
   "cell_type": "markdown",
   "id": "0124525d-4a74-43bb-b1cb-6f2b20f84ad0",
   "metadata": {},
   "source": [
    "#### Complexity\n",
    "\n",
    "- **Time Complexity**: $O(n^2)$ in the worst-case scenario (when the array is reverse sorted), and $O(n)$ in the best-case scenario (when the array is already sorted).\n",
    "\n",
    "    - Outer loop n times\n",
    "    - Inner loop up to n\n",
    "    - Total $n^2$\n",
    "\n",
    "- **Space Complexity**: $O(1)$ additional space, as it sorts in-place.\n",
    "\n",
    "#### Implementation (Python)"
   ]
  },
  {
   "cell_type": "code",
   "execution_count": 1,
   "id": "7316f328-9a8a-40ca-9898-d0cdda0304d0",
   "metadata": {},
   "outputs": [
    {
     "name": "stdout",
     "output_type": "stream",
     "text": [
      "Sorted array: [1, 2, 3, 4, 5, 6]\n"
     ]
    }
   ],
   "source": [
    "def insertion_sort(arr):\n",
    "    for i in range(1, len(arr)):\n",
    "        current_value = arr[i]\n",
    "        j = i - 1\n",
    "        while j >= 0 and arr[j] > current_value:\n",
    "            arr[j + 1] = arr[j]\n",
    "            j -= 1\n",
    "        arr[j + 1] = current_value\n",
    "\n",
    "# Example usage:\n",
    "arr = [5, 2, 4, 6, 1, 3]\n",
    "insertion_sort(arr)\n",
    "print(\"Sorted array:\", arr)"
   ]
  },
  {
   "cell_type": "markdown",
   "id": "6f4c9792-5e5b-4bfb-9e21-39f3d1b9bc37",
   "metadata": {},
   "source": [
    "In this implementation:\n",
    "- We iterate over each element in the array starting from index 1.\n",
    "- For each element, we compare it with the elements to its left in the sorted portion of the array and insert it into its correct position by shifting larger elements to the right.\n",
    "\n",
    "Insertion Sort is intuitive and straightforward to implement, making it suitable for small data sets or scenarios where the input is mostly sorted. However, for large data sets, more efficient algorithms like Merge Sort or Quick Sort are generally preferred due to their better average-case performance.\n"
   ]
  },
  {
   "cell_type": "markdown",
   "id": "95524652-f8ea-4148-81d5-8afc43a28346",
   "metadata": {},
   "source": [
    "### **Selection Sort**\n",
    "\n",
    "Selection Sort is a simple and intuitive sorting algorithm that\n",
    "- Divides the input list into a sorted and an unsorted region.\n",
    "- It repeatedly selects the smallest (or largest, depending on the sorting order) element from the unsorted region\n",
    "- Swap it with the first element of the unsorted region.\n",
    "\n",
    "#### Description\n",
    "\n",
    "#### Steps\n",
    "\n",
    "1. **Initialization**: Start with the entire list considered as unsorted.\n",
    "\n",
    "2. **Finding the Minimum**: Iterate through the unsorted region to find the minimum element.\n",
    "\n",
    "3. **Swapping**: Swap the minimum element with the first element of the unsorted region.\n",
    "\n",
    "4. **Repeat**: Continue the process for the remaining unsorted region until the list is sorted.\n",
    "\n"
   ]
  },
  {
   "cell_type": "markdown",
   "id": "34efa855-5442-4623-97ab-6ba725b9ca7b",
   "metadata": {},
   "source": [
    "#### Example\n",
    "\n",
    "Let's sort the array `[64, 25, 12, 22, 11]` using Selection Sort:\n",
    "\n",
    "- **Initial Array**: `[64, 25, 12, 22, 11]`\n",
    "\n",
    "1. **First Pass**: Find the smallest element and swap it with the first element:\n",
    "   - `[11, 25, 12, 22, 64]` (swap `11` with `64`)\n",
    "\n",
    "2. **Second Pass**: Consider the remaining unsorted region (`[25, 12, 22, 64]`):\n",
    "   - `[11, 12, 25, 22, 64]` (swap `12` with `25`)\n",
    "\n",
    "3. **Third Pass**: Continue with the remaining unsorted region (`[25, 22, 64]`):\n",
    "   - `[11, 12, 22, 25, 64]` (swap `22` with `25`)\n",
    "\n",
    "4. **Fourth Pass**: Continue with the remaining unsorted region (`[64]`):\n",
    "   - `[11, 12, 22, 25, 64]` (no swap needed)\n",
    "\n",
    "5. **Final Sorted Array**: `[11, 12, 22, 25, 64]`"
   ]
  },
  {
   "cell_type": "markdown",
   "id": "683f5e27-4089-494e-990c-b103e4a4e1ca",
   "metadata": {},
   "source": [
    "#### Implementation (Python)\n",
    "\n",
    "Here's a simple implementation of Selection Sort in Python:"
   ]
  },
  {
   "cell_type": "code",
   "execution_count": 2,
   "id": "e1c5cf74-8423-44cb-9283-6f8fa9128b79",
   "metadata": {},
   "outputs": [
    {
     "name": "stdout",
     "output_type": "stream",
     "text": [
      "Sorted array: [11, 12, 22, 25, 64]\n"
     ]
    }
   ],
   "source": [
    "def selection_sort(arr):\n",
    "    n = len(arr)\n",
    "    for i in range(n):\n",
    "        # Find the minimum element in remaining unsorted array\n",
    "        min_index = i\n",
    "        for j in range(i + 1, n):\n",
    "            if arr[j] < arr[min_index]:\n",
    "                min_index = j\n",
    "        \n",
    "        # Swap the found minimum element with the first element of unsorted array\n",
    "        arr[i], arr[min_index] = arr[min_index], arr[i]\n",
    "\n",
    "# Example usage:\n",
    "arr = [64, 25, 12, 22, 11]\n",
    "selection_sort(arr)\n",
    "print(\"Sorted array:\", arr)"
   ]
  },
  {
   "cell_type": "markdown",
   "id": "b2ab2248-12a7-49ef-bdf6-f97259b0c392",
   "metadata": {},
   "source": [
    "In this implementation:\n",
    "- We iterate through the list and find the index of the smallest element in the unsorted region.\n",
    "- We swap this smallest element with the first element of the unsorted region.\n",
    "- We repeat this process until the entire array is sorted.\n",
    "\n",
    "#### Complexity\n",
    "\n",
    "- **Time Complexity**: $O(n^2)$ in all cases (worst-case, average-case, and best-case scenarios).\n",
    "\n",
    "Mathematically:\n",
    "Total operations = $n + (n-1) + (n-2) + ... + 1$\n",
    "\n",
    "Arithmetic progression sum =\n",
    "$$ \\frac{n}{2}\\left(a_n + a_1\\right) $$\n",
    "where $a_n$ and $a_1$ are the first and last elements\n",
    "\n",
    "$$n + (n-1) + (n-2) + ... + 1 = \\frac{n}{2}(n + 1) = \\frac{1}{2}\\left(n^2+n\\right)$$\n",
    "\n",
    "\n",
    "- **Space Complexity**: $O(1)$ additional space, as it sorts in-place.\n",
    "\n",
    "Selection Sort is straightforward to implement and understand, making it suitable for educational purposes or situations where simplicity is preferred. However, it is less efficient compared to more advanced sorting algorithms like Merge Sort or Quick Sort, especially for larger data sets.\n"
   ]
  },
  {
   "cell_type": "markdown",
   "id": "de2cc515-ea32-4de8-b3a8-3afcb1f880a3",
   "metadata": {},
   "source": [
    "### **Bubble Sort**\n",
    "\n",
    "Bubble Sort is a simple sorting algorithm that repeatedly steps through the list, compares adjacent elements, and swaps them if they are in the wrong order. It passes through the list multiple times until the list is sorted.\n",
    "\n",
    "#### Description\n",
    "\n",
    "Bubble Sort gets its name because smaller or larger elements \"bubble\" to the top (beginning) of the list in each pass. Repeatedly\n",
    "\n",
    "- Compare adjacent elements\n",
    "- Swap them if they are in the wrong order.\n",
    "- After each pass, the largest (or smallest, depending on the sorting order) element is guaranteed to be in its correct position.\n",
    "- Repeat for every element in the list\n",
    "\n",
    "\n",
    "#### Steps\n",
    "\n",
    "1. **Passes through the List**: Start with the first element and compare it with the next element. If they are in the wrong order, swap them.\n",
    "\n",
    "2. **Repeated Passes**: Continue making passes through the list until no more swaps are needed, which indicates that the list is sorted.\n",
    "\n",
    "3. **Complexity**: The algorithm's efficiency improves as larger elements (or smaller ones) are sorted and \"bubble up\" towards their correct positions."
   ]
  },
  {
   "cell_type": "markdown",
   "id": "4aca0c07-627a-4a31-a0c5-791889aecef1",
   "metadata": {},
   "source": [
    "#### Example\n",
    "\n",
    "Let's sort the array `[5, 2, 4, 6, 1, 3]` using Bubble Sort:\n",
    "\n",
    "- **Initial Array**: `[5, 2, 4, 6, 1, 3]`\n",
    "\n",
    "1. **First Pass**: Compare adjacent elements and swap if necessary:\n",
    "   - [**2, 5**, 4, 6, 1, 3] (swap `5` and `2`)\n",
    "   - [2, **4, 5**, 6, 1, 3] (swap `5` and `4`)\n",
    "   - [2, 4, **5, 6**, 1, 3] (no swap needed)\n",
    "   - [2, 4, 5, **1, 6**, 3] (swap `6` and `1`)\n",
    "   - [2, 4, 5, 1, **3, 6**] (swap `6` and `3`)\n",
    "   - `6` has _bubbled_ to the top\n",
    "\n",
    "2. **Second Pass**: Continue with the remaining unsorted elements:\n",
    "   - [**2, 4**, 5, 1, 3, 6] (no swap)\n",
    "   - [2, **4, 5**, 1, 3, 6] (no swap)\n",
    "   - [2, 4, **1, 5**, 3, 6] (swap `1` and `5`)\n",
    "   - [2, 4, 1, **3, 5**, 6] (swap `3 and `5`)\n",
    "   - `5` and `6` have _bubbled_ to the top\n",
    "\n",
    "3. **Third Pass**\n",
    "    - [**2, 4**, 1, 3, 5, 6] (no swap)\n",
    "    - [2, **1, 4**, 3, 5, 6] (swap `1` and `4`)\n",
    "    - [2, 1, **3, 4**, 5, 6] (swap `3` and `4`)\n",
    "    - `4`, `5`, and `6` have _bubbled_ to the top\n",
    "\n",
    "4. **Fourth Pass**\n",
    "    - [**1, 2**, 3, 4, 5, 6] (swap `1` and `2`)\n",
    "    - [1, **2, 3**, 4, 5, 6] (no swap)\n",
    "    - `3`, `4`, `5`, and `6` have _bubbled_ to the top\n",
    "\n",
    "6. **Final Pass**: The array is now sorted:\n",
    "   - [**1, 2**, 3, 4, 5, 6] (no swap)"
   ]
  },
  {
   "cell_type": "markdown",
   "id": "e63818af-998f-433f-9d22-0b946965719e",
   "metadata": {},
   "source": [
    "#### Implementation (Python)\n",
    "\n",
    "Here's a simple implementation of Bubble Sort in Python:"
   ]
  },
  {
   "cell_type": "code",
   "execution_count": 8,
   "id": "96c34df9-7d49-4c99-8356-1b907d293a4a",
   "metadata": {},
   "outputs": [
    {
     "name": "stdout",
     "output_type": "stream",
     "text": [
      "Pass 1\n",
      "    swap 5 and 2\n",
      "     [2, 5, 4, 6, 1, 3]\n",
      "    swap 5 and 4\n",
      "     [2, 4, 5, 6, 1, 3]\n",
      "    no swap\n",
      "     [2, 4, 5, 6, 1, 3]\n",
      "    swap 6 and 1\n",
      "     [2, 4, 5, 1, 6, 3]\n",
      "    swap 6 and 3\n",
      "     [2, 4, 5, 1, 3, 6]\n",
      "Pass 2\n",
      "    no swap\n",
      "     [2, 4, 5, 1, 3, 6]\n",
      "    no swap\n",
      "     [2, 4, 5, 1, 3, 6]\n",
      "    swap 5 and 1\n",
      "     [2, 4, 1, 5, 3, 6]\n",
      "    swap 5 and 3\n",
      "     [2, 4, 1, 3, 5, 6]\n",
      "Pass 3\n",
      "    no swap\n",
      "     [2, 4, 1, 3, 5, 6]\n",
      "    swap 4 and 1\n",
      "     [2, 1, 4, 3, 5, 6]\n",
      "    swap 4 and 3\n",
      "     [2, 1, 3, 4, 5, 6]\n",
      "Pass 4\n",
      "    swap 2 and 1\n",
      "     [1, 2, 3, 4, 5, 6]\n",
      "    no swap\n",
      "     [1, 2, 3, 4, 5, 6]\n",
      "Pass 5\n",
      "    no swap\n",
      "     [1, 2, 3, 4, 5, 6]\n",
      "Pass 6\n",
      "Sorted array: [1, 2, 3, 4, 5, 6]\n"
     ]
    }
   ],
   "source": [
    "def bubble_sort(arr):\n",
    "    n = len(arr)\n",
    "    # Traverse through all array elements\n",
    "    for i in range(n):\n",
    "        # Last i elements are already in place, so no need to check them\n",
    "        print(f\"Pass {i+1}\")\n",
    "        for j in range(0, n-i-1):\n",
    "            # Swap if the element found is greater than the next element\n",
    "            if arr[j] > arr[j+1]:\n",
    "                arr[j], arr[j+1] = arr[j+1], arr[j]\n",
    "                print(f\"    swap {arr[j+1]} and {arr[j]}\")\n",
    "            else:\n",
    "                print(\"    no swap\")\n",
    "            print(\"    \", arr)\n",
    "\n",
    "# Example usage:\n",
    "arr = [5, 2, 4, 6, 1, 3]\n",
    "bubble_sort(arr)\n",
    "print(\"Sorted array:\", arr)"
   ]
  },
  {
   "cell_type": "code",
   "execution_count": 10,
   "id": "e923620d-4c4d-41c6-97b4-b8e9e1422103",
   "metadata": {},
   "outputs": [
    {
     "name": "stdout",
     "output_type": "stream",
     "text": [
      "Pass 1\n",
      "    swap 5 and -3\n",
      "     [-3, 5, 10, 2, 3]\n",
      "    no swap\n",
      "     [-3, 5, 10, 2, 3]\n",
      "    swap 10 and 2\n",
      "     [-3, 5, 2, 10, 3]\n",
      "    swap 10 and 3\n",
      "     [-3, 5, 2, 3, 10]\n",
      "Pass 2\n",
      "    no swap\n",
      "     [-3, 5, 2, 3, 10]\n",
      "    swap 5 and 2\n",
      "     [-3, 2, 5, 3, 10]\n",
      "    swap 5 and 3\n",
      "     [-3, 2, 3, 5, 10]\n",
      "Pass 3\n",
      "    no swap\n",
      "     [-3, 2, 3, 5, 10]\n",
      "    no swap\n",
      "     [-3, 2, 3, 5, 10]\n",
      "Pass 4\n",
      "    no swap\n",
      "     [-3, 2, 3, 5, 10]\n",
      "Pass 5\n",
      "Sorted array: [-3, 2, 3, 5, 10]\n"
     ]
    }
   ],
   "source": [
    "# Example usage:\n",
    "arr = [5, -3, 10, 2, 3]\n",
    "bubble_sort(arr)\n",
    "print(\"Sorted array:\", arr)"
   ]
  },
  {
   "cell_type": "markdown",
   "id": "478a0039-bf0d-4f2e-8bcb-1e9481d19931",
   "metadata": {},
   "source": [
    "- **Time Complexity**: $O(n^2)$ in the worst-case scenario (when the array is reverse sorted) and in the average-case scenario. $O(n)$ in the best-case scenario (when the array is already sorted).\n",
    "\n",
    "Analysis similar to Selection sort\n",
    "\n",
    "- **Space Complexity**: $O(1)$ additional space, as it sorts in-place.\n",
    "\n",
    "\n",
    "Bubble Sort is straightforward to implement and understand but is generally inefficient for large data sets compared to more advanced sorting algorithms like Merge Sort or Quick Sort."
   ]
  },
  {
   "cell_type": "markdown",
   "id": "5da81457-40a6-404d-b237-5e84a1859399",
   "metadata": {},
   "source": [
    "Exercises\n",
    "---------\n",
    "\n",
    "### Insertion Sort Exercises\n",
    "\n",
    "1. **Exercise 1: Implement Insertion Sort**\n",
    "   - **Problem**: Write a function `insertion_sort(arr)` that sorts an array `arr` using Insertion Sort. Use only while loops within the function.\n",
    "\n",
    "2. **Exercise 2: Count Inversions**\n",
    "   - **Problem**: Modify the `insertion_sort` function to count the number of inversions in the array. An inversion is a pair of elements `(arr[i], arr[j])` such that `i < j` and `arr[i] > arr[j]`.\n",
    "\n",
    "3. **Exercise 3: Sort Characters in a String**\n",
    "   - **Problem**: Write a function `sort_string(s)` that sorts the characters in a string `s` using Insertion Sort and returns the sorted string."
   ]
  },
  {
   "cell_type": "markdown",
   "id": "c62a4f11-6975-44da-9828-e1df713d2698",
   "metadata": {},
   "source": [
    "### Bubble Sort Exercises\n",
    "\n",
    "1. **Exercise 4: Implement Bubble Sort**\n",
    "   - **Problem**: Write a function `bubble_sort(arr)` that sorts an array `arr` using Bubble Sort. Can you use only while loops?\n",
    "\n",
    "2. **Exercise 5: Optimized Bubble Sort**\n",
    "   - **Problem**: Modify the `bubble_sort` function to implement an optimized version of Bubble Sort that terminates early if no swaps are made in a pass. \n",
    "\n",
    "3. **Exercise 6: Bubble Sort for List of Lists**\n",
    "   - **Problem**: Implement Bubble Sort to sort a list containing many lists. Every list (including the outermost one) should be sorted."
   ]
  }
 ],
 "metadata": {
  "kernelspec": {
   "display_name": "Python 3 (ipykernel)",
   "language": "python",
   "name": "python3"
  },
  "language_info": {
   "codemirror_mode": {
    "name": "ipython",
    "version": 3
   },
   "file_extension": ".py",
   "mimetype": "text/x-python",
   "name": "python",
   "nbconvert_exporter": "python",
   "pygments_lexer": "ipython3",
   "version": "3.13.5"
  }
 },
 "nbformat": 4,
 "nbformat_minor": 5
}
