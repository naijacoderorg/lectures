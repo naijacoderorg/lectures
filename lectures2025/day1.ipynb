{
 "cells": [
  {
   "cell_type": "markdown",
   "id": "9b45beb5-735d-4b30-8f63-e6f1220a53aa",
   "metadata": {},
   "source": [
    "**Introductions**: \n",
    "\n",
    "**Introductory Lecture**: 1-1.5 hours\n",
    "\n",
    "**Main Textbook**: Share CLRS textbook with students; take cursory look at the topics to cover [1].\n",
    "\n",
    "[1] “Introduction to Algorithms” \n",
    "By Thomas H. Cormen, Charles E. Leiserson, Ronald L. Rivest, and Clifford Stein."
   ]
  },
  {
   "cell_type": "markdown",
   "id": "7542a132-9d42-4ae9-ab0b-091d5ac04e02",
   "metadata": {},
   "source": [
    "## Agenda for Day 1\n",
    "\n",
    "- Introduction to Python\n",
    "- Introduction to Google Colab\n",
    "- Variables in Python\n",
    "- Comments in Python\n"
   ]
  },
  {
   "cell_type": "markdown",
   "id": "16f86f78-b802-4300-9398-0e49eb2c4cfb",
   "metadata": {},
   "source": [
    "# Introduction to Python\n",
    "\n",
    "- Python is a high-level programming language\n",
    "- It was created by Guido van Rossum and first released in 1991\n",
    "- It emphasizes code readibility\n",
    "- Its English-like syntax makes it easier to learn"
   ]
  },
  {
   "cell_type": "markdown",
   "id": "14e6466d-cb74-4946-a184-8fea11a259e2",
   "metadata": {},
   "source": [
    "## Development Environments\n",
    "\n",
    "- Text Editor and Command line\n",
    "- Integrated development environment (IDEs), e.g., VS Code\n",
    "- Jupyter Notebooks"
   ]
  },
  {
   "cell_type": "markdown",
   "id": "3d55a6de-a0b6-4e75-9858-8e7149754849",
   "metadata": {},
   "source": [
    "## Common Uses of Python\n",
    "\n",
    "- Data Science and Machine Learning (e.g., Pandas, NumPy, Scikit-learn, TensorFlow)\n",
    "- Science and Engineering (e.g., SciPy, Matplotlib)\n",
    "- Web Development (e.g., Django, Flask)\n",
    "- General Software Development\n",
    "- Automation and Scripting"
   ]
  },
  {
   "cell_type": "markdown",
   "id": "117a14d7-430b-4615-822d-fdc794c149d9",
   "metadata": {},
   "source": [
    "## Key Features\n",
    "\n",
    "- Readability: Its syntax is English-like. e.g. `a = 5 if b == 10 else 0` assigns 5 to `a` if `b` is equal to 5, and assigns 0 to `a` otherwise\n",
    "- Cross-Platform: Can run on Windows, macOS, Linux, and web browsers\n",
    "- Versatility: Usable in a wide variety of applications as listed above\n",
    "- Interpreted: Executes code line by line\n",
    "    - Can use an interfaces like Colab for development\n",
    "    - Can easily check the values of variables during development\n",
    "    - Easier debugging\n",
    "    - Quicker development cycles"
   ]
  },
  {
   "cell_type": "markdown",
   "id": "3ee270b5-4ce1-4cc7-82d9-75cb305ebf2c",
   "metadata": {},
   "source": [
    "## Variables in Python\n",
    "\n",
    "- Variables store and manipulate data in programs\n",
    "- Variables are assigned using the `=` operator"
   ]
  },
  {
   "cell_type": "markdown",
   "id": "ba39618a-9807-4300-8027-9da5182c1429",
   "metadata": {},
   "source": [
    "### Assigning values to variables"
   ]
  },
  {
   "cell_type": "code",
   "execution_count": 22,
   "id": "cb96a830-9ba7-40fa-8e20-8e11956552d7",
   "metadata": {},
   "outputs": [],
   "source": [
    "name = \"Alice\""
   ]
  },
  {
   "cell_type": "markdown",
   "id": "2f04fc7c-2cf2-48b9-9f6f-9e215d149728",
   "metadata": {},
   "source": [
    "### Variable name Rules"
   ]
  },
  {
   "cell_type": "code",
   "execution_count": 24,
   "id": "a43eaa6a-4d24-4d88-abf1-f9116472c2c2",
   "metadata": {},
   "outputs": [],
   "source": [
    "# Must start with a letter or underscore\n",
    "age = 30\n",
    "# Can contain underscores\n",
    "half_age = age / 2 # 15\n",
    "_m = 5 # Starting with an underscore is fine"
   ]
  },
  {
   "cell_type": "code",
   "execution_count": 28,
   "id": "006891cb-126d-45d3-83f9-840b9309a4e2",
   "metadata": {},
   "outputs": [
    {
     "ename": "SyntaxError",
     "evalue": "invalid decimal literal (2339014387.py, line 2)",
     "output_type": "error",
     "traceback": [
      "  \u001b[36mCell\u001b[39m\u001b[36m \u001b[39m\u001b[32mIn[28]\u001b[39m\u001b[32m, line 2\u001b[39m\n\u001b[31m    \u001b[39m\u001b[31m5_number = 5\u001b[39m\n     ^\n\u001b[31mSyntaxError\u001b[39m\u001b[31m:\u001b[39m invalid decimal literal\n"
     ]
    }
   ],
   "source": [
    "# Cannot start with a number\n",
    "5_number = 5 "
   ]
  },
  {
   "cell_type": "code",
   "execution_count": 25,
   "id": "b1b09ad2-a9fb-4c79-b9fd-254f49b79210",
   "metadata": {},
   "outputs": [
    {
     "ename": "SyntaxError",
     "evalue": "invalid syntax (1231319364.py, line 3)",
     "output_type": "error",
     "traceback": [
      "  \u001b[36mCell\u001b[39m\u001b[36m \u001b[39m\u001b[32mIn[25]\u001b[39m\u001b[32m, line 3\u001b[39m\n\u001b[31m    \u001b[39m\u001b[31mif = 5 # cannot be a keyword\u001b[39m\n       ^\n\u001b[31mSyntaxError\u001b[39m\u001b[31m:\u001b[39m invalid syntax\n"
     ]
    }
   ],
   "source": [
    "# Cannot be a python keyword\n",
    "if_x = 5 # can contain keyword\n",
    "if = 5 # cannot be a keyword"
   ]
  },
  {
   "cell_type": "markdown",
   "id": "1587e7a2-eb9c-4c97-b2a4-5cb88b5db42d",
   "metadata": {},
   "source": [
    "Variable names should be descriptive"
   ]
  },
  {
   "cell_type": "code",
   "execution_count": 29,
   "id": "72df3bc5-3f45-48dc-9f82-a0064e1d9635",
   "metadata": {},
   "outputs": [],
   "source": [
    "age = 5\n",
    "half_age = age / 2\n",
    "double_age = age * 2"
   ]
  },
  {
   "cell_type": "markdown",
   "id": "3f2fbf2b-34cb-492d-bd08-679dd479ed9a",
   "metadata": {},
   "source": [
    "### Variables of Different Types\n",
    "\n",
    "- Integers (`int`): Whole numbers without a decimal point (e.g., `42`).\n",
    "- Floating-point numbers (`float`): Numbers that have a decimal point or use exponential (e.g., `1.23`, `3.45e-6`).\n",
    "- Strings (`str`): Textual data enclosed within quotes (`'single'` or `\"double\"`).\n",
    "- Booleans (bool): Represents truth values (`True` or `False`).\n",
    "- Lists (`list`): Ordered collections of items, mutable (e.g., `[1, 2, 3]`).\n",
    "- Tuples (`tuple`): Ordered collections of items, immutable (e.g., `(1, 2)`).\n",
    "- Dictionaries (dict): Unordered collections of key-value pairs (e.g., `{\"name\": \"Alice\"}`)."
   ]
  },
  {
   "cell_type": "code",
   "execution_count": null,
   "id": "660fdcd4-5fea-4539-ad7d-98d2d901b008",
   "metadata": {},
   "outputs": [],
   "source": [
    "age = 30 # Integer\n",
    "average_grade = 85.5 # Float\n",
    "student_name = \"Bob\" # String\n",
    "is_passing = True # Boolean"
   ]
  },
  {
   "cell_type": "markdown",
   "id": "3ef8a120-e095-4c4a-980f-88f9cb82c52e",
   "metadata": {},
   "source": [
    "### Reassigning Variables\n",
    "\n",
    "- We can reassign variables to different values of any type\n",
    "- Python variables are dynamic"
   ]
  },
  {
   "cell_type": "code",
   "execution_count": 5,
   "id": "e6aa5662-843c-4208-a9e2-a362a5d08b6a",
   "metadata": {},
   "outputs": [
    {
     "name": "stdout",
     "output_type": "stream",
     "text": [
      "30\n",
      "thirty\n"
     ]
    }
   ],
   "source": [
    "age = 30\n",
    "print(age)\n",
    "\n",
    "age = \"thirty\"\n",
    "print(age)"
   ]
  },
  {
   "cell_type": "markdown",
   "id": "c35fb360-37b1-4c24-b6c8-ae9c58c363b5",
   "metadata": {},
   "source": [
    "### Printing Variables\n",
    "\n",
    "**print()** function displays the value of a variable"
   ]
  },
  {
   "cell_type": "code",
   "execution_count": 6,
   "id": "da195252-b139-4d49-b849-6c55e47fd953",
   "metadata": {},
   "outputs": [
    {
     "name": "stdout",
     "output_type": "stream",
     "text": [
      "Hello Alice\n"
     ]
    }
   ],
   "source": [
    "name = \"Alice\"\n",
    "print(\"Hello\", name)"
   ]
  },
  {
   "cell_type": "markdown",
   "id": "2af2fae2-8333-40a1-abd2-de4ecd82bfe3",
   "metadata": {},
   "source": [
    "## Comments in Python\n",
    "\n",
    "- Comments are used to\n",
    "    - Explain functionality\n",
    "    - Provide documentation\n",
    "    - Temporarily disable code\n",
    "    - Marking TODO when future improvements are needed\n",
    "    - Debugging\n",
    "- Comments are only useful to the code writer/reader\n",
    "    - Ignored by the computer"
   ]
  },
  {
   "cell_type": "markdown",
   "id": "91ba3275-16c8-46ee-bf65-28adfdb6c64c",
   "metadata": {},
   "source": [
    "### Types of Comments\n",
    "\n",
    "1. Single Line Comments"
   ]
  },
  {
   "cell_type": "code",
   "execution_count": 7,
   "id": "e8210fb1-e913-4cae-ab29-4d0a86825cdf",
   "metadata": {},
   "outputs": [],
   "source": [
    "# This is a single line comment\n",
    "x = 5 # Assigning value 5 to variable x\n",
    "# This is another single line comment. It can be as long as I want it to be"
   ]
  },
  {
   "cell_type": "markdown",
   "id": "f7df4893-0f3f-40e6-b78b-9b0a3dedab6f",
   "metadata": {},
   "source": [
    "2. Multi-line Comments (Docstrings)\n",
    "    - Used for longer comments and explanations\n",
    "    - Common for documenting modules, classes, functions\n",
    "    - Enclosed in triple (`\"\"\"A long comment\"\"\"`) or triple single-quotes (`'''A long comment'''`)"
   ]
  },
  {
   "cell_type": "code",
   "execution_count": 15,
   "id": "a6801f4c-1dfd-4364-a416-b70fe2944586",
   "metadata": {},
   "outputs": [],
   "source": [
    "comment = \"\"\"\n",
    "This is a multi-line comment (docstring).\n",
    "It can span multiple lines and is used for documentation.\n",
    "It can be as long or short as necessary\n",
    "\"\"\"\n",
    "# Assigned to prevent Jupyter from printing it"
   ]
  },
  {
   "cell_type": "markdown",
   "id": "ebe9ba17-667b-4f6a-8e3d-ee005c087d78",
   "metadata": {},
   "source": [
    "### Best practices for Using Comments\n",
    "\n",
    "- Be clear and consise\n",
    "- Keep comments up to date\n",
    "- Don't just repeat what the code does\n",
    "- Use docstrings for longer documentation of classes, functions and methods"
   ]
  },
  {
   "cell_type": "code",
   "execution_count": 16,
   "id": "aa95b46d",
   "metadata": {},
   "outputs": [],
   "source": [
    "# increment x by 1\n",
    "x = x + 1"
   ]
  },
  {
   "cell_type": "markdown",
   "id": "239cb8b1",
   "metadata": {},
   "source": [
    "Bad comment: Repeats what the code does without adding additional context."
   ]
  },
  {
   "cell_type": "code",
   "execution_count": 42,
   "id": "6a1d7e64",
   "metadata": {},
   "outputs": [],
   "source": [
    "# This does stuff\n",
    "total = 42 * 3"
   ]
  },
  {
   "cell_type": "markdown",
   "id": "308c97d3",
   "metadata": {},
   "source": [
    "Bad comment: “Does stuff” gives no insight. Better to explain what or why."
   ]
  },
  {
   "cell_type": "code",
   "execution_count": 43,
   "id": "4fad19bd",
   "metadata": {},
   "outputs": [],
   "source": [
    "# Calculate the area of a square\n",
    "length = 4\n",
    "width = 6\n",
    "area = length * width"
   ]
  },
  {
   "cell_type": "markdown",
   "id": "65fdbffb",
   "metadata": {},
   "source": [
    "Bad comment: The code calculates a rectangle, not a square. Outdated comments are worse than no comments."
   ]
  },
  {
   "cell_type": "code",
   "execution_count": 44,
   "id": "7d81b192-502b-4c6b-975e-41f63c4aa7c5",
   "metadata": {},
   "outputs": [
    {
     "name": "stdout",
     "output_type": "stream",
     "text": [
      "Total price: 104.0\n"
     ]
    }
   ],
   "source": [
    "# Calculate total price including tax for the shopping cart\n",
    "price = 100\n",
    "tax_rate = 0.04  # NY sales tax rate (4%)\n",
    "total_price = price + (price * tax_rate)\n",
    "print(\"Total price:\", total_price)"
   ]
  },
  {
   "cell_type": "markdown",
   "id": "f06db0ad",
   "metadata": {},
   "source": [
    "Good comment: The comments provide additional context that the code alone doesn’t convey."
   ]
  },
  {
   "cell_type": "markdown",
   "id": "44c6427d-85ba-4fba-8dc5-42a73f62fc21",
   "metadata": {},
   "source": [
    "## Homework\n",
    "\n",
    "- Run `print(\"Hello world\")` from the console\n",
    "- Run `print(\"Hello world\")` in Visual Studio Code on your computer.\n",
    "\n",
    "[Tutorial](https://code.visualstudio.com/docs/python/python-tutorial)"
   ]
  }
 ],
 "metadata": {
  "kernelspec": {
   "display_name": "Python 3 (ipykernel)",
   "language": "python",
   "name": "python3"
  },
  "language_info": {
   "codemirror_mode": {
    "name": "ipython",
    "version": 3
   },
   "file_extension": ".py",
   "mimetype": "text/x-python",
   "name": "python",
   "nbconvert_exporter": "python",
   "pygments_lexer": "ipython3",
   "version": "3.13.5"
  }
 },
 "nbformat": 4,
 "nbformat_minor": 5
}
