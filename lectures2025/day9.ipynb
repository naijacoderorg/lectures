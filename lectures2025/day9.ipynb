{
 "cells": [
  {
   "cell_type": "markdown",
   "id": "4a390b3d-27e3-41a7-848f-f675a53c1820",
   "metadata": {},
   "source": [
    "# Day 9: Sorting Algorithms: QuickSort, MergeSort\n",
    "-----------------------------------------------------------\n",
    "\n",
    "## Reflections from Last Day\n",
    "\n",
    "- Sorting Algorithms\n",
    "    - Insertion Sort\n",
    "    - Selection Sort\n",
    "    - Bubble Sort\n",
    "\n",
    "## Exercises from Last Day\n",
    "\n",
    "Implement Bubble Sort to sort a list containing many lists. Every list (including the outermost one) should be sorted.\n",
    "\n",
    "## Agenda for Today\n",
    "\n",
    "- QuickSort\n",
    "- MergeSort"
   ]
  },
  {
   "cell_type": "markdown",
   "id": "d5ed4187-baf6-4402-b367-c3e1f5180968",
   "metadata": {},
   "source": [
    "## QuickSort\n",
    "\n",
    "Quicksort is a highly efficient sorting algorithm and is based on the divide-and-conquer strategy.\n",
    "\n",
    "### Steps\n",
    "\n",
    "Quicksort follows these steps:\n",
    "\n",
    "1. **Choose a Pivot**: Select an element from the array as the pivot. There are various ways to choose a pivot, such as picking\n",
    "\n",
    "    - The first element or\n",
    "    - The last element or\n",
    "    - A random element or\n",
    "    - Using a median-of-three approach.\n",
    "\n",
    "2. **Partitioning**: Rearrange the array so that\n",
    "\n",
    "    - All elements less than the pivot are on the left side of the pivot\n",
    "    - All elements greater than the pivot are on the right side.\n",
    "    - After partitioning, the pivot is in its final sorted position.\n",
    "\n",
    "3. **Recursively Apply**: Recursively apply the above steps to the sub-arrays of elements with smaller and greater values."
   ]
  },
  {
   "cell_type": "markdown",
   "id": "f92c1da7-86c2-4616-86a8-0564f6631c75",
   "metadata": {},
   "source": [
    "\n",
    "### Example\n",
    "\n",
    "Let's sort the array `[10, 80, 30, 90, 40, 50, 70]` using Quicksort:\n",
    "\n",
    "- **Initial Array**: `[10, 80, 30, 90, 40, 50, 70]`\n",
    "\n",
    "1. **Choose Pivot**: Choose `50` as the pivot (could be chosen randomly).\n",
    "\n",
    "2. **Partitioning**:\n",
    "   - After partitioning around the pivot `50`, the array might look like [10, 30, 40, **50**, 80, 90, 70].\n",
    "   - Elements less than `50` are on the left (`[10, 30, 40]`), and elements greater than `50` are on the right (`[80, 90, 70]`).\n",
    "\n",
    "3. **Recursively Sort**:\n",
    "   - Apply Quicksort recursively\n",
    "   - the left sub-array ([**10**, 30, 40])\n",
    "       - [10, 30, 40]\n",
    "   - the right sub-array ([**80**, 90, 70])\n",
    "       - [[70, 80, 90] \n",
    "\n",
    "4. **Final Sorted Array**: After all recursive calls, the array becomes `[10, 30, 40, 50, 70, 80, 90]`."
   ]
  },
  {
   "cell_type": "markdown",
   "id": "763fc04a-b23a-4417-8fd0-d52010074159",
   "metadata": {},
   "source": [
    "### Implementation (Python)"
   ]
  },
  {
   "cell_type": "code",
   "execution_count": 40,
   "id": "f68bfd89-b08d-4c3d-9d31-b70ede719450",
   "metadata": {},
   "outputs": [
    {
     "name": "stdout",
     "output_type": "stream",
     "text": [
      "Sorted array: [10, 30, 40, 50, 70, 80, 90]\n"
     ]
    }
   ],
   "source": [
    "def quicksort(arr):\n",
    "    if len(arr) <= 1:\n",
    "        return arr\n",
    "    \n",
    "    pivot = arr[len(arr) // 2]  # Choosing the middle element as pivot\n",
    "    left = [x for x in arr if x < pivot]\n",
    "    middle = [x for x in arr if x == pivot]\n",
    "    right = [x for x in arr if x > pivot]\n",
    "    \n",
    "    return quicksort(left) + middle + quicksort(right)\n",
    "\n",
    "# Example usage:\n",
    "arr = [10, 80, 30, 90, 40, 50, 70]\n",
    "sorted_arr = quicksort(arr)\n",
    "print(\"Sorted array:\", sorted_arr)"
   ]
  },
  {
   "cell_type": "code",
   "execution_count": 46,
   "id": "c781eeee-a3e5-4fb6-9927-43fd93090793",
   "metadata": {},
   "outputs": [
    {
     "name": "stdout",
     "output_type": "stream",
     "text": [
      "\n",
      " input:[10, 80, 30, 90, 40, 50, 70]\n",
      " pivot:[10, 80, 30, 40, 50, 70, **90**, ]\n",
      "\n",
      "  input:[10, 80, 30, 40, 50, 70]\n",
      "  pivot:[10, 30, **40**, 80, 50, 70]\n",
      "\n",
      "   input:[10, 30]\n",
      "   pivot:[10, **30**, ]\n",
      "   output:[10, 30]\n",
      "\n",
      "\n",
      "   input:[80, 50, 70]\n",
      "   pivot:[, **50**, 80, 70]\n",
      "\n",
      "    input:[80, 70]\n",
      "    pivot:[, **70**, 80]\n",
      "    output:[70, 80]\n",
      "\n",
      "   output:[50, 70, 80]\n",
      "\n",
      "  output:[10, 30, 40, 50, 70, 80]\n",
      "\n",
      " output:[10, 30, 40, 50, 70, 80, 90]\n",
      "\n",
      "Sorted array: [10, 30, 40, 50, 70, 80, 90]\n"
     ]
    }
   ],
   "source": [
    "# example with print and pivot selection\n",
    "import random\n",
    "def quicksort2(arr, pivot_sel=\"middle\", level=0):\n",
    "    if len(arr) <= 1:\n",
    "        return arr\n",
    "\n",
    "    print(f\"\\n{level*' '} input:[{', '.join(map(str, arr))}]\")\n",
    "\n",
    "    if pivot_sel == \"middle\":\n",
    "        pivot = arr[len(arr) // 2]  # Choosing the middle element as pivot\n",
    "    elif pivot_sel == \"first\":\n",
    "        pivot = arr[0]\n",
    "    elif pivot_sel == \"last\":\n",
    "        pivot = arr[-1]\n",
    "    elif pivot_sel == \"random\":\n",
    "        pivot = arr[random.randint(0, len(arr)-1)]\n",
    "    else:\n",
    "        raise ValueError(f\"Invalid pivot {pivot_sel}\")\n",
    "    \n",
    "    left = [x for x in arr if x < pivot]\n",
    "    middle = [x for x in arr if x == pivot]\n",
    "    right = [x for x in arr if x > pivot]\n",
    "\n",
    "    print(f\"{level*' '} pivot:[{', '.join(map(str, left))}, **{middle[0]}**, {', '.join(map(str, right))}]\")\n",
    "    \n",
    "    result = quicksort2(left, pivot_sel, level+1) + middle + quicksort2(right, pivot_sel, level+1)\n",
    "    print(f\"{level*' '} output:[{', '.join(map(str, result))}]\\n\")\n",
    "    return result\n",
    "\n",
    "# Example usage:\n",
    "arr = [10, 80, 30, 90, 40, 50, 70]\n",
    "sorted_arr = quicksort2(arr)\n",
    "print(\"Sorted array:\", sorted_arr)"
   ]
  },
  {
   "cell_type": "markdown",
   "id": "4f6f134c-d54c-4059-a9e8-dd852c4906e7",
   "metadata": {},
   "source": [
    "- **Time Complexity**: \n",
    "  - $O(n \\log n)$ on average, where $n$ is the number of elements.\n",
    "  - $O(n^2)$ in the worst-case scenario (rare), typically when the pivot selection is poor (e.g., already sorted array).\n",
    "Mathematically:\n",
    "   -  Outer loop will be on average $\\log(n)$ for sorted array, $n$ for unsorted array, first element pivot\n",
    "   -  Inner loop is on order $n$\n",
    "   -  Average = $O(n*\\log(n))$ and worst-case $O(n*n)$\n",
    "- **Space Complexity**: $O(\\log n)$ additional space for the recursive call stack."
   ]
  },
  {
   "cell_type": "code",
   "execution_count": 48,
   "id": "6c967c05-4f37-4f21-9f1f-f278a96e529a",
   "metadata": {},
   "outputs": [
    {
     "name": "stdout",
     "output_type": "stream",
     "text": [
      "Note number of output steps using middle is 5 for unsorted\n",
      "\n",
      " input:[10, 80, 30, 90, 40, 50, 70]\n",
      " pivot:[10, 80, 30, 40, 50, 70, **90**, ]\n",
      "\n",
      "  input:[10, 80, 30, 40, 50, 70]\n",
      "  pivot:[10, 30, **40**, 80, 50, 70]\n",
      "\n",
      "   input:[10, 30]\n",
      "   pivot:[10, **30**, ]\n",
      "   output:[10, 30]\n",
      "\n",
      "\n",
      "   input:[80, 50, 70]\n",
      "   pivot:[, **50**, 80, 70]\n",
      "\n",
      "    input:[80, 70]\n",
      "    pivot:[, **70**, 80]\n",
      "    output:[70, 80]\n",
      "\n",
      "   output:[50, 70, 80]\n",
      "\n",
      "  output:[10, 30, 40, 50, 70, 80]\n",
      "\n",
      " output:[10, 30, 40, 50, 70, 80, 90]\n",
      "\n",
      "Note number of output steps using middle is 3 for sorted\n",
      "\n",
      " input:[10, 30, 40, 50, 70, 80, 90]\n",
      " pivot:[10, 30, 40, **50**, 70, 80, 90]\n",
      "\n",
      "  input:[10, 30, 40]\n",
      "  pivot:[10, **30**, 40]\n",
      "  output:[10, 30, 40]\n",
      "\n",
      "\n",
      "  input:[70, 80, 90]\n",
      "  pivot:[70, **80**, 90]\n",
      "  output:[70, 80, 90]\n",
      "\n",
      " output:[10, 30, 40, 50, 70, 80, 90]\n",
      "\n",
      "Note number of output steps using first is 6 for sorted\n",
      "\n",
      " input:[10, 30, 40, 50, 70, 80, 90]\n",
      " pivot:[, **10**, 30, 40, 50, 70, 80, 90]\n",
      "\n",
      "  input:[30, 40, 50, 70, 80, 90]\n",
      "  pivot:[, **30**, 40, 50, 70, 80, 90]\n",
      "\n",
      "   input:[40, 50, 70, 80, 90]\n",
      "   pivot:[, **40**, 50, 70, 80, 90]\n",
      "\n",
      "    input:[50, 70, 80, 90]\n",
      "    pivot:[, **50**, 70, 80, 90]\n",
      "\n",
      "     input:[70, 80, 90]\n",
      "     pivot:[, **70**, 80, 90]\n",
      "\n",
      "      input:[80, 90]\n",
      "      pivot:[, **80**, 90]\n",
      "      output:[80, 90]\n",
      "\n",
      "     output:[70, 80, 90]\n",
      "\n",
      "    output:[50, 70, 80, 90]\n",
      "\n",
      "   output:[40, 50, 70, 80, 90]\n",
      "\n",
      "  output:[30, 40, 50, 70, 80, 90]\n",
      "\n",
      " output:[10, 30, 40, 50, 70, 80, 90]\n",
      "\n"
     ]
    }
   ],
   "source": [
    "# Example usage:\n",
    "arr = [10, 80, 30, 90, 40, 50, 70]\n",
    "print(\"Note number of output steps using middle is 5 for unsorted\")\n",
    "sorted_arr = quicksort2(arr)\n",
    "print(\"Note number of output steps using middle is 3 for sorted\")\n",
    "quicksort2(sorted_arr, \"middle\") # Lower steps\n",
    "print(\"Note number of output steps using first is 6 for sorted\")\n",
    "quicksort2(sorted_arr, \"first\"); # More steps"
   ]
  },
  {
   "cell_type": "markdown",
   "id": "968f01d4-19b4-4c65-aa0e-c223b286c284",
   "metadata": {},
   "source": [
    "### Summary\n",
    "Quicksort is widely used due to its average-case time complexity of $O(n \\log n)$, which makes it suitable for sorting large datasets efficiently. However, care must be taken with its implementation to avoid worst-case scenarios and ensure optimal performance."
   ]
  },
  {
   "cell_type": "markdown",
   "id": "eb4ab01e-afb0-4af6-b983-127f4b7b13b9",
   "metadata": {},
   "source": [
    "## Merge Sort\n",
    "\n",
    "### Description\n",
    "Merge Sort is a divide-and-conquer algorithm that is known for its stable sorting behavior and consistent $O(n \\log n)$ time complexity.\n"
   ]
  },
  {
   "cell_type": "markdown",
   "id": "8d5ceda8-5f5a-4c16-a08a-a5fbdaf2d46b",
   "metadata": {},
   "source": [
    "### Steps\n",
    "\n",
    "Here's a high-level breakdown of how Merge Sort works:\n",
    "\n",
    "- **1**: Divide the array into two halves.\n",
    "- **2**: Recursively divide each half until each sub-array contains only one element (base case).\n",
    "- **3**: Merge the sorted sub-arrays back together:\n",
    "  - Compare the elements from each sub-array and place them in order in a temporary array.\n",
    "  - Continue merging until all elements are sorted and merged into a single sorted array."
   ]
  },
  {
   "cell_type": "markdown",
   "id": "152af6ca-dd98-4931-bd28-cfb607bf976f",
   "metadata": {},
   "source": [
    "### Example\n",
    "\n",
    "Let's sort the array `[38, 27, 43, 3, 9, 82, 10]` using Merge Sort:\n",
    "\n",
    "- **Initial Array**: `[38, 27, 43, 3, 9, 82, 10]`\n",
    "\n",
    "1. **Divide**:\n",
    "   - Divide the array into two halves: `[38, 27, 43, 3]` and `[9, 82, 10]`.\n",
    "\n",
    "2. **Recursively Sort**:\n",
    "   - Divide further until each sub-array contains only one element: `[38]`, `[27]`, `[43]`, `[3]`, `[9]`, `[82]`, `[10]`.\n",
    "\n",
    "3. **Merge**:\n",
    "   - Merge pairs of sub-arrays:\n",
    "     - Merge `[38]` and `[27]` to `[27, 38]`.\n",
    "     - Merge `[43]` and `[3]` to `[3, 43]`.\n",
    "     - Merge `[9]` and `[82]` to `[9, 82]`.\n",
    "     - Merge `[10]` with the already merged `[3, 43]` to `[3, 10, 43]`.\n",
    "   - Merge the remaining sub-arrays until the entire array is sorted: `[3, 9, 10, 27, 38, 43, 82]`."
   ]
  },
  {
   "cell_type": "markdown",
   "id": "3ea18213-08f9-47a7-9ac9-18d980ade259",
   "metadata": {},
   "source": [
    "### Implementation (Python)"
   ]
  },
  {
   "cell_type": "code",
   "execution_count": 54,
   "id": "e0ca7883-484a-49ca-95a0-7bb3040aaf94",
   "metadata": {},
   "outputs": [
    {
     "name": "stdout",
     "output_type": "stream",
     "text": [
      "Sorted array: [3, 9, 10, 27, 38, 43, 82]\n"
     ]
    }
   ],
   "source": [
    "def merge_sort(arr):\n",
    "    if len(arr) <= 1:\n",
    "        return arr\n",
    "    \n",
    "    # Divide the array into two halves\n",
    "    mid = len(arr) // 2\n",
    "    left_half = arr[:mid]\n",
    "    right_half = arr[mid:]\n",
    "    \n",
    "    # Recursively sort each half\n",
    "    left_half = merge_sort(left_half)\n",
    "    right_half = merge_sort(right_half)\n",
    "    \n",
    "    # Merge the sorted halves\n",
    "    return merge(left_half, right_half)\n",
    "\n",
    "def merge(left, right):\n",
    "    sorted_arr = []\n",
    "    i = j = 0\n",
    "    \n",
    "    # Compare elements from left and right sub-arrays\n",
    "    while i < len(left) and j < len(right):\n",
    "        if left[i] <= right[j]:\n",
    "            sorted_arr.append(left[i])\n",
    "            i += 1\n",
    "        else:\n",
    "            sorted_arr.append(right[j])\n",
    "            j += 1\n",
    "    \n",
    "    # Append remaining elements\n",
    "    sorted_arr.extend(left[i:])\n",
    "    sorted_arr.extend(right[j:])\n",
    "    \n",
    "    return sorted_arr\n",
    "\n",
    "# Example usage:\n",
    "arr = [38, 27, 43, 3, 9, 82, 10]\n",
    "sorted_arr = merge_sort(arr)\n",
    "print(\"Sorted array:\", sorted_arr)"
   ]
  },
  {
   "cell_type": "code",
   "execution_count": 55,
   "id": "ebb6ebb4-3ad5-488b-9465-c4913eb003b9",
   "metadata": {},
   "outputs": [
    {
     "name": "stdout",
     "output_type": "stream",
     "text": [
      "\n",
      " input:[38, 27, 43, 3, 9, 82, 10]\n",
      " pivot:[38, 27, 43, **3**, 3, 9, 82, 10]\n",
      "\n",
      "  input:[38, 27, 43]\n",
      "  pivot:[38, **1**, 27, 43]\n",
      "\n",
      "   input:[27, 43]\n",
      "   pivot:[27, **1**, 43]\n",
      "   output:[27, 43]\n",
      "\n",
      "  output:[27, 38, 43]\n",
      "\n",
      "\n",
      "  input:[3, 9, 82, 10]\n",
      "  pivot:[3, 9, **2**, 82, 10]\n",
      "\n",
      "   input:[3, 9]\n",
      "   pivot:[3, **1**, 9]\n",
      "   output:[3, 9]\n",
      "\n",
      "\n",
      "   input:[82, 10]\n",
      "   pivot:[82, **1**, 10]\n",
      "   output:[10, 82]\n",
      "\n",
      "  output:[3, 9, 10, 82]\n",
      "\n",
      " output:[3, 9, 10, 27, 38, 43, 82]\n",
      "\n"
     ]
    },
    {
     "data": {
      "text/plain": [
       "[3, 9, 10, 27, 38, 43, 82]"
      ]
     },
     "execution_count": 55,
     "metadata": {},
     "output_type": "execute_result"
    }
   ],
   "source": [
    "# Implementation with print trace\n",
    "\n",
    "def merge_sort2(arr, level=0):\n",
    "    if len(arr) <= 1:\n",
    "        return arr\n",
    "    \n",
    "    print(f\"\\n{level*' '} input:[{', '.join(map(str, arr))}]\")\n",
    "    # Divide the array into two halves\n",
    "    mid = len(arr) // 2\n",
    "    left_half = arr[:mid]\n",
    "    right_half = arr[mid:]\n",
    "\n",
    "    print(f\"{level*' '} pivot:[{', '.join(map(str, left_half))}, **{mid}**, {', '.join(map(str, right_half))}]\")\n",
    "    \n",
    "    # Recursively sort each half\n",
    "    left_half = merge_sort2(left_half, level+1)\n",
    "    right_half = merge_sort2(right_half, level+1)\n",
    "    \n",
    "    # Merge the sorted halves\n",
    "    result = merge(left_half, right_half)\n",
    "    print(f\"{level*' '} output:[{', '.join(map(str, result))}]\\n\")\n",
    "    return result\n",
    "\n",
    "arr = [38, 27, 43, 3, 9, 82, 10]\n",
    "merge_sort2(arr)"
   ]
  },
  {
   "cell_type": "markdown",
   "id": "3f6d5e09-f640-4bbd-b8fe-fa2eefac1bd0",
   "metadata": {},
   "source": [
    "- **Time Complexity**: $O(n \\log n)$ in all cases (worst-case, average-case, and best-case scenarios).\n",
    "Analysis similar to QuickSort except worst case is avoided\n",
    "- **Space Complexity**: $O(n)$ additional space for the temporary array used in merging."
   ]
  },
  {
   "cell_type": "markdown",
   "id": "0791ba58-2cd5-4b0a-8bdf-adf9ec114ddb",
   "metadata": {},
   "source": [
    "### Summary\n",
    "Merge Sort is efficient and stable, making it a popular choice for sorting large datasets where stability and predictable performance are important considerations."
   ]
  }
 ],
 "metadata": {
  "kernelspec": {
   "display_name": "Python 3 (ipykernel)",
   "language": "python",
   "name": "python3"
  },
  "language_info": {
   "codemirror_mode": {
    "name": "ipython",
    "version": 3
   },
   "file_extension": ".py",
   "mimetype": "text/x-python",
   "name": "python",
   "nbconvert_exporter": "python",
   "pygments_lexer": "ipython3",
   "version": "3.13.5"
  }
 },
 "nbformat": 4,
 "nbformat_minor": 5
}
