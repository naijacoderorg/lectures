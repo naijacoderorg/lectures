{
 "cells": [
  {
   "cell_type": "markdown",
   "id": "047eb610-a4d8-4941-a1b2-c29201d16fec",
   "metadata": {},
   "source": [
    "# Day 3: For Loops and Recursion\n",
    "----------------------------------"
   ]
  },
  {
   "cell_type": "markdown",
   "id": "ad9e59b9-2dc2-4f11-a5dc-20b716b7564a",
   "metadata": {},
   "source": [
    "### Reflection from Yesterday\n",
    "\n",
    "- Python Types\n",
    "- Python Functions"
   ]
  },
  {
   "cell_type": "markdown",
   "id": "fb824b6c-92a3-4894-9525-7a5b62f7c55b",
   "metadata": {},
   "source": [
    "### Exercises Review\n",
    "\n",
    "- Write a function decorator that records the return values of all functions it wraps, storing them in a dictionary by function name."
   ]
  },
  {
   "cell_type": "markdown",
   "id": "6e295584-c6a4-4b5d-b2c4-4b7dddc4ee59",
   "metadata": {},
   "source": [
    "## Agenda for Day 3:\n",
    "------------------------\n",
    "\n",
    "- More `for` Loops\n",
    "- The `range` Function\n",
    "- `while` Loops"
   ]
  },
  {
   "cell_type": "markdown",
   "id": "25368837-3268-4ec4-a8af-9a0122f7adcf",
   "metadata": {},
   "source": [
    "## For Loops\n",
    "\n",
    "In Python, `for` loops are used to iterate over a sequence of items, such as elements in a list, characters in a string, or any iterable object. Here’s an introduction to `for` loops in Python, including basic syntax, examples of usage, and common patterns.\n",
    "\n",
    "### Basic Syntax\n",
    "\n",
    "The general syntax of a `for` loop in Python is straightforward:\n",
    "\n",
    "```python\n",
    "for item in iterable:\n",
    "    # Do something with each item\n",
    "    print(item)\n",
    "```\n",
    "\n",
    "- **`item`**: This variable represents the current item in the iteration. You can name it anything you like.\n",
    "- **`iterable`**: This is the collection of items over which the loop iterates. It can be a list, tuple, string, range, or any iterable object.\n",
    "\n",
    "#### Example: Iterating over a list of numbers\n"
   ]
  },
  {
   "cell_type": "code",
   "execution_count": 1,
   "id": "88766a72-c6e1-4af7-9ff5-eb7dcc68768f",
   "metadata": {},
   "outputs": [
    {
     "name": "stdout",
     "output_type": "stream",
     "text": [
      "1\n",
      "2\n",
      "3\n",
      "4\n",
      "5\n"
     ]
    }
   ],
   "source": [
    "# Iterate over a list of numbers and print each one\n",
    "numbers = [1, 2, 3, 4, 5]\n",
    "for num in numbers:\n",
    "    print(num)"
   ]
  },
  {
   "cell_type": "markdown",
   "id": "44071fb2-2b0e-4b75-839a-74936102d8f6",
   "metadata": {},
   "source": [
    "#### Example: Iterating over a String"
   ]
  },
  {
   "cell_type": "code",
   "execution_count": 2,
   "id": "55b4b7fa-f4e1-47ae-bab5-0eedd87d13cd",
   "metadata": {},
   "outputs": [
    {
     "name": "stdout",
     "output_type": "stream",
     "text": [
      "H\n",
      "e\n",
      "l\n",
      "l\n",
      "o\n"
     ]
    }
   ],
   "source": [
    "# Iterate over each character in a string and print it\n",
    "message = \"Hello\"\n",
    "for char in message:\n",
    "    print(char)"
   ]
  },
  {
   "cell_type": "markdown",
   "id": "7a31224a-82c8-48c5-ae5b-bdd2d5567656",
   "metadata": {},
   "source": [
    "### `range` Function\n",
    "\n",
    "The basic syntax of the `range()` function is:\n",
    "\n",
    "```python\n",
    "range(start, stop, step)\n",
    "```\n",
    "\n",
    "- **`start`**: Optional. The starting value of the sequence. Default is `0`.\n",
    "- **`stop`**: Required. The ending value of the sequence (exclusive).\n",
    "- **`step`**: Optional. The step or increment between each number in the sequence. Default is `1`.\n",
    "\n",
    "#### Example 1: Using `range()` with one argument\n",
    "\n",
    "\n",
    "When only one argument is provided, `range(stop)`, the sequence starts from `0` and ends at `stop - 1`."
   ]
  },
  {
   "cell_type": "code",
   "execution_count": 3,
   "id": "f04cac9b-ae47-4257-b0f4-712fc5d2594d",
   "metadata": {},
   "outputs": [
    {
     "name": "stdout",
     "output_type": "stream",
     "text": [
      "0\n",
      "1\n",
      "2\n",
      "3\n",
      "4\n"
     ]
    }
   ],
   "source": [
    "for i in range(5):\n",
    "    print(i)"
   ]
  },
  {
   "cell_type": "markdown",
   "id": "3f2a43e3-bc52-4ac3-96ca-dcbf4d931383",
   "metadata": {},
   "source": [
    "#### Example 2: Using `range()` with two arguments\n",
    "\n",
    "When two arguments are provided, `range(start, stop)`, the sequence starts from `start` and ends at `stop - 1`."
   ]
  },
  {
   "cell_type": "code",
   "execution_count": 4,
   "id": "66f53206-b87d-4e2d-adba-2343c21ec568",
   "metadata": {},
   "outputs": [
    {
     "name": "stdout",
     "output_type": "stream",
     "text": [
      "2\n",
      "3\n",
      "4\n",
      "5\n",
      "6\n"
     ]
    }
   ],
   "source": [
    "# Example using range(start, stop)\n",
    "for i in range(2, 7):\n",
    "    print(i)"
   ]
  },
  {
   "cell_type": "markdown",
   "id": "5957f300-34b9-4e69-8153-d8a4ce983132",
   "metadata": {},
   "source": [
    "#### Example 3: Using `range()` with three arguments\n",
    "\n",
    "When three arguments are provided, `range(start, stop, step)`, the sequence starts from `start`, ends at `stop - 1`, and increments by `step`."
   ]
  },
  {
   "cell_type": "code",
   "execution_count": 5,
   "id": "e44c4bbe-d2c6-48bd-848a-70e729ccde26",
   "metadata": {},
   "outputs": [
    {
     "name": "stdout",
     "output_type": "stream",
     "text": [
      "1\n",
      "3\n",
      "5\n",
      "7\n",
      "9\n"
     ]
    }
   ],
   "source": [
    "# Example using range(start, stop, step)\n",
    "for i in range(1, 10, 2):\n",
    "    print(i)"
   ]
  },
  {
   "cell_type": "markdown",
   "id": "5ae33a69-9803-4a19-bc4b-c2f2d0cad9aa",
   "metadata": {},
   "source": [
    "### Negative Step with `range()`\n",
    "\n",
    "You can use a negative step to generate numbers in reverse order:"
   ]
  },
  {
   "cell_type": "code",
   "execution_count": 6,
   "id": "dd2e2408-9b43-4f27-94fb-c5f883f7dd52",
   "metadata": {},
   "outputs": [
    {
     "name": "stdout",
     "output_type": "stream",
     "text": [
      "10\n",
      "8\n",
      "6\n",
      "4\n",
      "2\n"
     ]
    }
   ],
   "source": [
    "# Using negative step\n",
    "for i in range(10, 0, -2):\n",
    "    print(i)"
   ]
  },
  {
   "cell_type": "markdown",
   "id": "4186cfd9-415e-4502-b27a-e96e32684467",
   "metadata": {},
   "source": [
    "### `break` and `continue` Statements\n",
    "\n",
    "- `break`: Exits the loop immediately.\n",
    "- `continue`: Skips the current iteration and moves to the next."
   ]
  },
  {
   "cell_type": "code",
   "execution_count": 7,
   "id": "08d7df5b-1e33-4c72-917e-d34661da5259",
   "metadata": {},
   "outputs": [
    {
     "name": "stdout",
     "output_type": "stream",
     "text": [
      "1\n",
      "2\n"
     ]
    }
   ],
   "source": [
    "# Using break in a loop\n",
    "numbers = [1, 2, 3, 4, 5]\n",
    "for num in numbers:\n",
    "    if num == 3:\n",
    "        break\n",
    "    print(num)"
   ]
  },
  {
   "cell_type": "code",
   "execution_count": 8,
   "id": "c113eb08-ea5b-4e92-8be0-51c1bab3de26",
   "metadata": {},
   "outputs": [
    {
     "name": "stdout",
     "output_type": "stream",
     "text": [
      "1\n",
      "2\n",
      "4\n",
      "5\n"
     ]
    }
   ],
   "source": [
    "# Using continue in a loop\n",
    "numbers = [1, 2, 3, 4, 5]\n",
    "for num in numbers:\n",
    "    if num == 3:\n",
    "        continue\n",
    "    print(num)"
   ]
  },
  {
   "cell_type": "markdown",
   "id": "741dd7bb-0913-47ba-81df-0c6d19a8e72d",
   "metadata": {},
   "source": [
    "### Nested `for` Loops\n",
    "\n",
    "You can nest `for` loops to iterate over multiple sequences or create patterns:"
   ]
  },
  {
   "cell_type": "code",
   "execution_count": 9,
   "id": "9e69fc04-747b-4406-b65e-fe8201a6d436",
   "metadata": {},
   "outputs": [
    {
     "name": "stdout",
     "output_type": "stream",
     "text": [
      "1 8\n",
      "1 9\n",
      "1 10\n",
      "1 11\n",
      "2 8\n",
      "2 9\n",
      "2 10\n",
      "2 11\n",
      "3 8\n",
      "3 9\n",
      "3 10\n",
      "3 11\n"
     ]
    }
   ],
   "source": [
    "# Nested for loops\n",
    "for i in range(1, 4):\n",
    "    for j in range(8, 12):\n",
    "        print(i, j)"
   ]
  },
  {
   "cell_type": "markdown",
   "id": "452f92e4-54b5-422a-ae42-98dcfb6ea306",
   "metadata": {},
   "source": [
    "### Using `enumerate` for Index and Value\n",
    "\n",
    "`enumerate()` lets you loop over an iterable while keeping track of the index and the item at the same time."
   ]
  },
  {
   "cell_type": "code",
   "execution_count": 10,
   "id": "178ca325-0185-44cf-b9b8-9ae363629ad6",
   "metadata": {},
   "outputs": [
    {
     "name": "stdout",
     "output_type": "stream",
     "text": [
      "Element 0 is hello\n",
      "Element 1 is (1, 2, 3)\n",
      "Element 2 is ['a', 'b', 'c']\n"
     ]
    }
   ],
   "source": [
    "nested_tuple = ('hello', (1, 2, 3), ['a', 'b', 'c'])\n",
    "for element_count, element in enumerate(nested_tuple):\n",
    "    print(f\"Element {element_count} is {element}\")"
   ]
  },
  {
   "cell_type": "markdown",
   "id": "95f9c845-f1ff-46e3-8336-7d38e211a2e8",
   "metadata": {},
   "source": [
    "### Iterating Over Multiple Lists with `zip`\n",
    "\n",
    "You can use `zip` to iterate over multiple lists simultaneously:"
   ]
  },
  {
   "cell_type": "code",
   "execution_count": 11,
   "id": "06438688-c0db-4ae4-a8b4-c678256ac87c",
   "metadata": {},
   "outputs": [
    {
     "name": "stdout",
     "output_type": "stream",
     "text": [
      "Alice is 25 years old\n",
      "Bob is 30 years old\n",
      "Charlie is 35 years old\n"
     ]
    }
   ],
   "source": [
    "# Using zip to iterate over multiple lists\n",
    "names = ['Alice', 'Bob', 'Charlie']\n",
    "ages = [25, 30, 35]\n",
    "for name, age in zip(names, ages):\n",
    "    print(f\"{name} is {age} years old\")"
   ]
  },
  {
   "cell_type": "markdown",
   "id": "896e4ec6-17a0-4851-bba5-a45300b1b762",
   "metadata": {},
   "source": [
    "### Conclusion\n",
    "\n",
    "`for` loops are fundamental in Python for iterating over sequences and collections of data. They provide a concise way to perform repetitive tasks and are flexible enough to handle various types of data structures and iterations. Understanding these basics is crucial for effective programming in Python.\n"
   ]
  },
  {
   "cell_type": "markdown",
   "id": "26d9e37a-b3e7-44ad-86b9-2285e025b8e4",
   "metadata": {},
   "source": [
    "### For Loop Exercises\n",
    "\n",
    "1. Convert the string `\"12345\"` into a Python list `[1, 2, 3, 4, 5]`, and convert it back. Wrap the logic in a function.\n",
    "2. Write a function to add up the ASCII values of characters in each of the following strings: `\"Nigeria\"`, `\"USA\"`, `\"Africa\"`, `\"Botswana\"`, `\"Traveler\"`, `\"misc\"`, `\"madam\"`, `\"@tuv\"`.\n",
    "3. Write a function that checks if a number is even.\n",
    "4. Write a function that checks if a number is odd.\n",
    "5. Write a function that checks if a number `n` is divisible by another number `t`.\n",
    "6. Write a function that returns `True` only if a number is a prime.\n",
    "7. Write a function that returns the prime factors of a number.\n",
    "8. Write a function that sums all the prime numbers in a list.\n",
    "9. Write a function that reverses a string and shifts each character:  \n",
    "   - Example: `\"abcdef\"` → `\"gfedcb\"`, `\"123abc\"` → `\"dcb432\"`"
   ]
  },
  {
   "cell_type": "markdown",
   "id": "ecddfba7-c728-4831-a4ad-01d434119470",
   "metadata": {},
   "source": [
    "### `while` Loops\n",
    "\n",
    "The `while` loop in Python repeatedly executes a block of code as long as a specified condition is `True`. It follows this basic syntax:\n",
    "\n",
    "```python\n",
    "while condition:\n",
    "    # Code block to execute as long as condition is True\n",
    "    statement(s)\n",
    "```\n",
    "\n",
    "**`condition`**: This is an expression evaluated before each iteration. If `True`, the loop continues; if `False`, the loop terminates.\n",
    "\n",
    "\n",
    "#### Example of `while` Loop:\n"
   ]
  },
  {
   "cell_type": "code",
   "execution_count": 12,
   "id": "0325f970-aed1-489e-b7ae-f277e72ac2ed",
   "metadata": {},
   "outputs": [
    {
     "name": "stdout",
     "output_type": "stream",
     "text": [
      "0\n",
      "1\n",
      "2\n",
      "3\n",
      "4\n"
     ]
    }
   ],
   "source": [
    "count = 0\n",
    "while count < 5:\n",
    "    print(count)\n",
    "    count += 1"
   ]
  },
  {
   "cell_type": "markdown",
   "id": "b0ec1ec9-db7f-4ef5-be32-22f392ec354e",
   "metadata": {},
   "source": [
    "### `break` and `continue` Statements\n",
    "\n",
    "You can also use `break` to exit the loop prematurely and `continue` to skip the current iteration:"
   ]
  },
  {
   "cell_type": "code",
   "execution_count": 13,
   "id": "a34dc892-f886-4fcd-9714-194e6b13ed0e",
   "metadata": {},
   "outputs": [
    {
     "name": "stdout",
     "output_type": "stream",
     "text": [
      "0\n",
      "1\n",
      "2\n",
      "3\n",
      "4\n",
      "5\n"
     ]
    }
   ],
   "source": [
    "# Using break in a loop\n",
    "\n",
    "def print_to_max(max_number):\n",
    "    count = 0\n",
    "    while True:\n",
    "        if count > max_number:\n",
    "            break\n",
    "        print(count)\n",
    "        count = count + 1 # or count += 1\n",
    "\n",
    "print_to_max(5)"
   ]
  },
  {
   "cell_type": "code",
   "execution_count": 14,
   "id": "971ed278-8f59-480f-80ea-a44fd3b7eca8",
   "metadata": {},
   "outputs": [
    {
     "name": "stdout",
     "output_type": "stream",
     "text": [
      "1\n",
      "3\n",
      "5\n",
      "7\n"
     ]
    }
   ],
   "source": [
    "def skip_evens(max_number):\n",
    "    count = 0\n",
    "    while True:\n",
    "        if count > max_number:\n",
    "            break\n",
    "        if count % 2 == 0:\n",
    "            count += 1\n",
    "            continue\n",
    "        print(count)\n",
    "        count += 1\n",
    "        \n",
    "\n",
    "skip_evens(8)"
   ]
  },
  {
   "cell_type": "markdown",
   "id": "b70c90e2-d24c-4215-b779-ff7c94105d12",
   "metadata": {},
   "source": [
    "### More Loop Exercises\n",
    "\n",
    "1. **Sum of Numbers**: Write a function that calculates the sum of all numbers from 1 to `n` using a `for` loop.\n",
    "\n",
    "2. **Even Numbers**: Write a function that prints all even numbers from 1 to `n` using a `for` loop.\n",
    "\n",
    "3. **Factorial**: Write a function to compute the factorial of a number `n` using a `for` loop.\n",
    "\n",
    "4. **Printing Patterns**: Write a program to print the following pattern using nested `for` loops:\n",
    "   ```\n",
    "   *\n",
    "   * *\n",
    "   * * *\n",
    "   * * * *\n",
    "   * * * * *\n",
    "   ```\n",
    "\n",
    "5. **Fibonacci Sequence**: Write a function to print the first `n` numbers in the Fibonacci sequence using a `for` loop.\n",
    "\n",
    "6. **List Comprehension**: Convert a list of integers into their squares using list comprehension and print the result.\n",
    "\n",
    "7. **Multiplication Table**: Write a function that prints the multiplication table (up to 10) using nested `for` loops.\n",
    "\n",
    "8. **Prime Numbers**: Write a function to print all prime numbers up to `n` using a `for` loop and a helper function.\n",
    "\n",
    "9. **Character Pyramid**: Write a function that prints a pyramid of characters up to a given height `n` using nested `for` loops.\n",
    "\n",
    "10. **Countdown**: Write a function that counts down from 10 to 1 using `for` and `while` loops.\n",
    "\n",
    "11. **Sum of Squares**: Write a function to calculate the sum of squares of all\n",
    "    numbers from 1 to `n` using `for` and `while` loops.\n",
    "\n",
    "12. **Reverse String**: Write a function that reverses a given string using\n",
    "    `while` and `for` loops.\n",
    "\n",
    "13. **Matrix Transposition**: Write a function that transposes a given matrix\n",
    "    (2D list) using nested `for` and `while` loops.\n",
    "\n",
    "14. **Matrix Multiplication**: Write a function that performs matrix multiplication for two given matrices using nested `for` loops.\n",
    "\n",
    "15. **Prime Factorization**: Write a function that returns the prime factors of a given number using a `for` loop and trial division.\n",
    "\n",
    "16. **Palindrome Check**: Write a function that checks if a given string is a palindrome using a `for` loop."
   ]
  }
 ],
 "metadata": {
  "kernelspec": {
   "display_name": "Python 3 (ipykernel)",
   "language": "python",
   "name": "python3"
  },
  "language_info": {
   "codemirror_mode": {
    "name": "ipython",
    "version": 3
   },
   "file_extension": ".py",
   "mimetype": "text/x-python",
   "name": "python",
   "nbconvert_exporter": "python",
   "pygments_lexer": "ipython3",
   "version": "3.13.5"
  }
 },
 "nbformat": 4,
 "nbformat_minor": 5
}
