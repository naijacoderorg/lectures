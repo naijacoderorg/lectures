{
 "cells": [
  {
   "cell_type": "markdown",
   "id": "4d09786c-b9a2-4f84-b3a5-ecfb53ce61d8",
   "metadata": {},
   "source": [
    "# Day 7: Searching Algorithms\n",
    "--------------------------------------------\n",
    "\n",
    "## Reflections from Last Day\n",
    "\n",
    "- Data Science: _Japa!!_\n",
    "```python\n",
    "df = pd.read_csv('https://raw.githubusercontent.com/naijacoderorg/lectures/main/lectures2024/datascience/migrations.csv')\n",
    "emigrations_total = (df[['origin_country', '1960', '1970', '1980', '1990', '2000']] #select the relevant columns\n",
    "                     .groupby('origin_country') #groupby\n",
    "                     .sum() #aggregate\n",
    "                     .reset_index()\n",
    "                    )\n",
    "```\n",
    "- Growth of Functions\n",
    "    - **Big O Notation (O)**: Worst case upper bound e.g. $O(n^2)$\n",
    "    - **Omega Notation ($\\Omega$)**: Worst case lower bound e.g. $\\Omega(n)$\n",
    "    - **Theta Notation ($\\Theta$)**: Both upper and lower bound e.g. $\\Theta(n)$\n",
    "    - **Small O Notation (o)**. e.g. $o(n)$\n",
    "    - **Small omega Notation ($\\omega$)**. e.g. $\\omega(n^2)$ \n",
    "\n",
    "## Exercises from Last Day\n",
    "\n",
    "Determine whether the following statements are true (T) or false (F):\n",
    "\n",
    "1. $n^2 = O(n^3)$\n",
    "2. $n^2 = o(n^3)$\n",
    "3. $n^2 = \\Theta(n^2)$\n",
    "4. $n^2 = \\omega(n)$\n",
    "5. $n^2 = \\Omega(n^2)$\n",
    "\n",
    "## Agenda for Today\n",
    "\n",
    "- Searching Algorithms\n",
    "    - Linear Search\n",
    "    - Binary Search "
   ]
  },
  {
   "cell_type": "markdown",
   "id": "f12ee83e-d43c-4197-a34e-996a6c425b54",
   "metadata": {},
   "source": [
    "## Searching Algorithms\n",
    "\n",
    "Locate elements within a data structure such as arrays, lists, trees, graphs, and more.\n",
    "\n",
    "e.g. The position of the number 10 in the list `[0, 20, -2, 10, 5]` is `3`\n",
    "\n",
    "In Python, these algorithms are crucial for efficiently finding specific items based on certain criteria.\n"
   ]
  },
  {
   "cell_type": "markdown",
   "id": "26e73228-c8dc-42dd-bd6a-e864d062b8e1",
   "metadata": {},
   "source": [
    "### Linear Search\n",
    "\n",
    "Each element is checked in order.\n",
    "    - Check first element, second element, etc until you find it\n",
    "\n",
    "#### Example of Linear Search in Python:"
   ]
  },
  {
   "cell_type": "code",
   "execution_count": 23,
   "id": "5eeb1fe1-d2d8-43ec-9f1b-ad01fe51179d",
   "metadata": {},
   "outputs": [
    {
     "name": "stdout",
     "output_type": "stream",
     "text": [
      "Element found at index 2\n"
     ]
    }
   ],
   "source": [
    "def linear_search(arr, target):\n",
    "    for i in range(len(arr)):\n",
    "        if arr[i] == target:\n",
    "            return i  # Return index if found\n",
    "    return -1  # Return -1 if not found\n",
    "\n",
    "# Example usage\n",
    "my_list = [10, 30, 20, 5, 15]\n",
    "target_value = 20\n",
    "result = linear_search(my_list, target_value)\n",
    "if result != -1:\n",
    "    print(f\"Element found at index {result}\")\n",
    "else:\n",
    "    print(\"Element not found\")"
   ]
  },
  {
   "cell_type": "markdown",
   "id": "ea421dbb-9d60-44a8-9b1e-15d34da57bd9",
   "metadata": {},
   "source": [
    "#### Linear Search Time Complexity\n",
    "\n",
    "Let's count how many operations happen"
   ]
  },
  {
   "cell_type": "code",
   "execution_count": 27,
   "id": "11f72f15-39f2-4762-a518-37e787cb23a0",
   "metadata": {},
   "outputs": [
    {
     "name": "stdout",
     "output_type": "stream",
     "text": [
      "6 found at index  3.  4 Iterations\n",
      "-10 found at index 19. 20 Iterations\n"
     ]
    }
   ],
   "source": [
    "def linear_search(arr, target):\n",
    "    index = -1\n",
    "    for i in range(len(arr)):\n",
    "        if arr[i] == target:\n",
    "            index = i\n",
    "            break\n",
    "    if index == -1:\n",
    "        print(\"Element not found\")\n",
    "    else:\n",
    "        print(f\"{target} found at index {index:2d}. {i+1:2d} Iterations\")\n",
    "    return index  # Return -1 if not found\n",
    "\n",
    "# Data has a length of 20\n",
    "data = [13, -4, 2, 6, 9, 16, -2, 4, -16, 8, 19, 14, 10, 22, -3, 12, 18, -18, -14, -10]\n",
    "\n",
    "linear_search(data, 6);\n",
    "# 20 operations is the worst-case\n",
    "linear_search(data, -10);\n"
   ]
  },
  {
   "cell_type": "markdown",
   "id": "28f910de-a500-4a46-ae26-680c8a8d25cd",
   "metadata": {},
   "source": [
    "**Time Complexity**: $O(n)$ - Linear time complexity, where $n$ is the number of elements in the list."
   ]
  },
  {
   "cell_type": "markdown",
   "id": "359ae08a-370f-40bc-87f2-e96ce66e0518",
   "metadata": {},
   "source": [
    "### Binary Search\n",
    "\n",
    "If we first sort the list, then intuitively, it should be faster to locate where element should be.\n",
    "\n",
    "Once sorted\n",
    "\n",
    "- repeatedly divide the search interval in half\n",
    "- If match the middle, then we found it!!\n",
    "- Otherwise, determine if we search to the left or to the right depending on whether it's bigger or smaller than middle element\n",
    "\n",
    "#### Example of Binary Search in Python:"
   ]
  },
  {
   "cell_type": "code",
   "execution_count": 31,
   "id": "0a5bdcaf-dd58-42d7-a8c9-1a084ee73c79",
   "metadata": {},
   "outputs": [
    {
     "name": "stdout",
     "output_type": "stream",
     "text": [
      "20 found at index  3.  2 Iterations\n",
      "500 found at index 500. 501 Iterations\n",
      "500 found at index 500.  9 Iterations\n"
     ]
    }
   ],
   "source": [
    "def binary_search(arr, target):\n",
    "    low = 0\n",
    "    high = len(arr) - 1\n",
    "    operation_count = 0\n",
    "    index = -1\n",
    "    while low <= high:\n",
    "        mid = (low + high) // 2 # divide and round down\n",
    "        operation_count += 1\n",
    "        if arr[mid] == target:\n",
    "            index = mid\n",
    "            break\n",
    "        elif arr[mid] < target:\n",
    "            low = mid + 1  # Search in the right half\n",
    "        else:\n",
    "            high = mid - 1  # Search in the left half\n",
    "    if index == -1:\n",
    "        print(\"Element not found\")\n",
    "    else:\n",
    "        print(f\"{target} found at index {index:2d}. {operation_count:2d} Iterations\")\n",
    "    return index  # Return -1 if not found\n",
    "\n",
    "# Example usage\n",
    "sorted_list = [5, 10, 15, 20, 30]\n",
    "target_value = 20\n",
    "binary_search(sorted_list, target_value)\n",
    "\n",
    "sorted_list = list(range(1000))\n",
    "# Linear search\n",
    "linear_search(sorted_list, 500)\n",
    "# Binary search\n",
    "binary_search(sorted_list, 500); # Just 9 iterations!!"
   ]
  },
  {
   "cell_type": "markdown",
   "id": "7150050c-266b-4544-af5e-a4d78af4f7fd",
   "metadata": {},
   "source": [
    "Worst case, we divide N by 2 until there is only 1 element left\n",
    "\n",
    "e.g. For N = 1000"
   ]
  },
  {
   "cell_type": "code",
   "execution_count": 38,
   "id": "82ce31da-4623-4bec-bc18-416b889bf95a",
   "metadata": {},
   "outputs": [
    {
     "name": "stdout",
     "output_type": "stream",
     "text": [
      "N = 500 after 1 iterations\n",
      "N = 250 after 2 iterations\n",
      "N = 125 after 3 iterations\n",
      "N =  62 after 4 iterations\n",
      "N =  31 after 5 iterations\n",
      "N =  15 after 6 iterations\n",
      "N =   7 after 7 iterations\n",
      "N =   3 after 8 iterations\n",
      "N =   1 after 9 iterations\n"
     ]
    }
   ],
   "source": [
    "N = 1000\n",
    "count = 0\n",
    "while N > 1:\n",
    "    N = N // 2\n",
    "    count = count + 1\n",
    "    print(f\"N = {N:3d} after {count} iterations\")"
   ]
  },
  {
   "cell_type": "markdown",
   "id": "fe217ab2-70ec-4770-b792-2c1f2c1e0058",
   "metadata": {},
   "source": [
    "Mathematically, \n",
    "$$2^x = N$$\n",
    "\n",
    "Take $log_2$ of both sides\n",
    "\n",
    "$$ log_2{2^x} = log_2{N}$$\n",
    "$$ x*log_2{2} = log_2{N}$$\n",
    "$$ log_2{2} = 1 $$\n",
    "$$ x = log_2{N} $$\n"
   ]
  },
  {
   "cell_type": "markdown",
   "id": "dd8d2358-6d81-45f7-8969-c0bc04f105bb",
   "metadata": {},
   "source": [
    "**Time Complexity**: $O(\\log n)$ - Logarithmic time complexity on a sorted list (where n is the number of elements in the sorted list)."
   ]
  },
  {
   "cell_type": "markdown",
   "id": "bfb672fb-c25a-4adf-bd7d-f98c1734b493",
   "metadata": {},
   "source": [
    "### Key Considerations\n",
    "\n",
    "- **Data Structure**: The choice of searching algorithm often depends on the data structure being used (e.g., lists, trees, graphs).\n",
    "- **Performance**: Binary search is significantly faster than linear search for large datasets, especially when the data is sorted.\n",
    "    - Especially if the search will be performed again on the same list\n",
    "    - Incur sorting penalty just once \n",
    "- **Edge Cases**: Consider edge cases such as empty lists or arrays with duplicate values when implementing and testing searching algorithms.\n"
   ]
  },
  {
   "cell_type": "markdown",
   "id": "e30bb5a0-3ec4-4985-ae5e-5f947a81c82d",
   "metadata": {},
   "source": [
    "### Linear Search Exercises\n",
    "\n",
    "1. **Exercise 1: Finding an Element**\n",
    "   - **Problem**: Implement a function `linear_search(arr, target)` that returns the index of `target` in the list `arr` using linear search. If `target` is not present, return `-1`.\n",
    "   - **Example**:\n",
    "     ```python\n",
    "     arr = [3, 1, 4, 1, 5, 9, 2, 6, 5, 3]\n",
    "     target = 5\n",
    "     # Output: 4 (index of the first occurrence of 5)\n",
    "     ```\n",
    "     Use a while loop!\n",
    "\n",
    "2. **Exercise 2: Counting Occurrences**\n",
    "   - **Problem**: Modify the previous function to return the number of times `target` appears in `arr`.\n",
    "   - **Example**:\n",
    "     ```python\n",
    "     arr = [3, 1, 4, 1, 5, 9, 2, 6, 5, 3]\n",
    "     target = 5\n",
    "     # Output: 2 (number of times 5 appears in arr)\n",
    "     ```\n",
    "\n",
    "3. **Exercise 3: Sum of Elements**\n",
    "   - **Problem**: Write a function `sum_linear_search(arr)` that computes the sum of all elements in the list `arr` using linear search.\n",
    "   - **Example**:\n",
    "     ```python\n",
    "     arr = [3, 1, 4, 1, 5, 9, 2, 6, 5, 3]\n",
    "     # Output: 39 (sum of all elements in arr)"
   ]
  },
  {
   "cell_type": "markdown",
   "id": "6689b71d-6351-4c4f-b494-b589f92696e7",
   "metadata": {},
   "source": [
    "### Binary Search Exercises\n",
    "\n",
    "1. **Exercise 4: Basic Binary Search**\n",
    "   - **Problem**: Implement a function `binary_search(arr, target)` that performs binary search on a sorted list `arr` to find the index of `target`. If `target` is not present, return `-1`.\n",
    "   - **Example**:\n",
    "     ```python\n",
    "     arr = [1, 2, 3, 4, 5, 6, 7, 8, 9, 10]\n",
    "     target = 6\n",
    "     # Output: 5 (index of 6 in arr)\n",
    "     ```\n",
    "    - Implement using `for` loop\n",
    "    - Implement again using recursion\n",
    "\n",
    "2. **Exercise 5: Finding Smallest Element**\n",
    "   - **Problem**: Modify the binary search function to find the smallest element in a rotated sorted array `rotated_arr`.\n",
    "   - **Example**:\n",
    "     ```python\n",
    "     rotated_arr = [4, 5, 6, 7, 0, 1, 2]\n",
    "     # Output: 0 (smallest element in rotated_arr)\n",
    "     ```\n",
    "\n",
    "3. **Exercise 6: Counting Elements**\n",
    "   - **Problem**: Write a function `count_binary_search(arr, target)` that counts the number of occurrences of `target` in a sorted list `arr` using binary search.\n",
    "   - **Example**:\n",
    "     ```python\n",
    "     arr = [1, 2, 2, 2, 3, 4, 5, 5, 6]\n",
    "     target = 2\n",
    "     # Output: 3 (number of times 2 appears in arr)"
   ]
  }
 ],
 "metadata": {
  "kernelspec": {
   "display_name": "Python 3 (ipykernel)",
   "language": "python",
   "name": "python3"
  },
  "language_info": {
   "codemirror_mode": {
    "name": "ipython",
    "version": 3
   },
   "file_extension": ".py",
   "mimetype": "text/x-python",
   "name": "python",
   "nbconvert_exporter": "python",
   "pygments_lexer": "ipython3",
   "version": "3.13.5"
  }
 },
 "nbformat": 4,
 "nbformat_minor": 5
}
