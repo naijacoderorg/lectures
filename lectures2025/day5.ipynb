{
 "cells": [
  {
   "cell_type": "markdown",
   "id": "4df942be-de76-4487-9c76-73cf1125676b",
   "metadata": {},
   "source": [
    "# Day 5: Object, Librarties, Data Science\n",
    "--------------------------------------------\n",
    "\n",
    "## Reflections from Last Day\n",
    "\n",
    "- List and Dictionary Comprehensions\n",
    "    -  `squares = [x*x for x in range(5)]`\n",
    "    -  `squares = {x: x*x for x in range(5)`\n",
    "- Recursion\n",
    "```python\n",
    "def factorial(n):\n",
    "    # Base case: factorial of 0 is 1\n",
    "    if n == 0:\n",
    "        return 1\n",
    "    # Recursive case: n * factorial of (n-1)\n",
    "    else:\n",
    "        return n * factorial(n - 1)\n",
    "```\n",
    "\n",
    "## Exercises from Last Day\n",
    "\n",
    "- **Sum of Digits**: Write a recursive function to calculate the sum of digits of a positive integer.\n",
    "\n",
    "## Agenda for Today\n",
    "\n",
    "- Object Oriented Programming (OOP)\n",
    "\n",
    "- Libraries\n",
    "\n",
    "- Data Science "
   ]
  },
  {
   "cell_type": "markdown",
   "id": "3417af04-8c30-4f11-806b-707002fcbb11",
   "metadata": {},
   "source": [
    "## Object Oriented Programming (OOP)\n",
    "\n",
    "- Python is an Object-oriented language\n",
    "- OOP structures code using classes and objects of those classes\n",
    "- Combine the logic (**algorithms**) and **data** in the same object\n",
    "\n",
    "### Objects\n",
    "An object is an instance of a class.\n",
    "\n",
    "In Python, almost everything is an object\n",
    "- integers (class int)\n",
    "- floats (class float)\n",
    "- strings class (string)\n",
    "- lists (list)\n",
    "- more complex structures like functions and classes themselves.\n",
    "- Custom classes that we define\n",
    "\n",
    "Use `type` method to get the class of an object"
   ]
  },
  {
   "cell_type": "markdown",
   "id": "afa97517-d724-4c99-85b4-9779f7444b92",
   "metadata": {},
   "source": [
    "### Classes\n",
    "A class is a blueprint for creating objects (instances). It defines\n",
    "\n",
    " - Attributes\n",
    " - Methods (functions)\n",
    "\n",
    "Think of a class as a template or a blueprint that describes the attributes and behaviors common to all objects of that class.\n"
   ]
  },
  {
   "cell_type": "code",
   "execution_count": 1,
   "id": "1b617c9a-92e9-4a55-a301-4ac454142a8c",
   "metadata": {},
   "outputs": [
    {
     "name": "stdout",
     "output_type": "stream",
     "text": [
      "Class of int object 5 is <class 'int'>\n",
      "Class of float object 5.0 is <class 'float'>\n",
      "Class of string object 'apple' is <class 'str'>\n",
      "Class of list object [0, 1, 2] is <class 'list'>\n",
      "Class of print function is <class 'builtin_function_or_method'>\n"
     ]
    }
   ],
   "source": [
    "print(f\"Class of int object {5} is {type(5)}\")\n",
    "print(f\"Class of float object {5.0} is {type(5.0)}\")\n",
    "print(f\"Class of string object 'apple' is {type('apple')}\")\n",
    "print(f\"Class of list object {[0, 1, 2]} is {type([0, 1, 2])}\")\n",
    "print(f\"Class of print function is {type(print)}\")"
   ]
  },
  {
   "cell_type": "markdown",
   "id": "6dc48f9d-eca0-4995-9408-7bf4342e77bc",
   "metadata": {},
   "source": [
    "#### Defining a Class:\n",
    "\n",
    "In Python, a class is defined using the `class` keyword followed by the class name and a colon `:`. \n",
    "\n",
    "Inside the class definition, you define attributes and methods.\n"
   ]
  },
  {
   "cell_type": "code",
   "execution_count": 2,
   "id": "2b613b49-3770-443d-8a6b-cdabc63f50c0",
   "metadata": {},
   "outputs": [],
   "source": [
    "# Class definition\n",
    "class Person:\n",
    "    # Constructor (initializing attributes)\n",
    "    def __init__(self, name, age):\n",
    "        self.name = name   # Attribute: name\n",
    "        self.age = age     # Attribute: age\n",
    "    \n",
    "    # Method to greet\n",
    "    def greet(self):\n",
    "        return f\"Hello, my name is {self.name} and I am {self.age} years old.\""
   ]
  },
  {
   "cell_type": "markdown",
   "id": "3791be5e-6f6c-491b-b7be-366465b0071d",
   "metadata": {},
   "source": [
    "#### Creating Objects of Classes"
   ]
  },
  {
   "cell_type": "code",
   "execution_count": 3,
   "id": "7920170c-1cac-4703-8cc4-0278ca78a995",
   "metadata": {},
   "outputs": [
    {
     "name": "stdout",
     "output_type": "stream",
     "text": [
      "Hello, my name is Alice and I am 30 years old.\n",
      "Hello, my name is Bob and I am 25 years old.\n"
     ]
    }
   ],
   "source": [
    "# Creating objects (instances) of the Person class\n",
    "person1 = Person(\"Alice\", 30)\n",
    "person2 = Person(\"Bob\", 25)\n",
    "\n",
    "# Using object methods\n",
    "print(person1.greet())  # Output: Hello, my name is Alice and I am 30 years old.\n",
    "print(person2.greet())  # Output: Hello, my name is Bob and I am 25 years old."
   ]
  },
  {
   "cell_type": "markdown",
   "id": "f57c6955-9124-452f-9551-f368003efb17",
   "metadata": {},
   "source": [
    "#### Class Attributes:\n",
    "\n",
    "Variables that store data (state) related to the object (`self.name`, `self.age`).\n",
    "\n",
    "- Can also be defined at the class level\n",
    "    - All objects refer to the same variable unless directly modified\n",
    "- Can also pass in default arguments "
   ]
  },
  {
   "cell_type": "code",
   "execution_count": 4,
   "id": "9faef939-1084-4a29-bebd-13b6878d3718",
   "metadata": {},
   "outputs": [],
   "source": [
    "class Person:\n",
    "    # Constructor (initializing attributes)\n",
    "    colour = \"blue\"\n",
    "    def __init__(self, name, age=5):\n",
    "        self.name = name   # Attribute: name\n",
    "        self.age = age     # Attribute: age"
   ]
  },
  {
   "cell_type": "code",
   "execution_count": 5,
   "id": "ca842cc0-839d-43c1-90f2-1a1c415dda71",
   "metadata": {},
   "outputs": [
    {
     "name": "stdout",
     "output_type": "stream",
     "text": [
      "name is Joshua age is 15 colour is blue\n"
     ]
    }
   ],
   "source": [
    "# Instance of Person\n",
    "joshua = Person(\"Joshua\", 15)\n",
    "\n",
    "print(f\"name is {joshua.name} age is {joshua.age} colour is {joshua.colour}\")\n"
   ]
  },
  {
   "cell_type": "code",
   "execution_count": 6,
   "id": "ce9a8a18-444d-4abc-a123-ee3e7b043c4d",
   "metadata": {},
   "outputs": [
    {
     "name": "stdout",
     "output_type": "stream",
     "text": [
      "name is Tolu age is 5 colour is blue\n"
     ]
    }
   ],
   "source": [
    "# Person with default age\n",
    "\n",
    "tolu = Person(\"Tolu\")\n",
    "\n",
    "print(f\"name is {tolu.name} age is {tolu.age} colour is {tolu.colour}\")"
   ]
  },
  {
   "cell_type": "markdown",
   "id": "203901f9-d332-4bbd-81d9-99e0660505cb",
   "metadata": {},
   "source": [
    "#### Class Methods\n",
    "Functions defined inside a class that can perform operations on the object (e.g. `greet()`)\n",
    "\n",
    "- First argument is usually called `self`. But can be anything.\n",
    "- `self` has access to all the object's attributes\n",
    "- Note even though `greet()` is called without argument, `self` is still passed to the function\n",
    "- `__init__` is a special method called a Constructor\n",
    "\n",
    "#### Constructor (`__init__` method):\n",
    "\n",
    "The `__init__` method is a special method in Python classes that is called when an object is instantiated. It initializes the object's attributes. The first parameter of `__init__` and all instance methods is `self`, which refers to the instance of the class itself.\n"
   ]
  },
  {
   "cell_type": "code",
   "execution_count": 7,
   "id": "e7f6dc79-e4ab-4a2d-b185-660140b2b94e",
   "metadata": {},
   "outputs": [],
   "source": [
    "class Person:\n",
    "    # Constructor (initializing attributes)\n",
    "    def __init__(self, name, age):\n",
    "        self.name = name   # Attribute: name\n",
    "        self.age = age     # Attribute: age\n",
    "    \n",
    "    # Method to greet\n",
    "    def greet(self):\n",
    "        return f\"Hello, my name is {self.name} and I am {self.age} years old.\""
   ]
  },
  {
   "cell_type": "markdown",
   "id": "7c044ddd-e80d-4065-8598-55cb7d4e06a0",
   "metadata": {},
   "source": [
    "### Key Concepts in OOP\n",
    "\n",
    "- **Encapsulation**: Bundling data (attributes) and methods (functions) that operate on the data into a single unit (object).\n",
    "- **Inheritance**: Creating new classes (derived classes or subclasses) from existing classes (base classes or superclasses) to reuse and extend functionality.\n",
    "- **Polymorphism**: The ability to use a single interface (method) to perform different tasks. In Python, polymorphism is achieved through method overriding and method overloading."
   ]
  },
  {
   "cell_type": "markdown",
   "id": "5bb96460-7aaa-4259-af12-41e765dfde9c",
   "metadata": {},
   "source": [
    "### Benefits of OOP\n",
    "\n",
    "- **Modularity**: Encapsulation allows for easier maintenance and modification of code.\n",
    "- **Reusability**: Classes and objects promote code reuse through inheritance.\n",
    "- **Flexibility and Scalability**: OOP makes it easier to manage and scale complex applications by organizing code into manageable pieces.\n"
   ]
  },
  {
   "cell_type": "markdown",
   "id": "47e22808-b6c8-4f3f-abdf-65e06c0e5373",
   "metadata": {},
   "source": [
    "### Conclusion\n",
    "\n",
    "Understanding objects and classes in Python is crucial for leveraging the power of object-oriented programming. By defining classes and creating objects, you can organize your code more effectively, promote code reuse, and build complex, scalable applications more efficiently. OOP is a powerful paradigm that enhances code organization, readability, and maintainability in Python and many other programming languages.\n"
   ]
  },
  {
   "cell_type": "markdown",
   "id": "5d6a1414-1246-492a-8f98-c894a1e638f6",
   "metadata": {},
   "source": [
    "## Python Libraries\n",
    "\n",
    "A Python library is a collection of\n",
    "\n",
    "- Functions\n",
    "- Classes\n",
    "- Data Structures\n",
    "\n",
    "that allows you to perform specific tasks without having to write the code yourself from scratch. \n",
    "\n",
    "Libraries are designed to be\n",
    "- Perform specific tasks\n",
    "- Reusable: Save development time\n",
    "- Composable: Some libraries interface with and use other libraries\n"
   ]
  },
  {
   "cell_type": "markdown",
   "id": "cbd7171e-2fee-4c9e-b2b8-03151ac9bb58",
   "metadata": {},
   "source": [
    "#### Example Libraries\n",
    "\n",
    "- **Pandas**: Data analysis library that provides high-performance data structures and tools for manipulating structured data.\n",
    "- **NumPy**: Numerical computing library for handling large arrays and matrices of numeric data.\n",
    "- **Matplotlib**: 2D plotting library for creating static, animated, and interactive visualizations.\n",
    "- **Tensorflow**: Artificial intelligence and machine learning \n",
    "\n",
    "You can learn about other popular python packages and their uses [here](https://www.geeksforgeeks.org/python-libraries-to-know/).\n"
   ]
  },
  {
   "cell_type": "markdown",
   "id": "bb886a23-ea99-417c-8394-f5b8c8bfed47",
   "metadata": {},
   "source": [
    "#### Installing Libraries\n",
    "\n",
    "Before using a library, you need to install it. Python's package manager `pip` is used for installing libraries from the Python Package Index (PyPI).\n",
    "\n",
    "```bash\n",
    "pip install library_name\n",
    "```\n",
    "\n",
    "Replace `library_name` with the name of the library you want to install (e.g., `numpy`, `pandas`, `matplotlib`)."
   ]
  },
  {
   "cell_type": "markdown",
   "id": "19d3f377-37a2-4302-bc63-075073480657",
   "metadata": {},
   "source": [
    "#### Importing Libraries\n",
    "\n",
    "Once installed, you import the library into your Python script or interactive session using the `import` statement. You can also use `import ... as ...` to create an alias for the library name.\n",
    "\n",
    "##### Example: Importing NumPy and Pandas\n",
    "\n",
    "```python\n",
    "import numpy as np\n",
    "import matplotlib.pyplot as plt\n",
    "```\n",
    "<span style=\"color:red\">Command line demonstration depending on lab setup/internet etc</span>."
   ]
  },
  {
   "cell_type": "markdown",
   "id": "540c5018-0fa8-45c5-af45-6ae995a6765c",
   "metadata": {},
   "source": [
    "#### Example: Plot sine and cosine using `numpy` and `matplotlib`\n",
    "\n",
    "Plot function $y = x^2 - 2*x + 1$ from $x = -5$ to $x = 5$"
   ]
  },
  {
   "cell_type": "code",
   "execution_count": 10,
   "id": "ebbbab4b-eeaf-4645-8595-c20d387213ce",
   "metadata": {},
   "outputs": [
    {
     "name": "stdout",
     "output_type": "stream",
     "text": [
      "[-5.         -4.8989899  -4.7979798  -4.6969697  -4.5959596  -4.49494949\n",
      " -4.39393939 -4.29292929 -4.19191919 -4.09090909]\n"
     ]
    }
   ],
   "source": [
    "import numpy as np\n",
    "# first determine number of points to plot\n",
    "num_points = 100\n",
    "# create numpy array of points from -5 to 5\n",
    "x = np.linspace(-5, 5, num_points)\n",
    "# print the first 10 points in x\n",
    "print(x[:10])"
   ]
  },
  {
   "cell_type": "code",
   "execution_count": 12,
   "id": "158ad6a8-3f69-4bd7-8bff-d8a09aafa772",
   "metadata": {},
   "outputs": [
    {
     "name": "stdout",
     "output_type": "stream",
     "text": [
      "[36.         34.79808183 33.61656974 32.45546373 31.3147638  30.19446995\n",
      " 29.09458219 28.0151005  26.9560249  25.91735537]\n"
     ]
    }
   ],
   "source": [
    "# create y\n",
    "y = x * x - 2 * x + 1\n",
    "# print first 10 points in y\n",
    "print(y[:10])"
   ]
  },
  {
   "cell_type": "code",
   "execution_count": 14,
   "id": "03643125-94f4-4c01-9117-38a6a1cfe3d3",
   "metadata": {},
   "outputs": [
    {
     "data": {
      "text/plain": [
       "Text(0, 0.5, 'Y')"
      ]
     },
     "execution_count": 14,
     "metadata": {},
     "output_type": "execute_result"
    },
    {
     "data": {
      "image/png": "iVBORw0KGgoAAAANSUhEUgAAAjMAAAGwCAYAAABcnuQpAAAAOnRFWHRTb2Z0d2FyZQBNYXRwbG90bGliIHZlcnNpb24zLjEwLjMsIGh0dHBzOi8vbWF0cGxvdGxpYi5vcmcvZiW1igAAAAlwSFlzAAAPYQAAD2EBqD+naQAARl1JREFUeJzt3XlcVFXjBvDnzgwz7IOIbLKIC24IruGeS5la5pZvpq9Li2WZ5c+3zVbrtSh9LSvLskVLM9vUrNSyVNTccEHBBUFAUDYBZVgHZub+/kAJckkU5sydeb6fz/344c4MPo7lPJx77jmSLMsyiIiIiBRKJToAERER0c1gmSEiIiJFY5khIiIiRWOZISIiIkVjmSEiIiJFY5khIiIiRWOZISIiIkXTiA7Q2CwWC7KysuDh4QFJkkTHISIiousgyzKKi4sRGBgIleraYy92X2aysrIQHBwsOgYRERHdgMzMTAQFBV3zOXZfZjw8PABUvxmenp6C0xAREdH1MBgMCA4Orvkcvxa7LzOXLi15enqyzBARESnM9UwR4QRgIiIiUjSWGSIiIlI0lhkiIiJSNJYZIiIiUjSWGSIiIlI0lhkiIiJSNJYZIiIiUjSWGSIiIlI0lhkiIiJSNJYZIiIiUjSWGSIiIlI0lhkiIiJSNJaZm3Aix4BcQ4XoGERERA6NZeYG/ffnYxi6aAeW70oXHYWIiMihsczcoB4tmgAAvtufiUqTRXAaIiIix8Uyc4MGt/eDr4cO+SWV+O1Yjug4REREDotl5gY5qVUY3yMYAPDVngzBaYiIiBwXy8xNuPeWEKgkYHdqAVLySkTHISIickgsMzehuZcLBrXzBQB8vY+jM0RERCKwzNykidGhAIDvD5xBRZVZcBoiIiLHI7TMLFmyBJGRkfD09ISnpyd69eqFjRs31jw+depUSJJU5+jZs6fAxJfrH94Mzb1cUFRehV+OZIuOQ0RE5HCElpmgoCC8+eab2L9/P/bv349BgwZh5MiROHr0aM1zhg4diuzs7Jpjw4YNAhNfTq2SMCE6BADw1d7TgtMQERE5Ho3I33zEiBF1vn799dexZMkS7NmzBx07dgQA6HQ6+Pv7X/f3NBqNMBqNNV8bDIaGCXsN47oH4Z3NJ3Ew4wKOZRnQIdCz0X9PIiIiqmYzc2bMZjNWr16N0tJS9OrVq+b8tm3b4Ovri/DwcEybNg15eXnX/D4xMTHQ6/U1R3BwcGNHh6+HM+7oWF24Vu3j6AwREZE1SbIsyyIDJCQkoFevXqioqIC7uztWrVqF4cOHAwC++eYbuLu7IzQ0FGlpaXjppZdgMplw4MAB6HS6K36/K43MBAcHo6ioCJ6ejTdisislHxM+3Qs3rRp7X7gN7jqhg15ERESKZjAYoNfrr+vzW3iZqaysREZGBi5cuIAffvgBn376KWJjY9GhQ4fLnpudnY3Q0FCsXr0aY8aMua7vX58342bIsozBC2ORml+K10dH1NzlRERERPVXn89v4ZeZtFotWrduje7duyMmJgZRUVF49913r/jcgIAAhIaGIjk52cop/5kk/TUReMXu0xDcEYmIiByG8DLzd7Is17lMVFtBQQEyMzMREBBg5VTXZ1y3YDg7qXAipxgHTp8XHYeIiMghCC0zzz//PHbs2IH09HQkJCTghRdewLZt2zBx4kSUlJTgqaeewu7du5Geno5t27ZhxIgR8PHxwejRo0XGviq9qxPujgoEAKzcw4nARERE1iC0zOTm5mLSpElo27YtBg8ejL1792LTpk24/fbboVarkZCQgJEjRyI8PBxTpkxBeHg4du/eDQ8PD5Gxr2lSzxYAgA0JOcgvufIIExERETUc4ROAG5u1JgDXNnLxThw+U4RnhrbFYwNaW+X3JCIisieKmgBsj/7ds/pOplV7M2C22HVXJCIiEo5lphGMiAqE3sUJZ86XI/bktRf5IyIiopvDMtMInJ3U+Ff3IADVt2kTERFR42GZaSQTLi6at+3kOWQWlglOQ0REZL9YZhpJmI8b+rXxgSwDK7mbNhERUaNhmWlEky5OBP42LhMVVWbBaYiIiOwTy0wjGtzeD829XHC+rAo/H8kWHYeIiMguscw0IrVKwsSel/ZrShcbhoiIyE6xzDSye7sHQ6tW4fCZIsRnXhAdh4iIyO6wzDSypu463BVVvTHml7vSxYYhIiKyQywzVjC5VwsAwM9HslHA/ZqIiIgaFMuMFXQO9kJUkB6VZgtWx2WKjkNERGRXWGasZNLF0ZlVezNgMlvEhiEiIrIjLDNWcldkAJq4OuHshXL8cYL7NRERETUUlhkrcXZS494e1bdpf8nbtImIiBoMy4wVTYwOgUoC/kwpQEpeseg4REREdoFlxoqCvV0xuL0fAOCLXdyviYiIqCGwzFjZ1N4tAAA/HDwDQ0WV2DBERER2gGXGynq3aoo2vu4oqzTju/1nRMchIiJSPJYZK5MkCVMujs58uTsdFossNhAREZHCscwIMKZrc3g4a3C6oAzbTvI2bSIiopvBMiOAq1aDe7sHAwCWcyIwERHRTWGZEWRyrxaQJGD7yXM4da5EdBwiIiLFYpkRJKSpKwa3q75Nm7tpExER3TiWGYEu3ab9/YEzKOZt2kRERDeEZUagPq2borWvO0orzfj+AG/TJiIiuhEsMwLVvk37i128TZuIiOhGsMwINrZrc3g6a5BeUIatSbxNm4iIqL5YZgRz1Wow/pbq3bSX/ZkuNgwREZECsczYgMm9QqGSgJ0p+UjK4W7aRERE9cEyYwOCmrjijo7+AIDlu9IEpyEiIlIWlhkb8UDfMADAmoNnUVhaKTgNERGRcrDM2IjuoU0Q0dwTRpMFX+/LEB2HiIhIMVhmbIQkSXigT/XozIrdp1FltghOREREpAwsMzbkzsgANPPQIcdQgY2JOaLjEBERKYLQMrNkyRJERkbC09MTnp6e6NWrFzZu3FjzuCzLmDt3LgIDA+Hi4oIBAwbg6NGjAhM3Lp1GjX9HhwIAPt/JicBERETXQ2iZCQoKwptvvon9+/dj//79GDRoEEaOHFlTWObPn4+3334bixcvRlxcHPz9/XH77bejuNh+b1+e2DMEWrUK8ZkXcDDjvOg4RERENk9omRkxYgSGDx+O8PBwhIeH4/XXX4e7uzv27NkDWZaxaNEivPDCCxgzZgwiIiLwxRdfoKysDKtWrRIZu1H5uOtwd+dAAMBnHJ0hIiL6RzYzZ8ZsNmP16tUoLS1Fr169kJaWhpycHAwZMqTmOTqdDrfeeit27dp11e9jNBphMBjqHErz4MXbtDcl5uDM+TLBaYiIiGyb8DKTkJAAd3d36HQ6TJ8+HWvXrkWHDh2Qk1M9AdbPz6/O8/38/Goeu5KYmBjo9fqaIzg4uFHzN4b2AZ7o07opzBYZX+xKFx2HiIjIpgkvM23btkV8fDz27NmDRx99FFOmTMGxY8dqHpckqc7zZVm+7Fxtc+bMQVFRUc2RmZnZaNkb00N9WwIAVu/LRInRJDgNERGR7RJeZrRaLVq3bo3u3bsjJiYGUVFRePfdd+HvX728/99HYfLy8i4bralNp9PV3B116VCiW8OboWUzNxQbTfg2TpmFjIiIyBqEl5m/k2UZRqMRYWFh8Pf3x+bNm2seq6ysRGxsLHr37i0woXWoVFLN3Jllu9JgtsiCExEREdkmoWXm+eefx44dO5Ceno6EhAS88MIL2LZtGyZOnAhJkjBr1iy88cYbWLt2LRITEzF16lS4urpiwoQJImNbzZguQfBydUJmYTk2H+MiekRERFeiEfmb5+bmYtKkScjOzoZer0dkZCQ2bdqE22+/HQDwzDPPoLy8HI899hjOnz+P6Oho/Pbbb/Dw8BAZ22pctNWL6C3emoJPd6RhaESA6EhEREQ2R5Jl2a6vXxgMBuj1ehQVFSly/kyeoQJ93tqCKrOMdTP6oHOwl+hIREREja4+n982N2eG6vL1dMaIKC6iR0REdDUsMwpwaSLwhoRsnL1QLjgNERGRbWGZUYCOgXr0blW9iN4yjs4QERHVwTKjENP6X1xELy4ThooqwWmIiIhsB8uMQgwIb4Y2vu4oMZqwel+G6DhEREQ2g2VGISRJqhmd+XxnOipNFsGJiIiIbAPLjIKM7ByIZh465Bgq8EtClug4RERENoFlRkF0GjWm9m4BAPhkexrsfIkgIiKi68IyozATo0Pg4qTGsWwDdp0qEB2HiIhIOJYZhfFy1eLeHsEAgKXbUwWnISIiEo9lRoEe6BMGlQTEnjyHpJxi0XGIiIiEYplRoJCmrhga4Q+AozNEREQsMwo1rV/1bdrrD59FdhG3OCAiIsfFMqNQXUKaIDrMG1VmGcv+TBcdh4iISBiWGQWbfmsrAMCqvRkoKucWB0RE5JhYZhRsQNtmaOvngRKjCav2cosDIiJyTCwzCiZJEh6+tMXBn2kwmsyCExEREVkfy4zCjYgKRIDeGeeKjVh36KzoOERERFbHMqNwWo0KD/YNAwB8vD0VFgu3OCAiIsfCMmMHxt8SAg9nDVLPleL347mi4xAREVkVy4wdcNdpMKlnKIDq0RkiIiJHwjJjJ6b2aQGtWoUDp88jLr1QdBwiIiKrYZmxE74ezhjbLQgAsGTbKcFpiIiIrIdlxo480r8lVBKw5UQejmcbRMchIiKyCpYZO9LCxw3DOwUAAD6K5egMERE5BpYZO3Npi4OfDmcho6BMcBoiIqLGxzJjZyKa63FreDNYZGDpDo7OEBGR/WOZsUOPDqgenfl2/xmcKzYKTkNERNS4WGbsUHSYN7qEeKHSZMHnf6aJjkNERNSoWGbskCRJeGxAawDAyt2nYaioEpyIiIio8bDM2KnB7XzRxtcdxUYTVu45LToOERFRo2GZsVMqlVRzZ9PnO9NQUWUWnIiIiKhxsMzYsbs7ByKoiQvySyqxel+G6DhERESNgmXGjjmpVXjk4ujM0u2pqDRZBCciIiJqeCwzdm5ctyD4euiQVVSBdYfOio5DRETU4Fhm7JyzkxrT+rUEACyJPQWzRRaciIiIqGEJLTMxMTHo0aMHPDw84Ovri1GjRiEpKanOc6ZOnQpJkuocPXv2FJRYmSZEh8DL1Qlp+aXYkJAtOg4REVGDElpmYmNjMWPGDOzZswebN2+GyWTCkCFDUFpaWud5Q4cORXZ2ds2xYcMGQYmVyU2nwf29wwAAH2xNgSxzdIaIiOyHRuRvvmnTpjpfL1u2DL6+vjhw4AD69+9fc16n08Hf39/a8ezK1N4t8MmOVJzIKcYfx/NwWwc/0ZGIiIgahE3NmSkqKgIAeHt71zm/bds2+Pr6Ijw8HNOmTUNeXt5Vv4fRaITBYKhzEKB3dcK/e4YCABZzdIaIiOyIzZQZWZYxe/Zs9O3bFxERETXnhw0bhq+++gpbtmzBwoULERcXh0GDBsFovPIGijExMdDr9TVHcHCwtf4INu/BvmHQaVSIz7yAXacKRMchIiJqEJJsIz+iz5gxA7/88gt27tyJoKCgqz4vOzsboaGhWL16NcaMGXPZ40ajsU7RMRgMCA4ORlFRETw9PRslu5LMXX8Uy3elIzrMG9880kt0HCIioisyGAzQ6/XX9fltEyMzM2fOxPr167F169ZrFhkACAgIQGhoKJKTk6/4uE6ng6enZ52D/vLIrS2hVauwN60Qe1M5OkNERMontMzIsozHH38ca9aswZYtWxAWFvaPrykoKEBmZiYCAgKskND+BOhdcE/36sL4/pYUwWmIiIhuntAyM2PGDKxcuRKrVq2Ch4cHcnJykJOTg/LycgBASUkJnnrqKezevRvp6enYtm0bRowYAR8fH4wePVpkdEV79NZW0Kgk7EzJx8GM86LjEBER3RShZWbJkiUoKirCgAEDEBAQUHN88803AAC1Wo2EhASMHDkS4eHhmDJlCsLDw7F79254eHiIjK5owd6uGNO1OQDg/T+ufLmOiIhIKYSuM/NPc49dXFzw66+/WimNY3lsQGt8f+AMtiadQ8KZInQK0ouOREREdENsYgIwWV8LHzeM7Fw9OvPeFo7OEBGRcrHMOLAZA1tDkoDNx3JxPJuLCxIRkTKxzDiw1r7uGN6p+q6w9zk6Q0RECsUy4+BmDmoNANiQkIOknGLBaYiIiOqPZcbBtfP3xPBO1Zt4vsc7m4iISIFYZghPDG4DANiQmM3RGSIiUhyWGaoZnZFl3tlERETKwzJDAGqNziRwdIaIiJSFZYYAcHSGiIiUi2WGatQenTmZy9EZIiJSBpYZqtHO3xPDIi6OzvDOJiIiUgiWGarj0ujMLxydISIihWCZoTraB/w1OrPo95Oi4xAREf0jlhm6zKzbwiFJ1asCH8vink1ERGTbWGboMm39PXBXZCAA4B2OzhARkY1jmaErenJwG6gu7qidcKZIdBwiIqKrYpmhK2rt645RnZsDAN7enCQ4DRER0dWxzNBVPTG4DdQqCVuTzuFgxnnRcYiIiK6IZYauqoWPG8Z2rR6deWcz584QEZFtYpmha5o5qA00Kgk7kvOxL61QdBwiIqLLsMzQNQV7u+JfPYIBAAt/S4Isy4ITERER1cUyQ//o8YGtoVWrsDetEDtT8kXHISIiqoNlhv5RoJcLJvYMAQD871eOzhARkW1hmaHr8tiA1nDVqnH4TBE2H8sVHYeIiKgGywxdl2YeOtzfpwUAYOFvJ2G2cHSGiIhsA8sMXbeH+7WCh7MGSbnF+PlIlug4REREAFhmqB70rk6YfmsrANXrzlSZLYITERERscxQPU3t3QI+7lqkF5Th+wNnRMchIiJimaH6cdNp8OiA1gCA9/5IRkWVWXAiIiJydCwzVG8To0MQoHdGdlEFVu45LToOERE5OJYZqjdnJzWeHNwGAPDhtlMorqgSnIiIiBwZywzdkHu6BaFlMzcUllbikx1pouMQEZEDY5mhG6JRq/D0kLYAgE93pCK/xCg4EREROSqWGbphQyP8ERWkR1mlGYu3pIiOQ0REDoplhm6YJEl4dmg7AMBXe08js7BMcCIiInJELDN0U3q39kG/Nj6oMst4Z/NJ0XGIiMgBCS0zMTEx6NGjBzw8PODr64tRo0YhKSmpznNkWcbcuXMRGBgIFxcXDBgwAEePHhWUmK7k6Tuq586sjT+LEzkGwWmIiMjRCC0zsbGxmDFjBvbs2YPNmzfDZDJhyJAhKC0trXnO/Pnz8fbbb2Px4sWIi4uDv78/br/9dhQXFwtMTrVFBnnhzk4BkGVgwaakf34BERFRA5JkWbaZ7Y/PnTsHX19fxMbGon///pBlGYGBgZg1axaeffZZAIDRaISfnx/eeustPPLII5d9D6PRCKPxrztrDAYDgoODUVRUBE9PT6v9WRxN6rkS3P7OdpgtMr55uCeiWzYVHYmIiBTMYDBAr9df1+e3Tc2ZKSoqAgB4e3sDANLS0pCTk4MhQ4bUPEen0+HWW2/Frl27rvg9YmJioNfra47g4ODGD05o2cwd43tUv9cxG0/AhjoyERHZOZspM7IsY/bs2ejbty8iIiIAADk5OQAAPz+/Os/18/Oreezv5syZg6KiopojMzOzcYNTjSdvawNXrRrxmRewMfHKfz9EREQNzWbKzOOPP44jR47g66+/vuwxSZLqfC3L8mXnLtHpdPD09KxzkHX4ejhjWr+WAID5m06gymwRnIiIiByBTZSZmTNnYv369di6dSuCgoJqzvv7+wPAZaMweXl5l43WkG2Y1r8lfNx1SC8ow9f7MkTHISIiByC0zMiyjMcffxxr1qzBli1bEBYWVufxsLAw+Pv7Y/PmzTXnKisrERsbi969e1s7Ll0Hd50GT95WvQnlu78ncxNKIiJqdELLzIwZM7By5UqsWrUKHh4eyMnJQU5ODsrLywFUX16aNWsW3njjDaxduxaJiYmYOnUqXF1dMWHCBJHR6RrG9whGSx83FJRW4pPtqaLjEBGRnRN6a/bV5r0sW7YMU6dOBVA9evPqq6/i448/xvnz5xEdHY0PPvigZpLwP6nPrV3UcDYlZmP6yoNwcVIj9ukB8PV0Fh2JiIgUpD6f3za1zkxjYJkRQ5ZljF2yCwczLmB8j2C8OTZSdCQiIlIQxa4zQ/ZDkiS8cGd7AMC3+zO5zQERETUalhlqNN1CvTG8kz8sMvDGhhOi4xARkZ1imaFG9ezQdnBSS9h+8hxiT54THYeIiOwQyww1qtCmbpjSqwUA4I1fjsNssespWkREJADLDDW6xwe1ht7FCUm5xfh2P7eXICKihsUyQ43Oy1WLJwZXL6S38LeTKDGaBCciIiJ7wjJDVjGpZyhCm7oiv8SIpbGnRMchIiI7ct1l5syZM42Zg+ycVqPCc0PbAQCW7khF1oVywYmIiMheXHeZiYiIwIoVKxozC9m5oRH+6NGiCSqqLJi/ibdqExFRw7juMvPGG29gxowZGDt2LAoKChozE9kpSZLw8l0dIUnAuvgsHMw4LzoSERHZgesuM4899hgOHz6M8+fPo2PHjli/fn1j5iI71SlIj7FdgwAAr/10DHa+mwYREVmBpj5PDgsLw5YtW7B48WKMHTsW7du3h0ZT91scPHiwQQOS/XnmjrbYkJCN+MwLWH84CyM7NxcdiYiIFKxeZQYATp8+jR9++AHe3t4YOXLkZWWG6J/4ejpjxsDWWPBrEt7ceAJDOvjDRasWHYuIiBSqXk3kk08+wX/+8x/cdtttSExMRLNmzRorF9m5B/uGYdXeDJy9UI6l21Px5G1tREciIiKFuu45M0OHDsWzzz6LxYsXY82aNSwydFOcndSYM7z6Vu2PYk8hu4i3ahMR0Y257jJjNptx5MgRTJ48uTHzkAO5s1MAuoc2QXmVGW9t5K3aRER0Y667zGzevBlBQUGNmYUcjCRJeGXEX7dqHzhdKDoSEREpELczIKE6Belxb/dgAMDc9ce4qzYREdUbywwJ99QdbeHhrEHC2SJ8x121iYionlhmSDgfdx1m3RYOAJj/axKKyqsEJyIiIiVhmSGbMLlXKFr7uqOwtBLv/p4sOg4RESkIywzZBCe1Cq+M6AAA+GJ3OpJziwUnIiIipWCZIZvRr00zDOngB7NFxtyfjnLfJiIiui4sM2RTXryzA7QaFf5MKcCmxBzRcYiISAFYZsimhDR1xfT+LQEA//35GMoqTYITERGRrWOZIZvz6IDWCGrigqyiCnywNUV0HCIisnEsM2RzXLRqvHxX9WTgpdtTkXquRHAiIiKyZSwzZJNu7+CHgW2bocos45X1nAxMRERXxzJDNunSvk1atQo7kvPx61FOBiYisjVnL5Tj+bUJKCytFJqDZYZsVgsfN0y/9dJk4OMorzQLTkRERLW9uv4oVu3NwDPfHxGag2WGbNqjA1qjuZcLzl4ox+KtXBmYiMhW/HE8F78dy4VGJeHpO9oKzcIyQzbNRauuWRl46fZUpORxMjARkWjllWa8sv4oAODBvmFo6+8hNA/LDNm82zv4YXA7X1SZZby4LoGTgYmIBPtgawrOnC9HoN4ZTwxuIzoOywzZPkmSMPfujnB2UmFPaiHWxZ8VHYmIyGGl5JXg4+2nAAAvj+gIN51GcCKWGVKIYG/XmvY/7+fjKCqrEpyIiMjxyLKMl39MRJVZxqB2vrijo5/oSAAEl5nt27djxIgRCAwMhCRJWLduXZ3Hp06dCkmS6hw9e/YUE5aEe6hvS7TxdUdBaSXm/3pCdBwiIoez/nAWdp0qgE6jwtwRHSFJkuhIAASXmdLSUkRFRWHx4sVXfc7QoUORnZ1dc2zYsMGKCcmWaDUq/HdUBABg1b4MHMo4LzgREZHjKCqvwn9/Pg4AmDmoNUKaugpO9BehF7qGDRuGYcOGXfM5Op0O/v7+VkpEtq5ny6YY07U51hw8ixfWJmL9432gUfNqKRFRY5u/6QTyS4xo2cwN0y5uCGwrbP5TYNu2bfD19UV4eDimTZuGvLy8az7faDTCYDDUOci+PD+8PfQuTjiWbcDyXemi4xAR2b0Dpwvx1d4MAMAboztBp1ELTlSXTZeZYcOG4auvvsKWLVuwcOFCxMXFYdCgQTAajVd9TUxMDPR6fc0RHBxsxcRkDT7uOswZ1g4AsPC3k8gsLBOciIjIflWaLJizJgEAMK5bEHq2bCo40eVsuszce++9uPPOOxEREYERI0Zg48aNOHnyJH755ZervmbOnDkoKiqqOTIzM62YmKzlX92DcUuYN8qrzHj5x0SuPUNE1Eg+2ZGKk7kl8HbT4vnh7UXHuSKbLjN/FxAQgNDQUCQnX31Ze51OB09PzzoH2R+VSsIboztBq1Zha9I5/JKQLToSEZHdSc8vxXt/VH/mvnRXezRx0wpOdGWKKjMFBQXIzMxEQECA6ChkA1r7uuOxga0AAHPXH+PaM0REDUiWZby4LhFGkwV9WjfFqM7NRUe6KqFlpqSkBPHx8YiPjwcApKWlIT4+HhkZGSgpKcFTTz2F3bt3Iz09Hdu2bcOIESPg4+OD0aNHi4xNNuTRAa3Qqpkb8kuMeHMT154hImoo6+LPYmdKPrQaFV4f1clm1pS5EqFlZv/+/ejSpQu6dOkCAJg9eza6dOmCl19+GWq1GgkJCRg5ciTCw8MxZcoUhIeHY/fu3fDwELuhFdkOnUaNmDGRAICv92VgX1qh4ERERMpXUGLEaz8dAwA8Mag1Wvi4CU50bZJs5zMnDQYD9Ho9ioqKOH/Gjs1ZcwRf78tEq2Zu+OWJfnB2sq3bBomIlOTJ1YfwY3wW2vl7YP3jfaHVWH/soz6f34qaM0N0Nc8NbY9mHjqcOleKD7amiI5DRKRYW07k4sf4LKgk4K2xkUKKTH3ZfkKi66B3dcJ/R3YEACzZdgrHsrhYIhFRfZUYTXhxbSIA4IE+YYgK9hIb6DqxzJDdGBoRgGER/jBZZDz7wxGYzBbRkYiIFGX+phPIKqpAsLcLZg8JFx3nurHMkF15dWRHeDprkHC2CJ/tTBMdh4hIMfanF2LFntMAgJjRkXDVCt2+sV5YZsiu+Ho446W7OgAA3t58Emn5pYITERHZPqPJjGd/OAJZrt6yoG8bH9GR6oVlhuzOPd2C0K+ND4wmC5774QgsFru+YY+I6Ka9+3syTp0rhY+7Di/e2UF0nHpjmSG7I0nVWx24atXYm1aIr/ZliI5ERGSzjpy5gI+3pwIA5o2KgN7VSXCi+mOZIbsU7O2KZ+5oCwB4c8Nx7qxNRHQFRpMZT393BGaLjLsiAzA0wl90pBvCMkN2a3KvFrilhTdKKy9dC+blJiKi2j7YkoKk3GI0ddPi1bs7io5zw1hmyG6pVBLm3xMJZycVdp0qwFd7ebmJiOiSxLNF+GDbKQDAf0dFoKm7TnCiG8cyQ3athY8bnh3aDgAQw8tNREQAgEqTBU9/X315aXgnfwzvFCA60k1hmSG7N6XW5abn1vByExHRh9tScDzbgCauTnhtZIToODeNZYbsXu3LTX+m8HITETm2hDNFWLyleg+7V0dGwEfBl5cuYZkhh9DCxw3P3FF9uemNDceRUcDLTUTkeCqqzPjPd/EwXby8NCJS2ZeXLmGZIYcxtXf15aaySjOe+u4wzFxMj4gczDu/n8TJ3BL4uGsxb1QnSJIkOlKDYJkhh6FSSfjfuCi4adXYl16Iz7l3ExE5kP3phVh6cXG8mDGR8HbTCk7UcFhmyKGENHXFixf3blrwaxJO5hYLTkRE1PjKKk34z3eHIcvVW77c3sFPdKQGxTJDDmd8j2AMbNsMlWYLZn8bjyqzRXQkIqJGFbPhBE4XlCFQ74yXRyhv76V/wjJDDkeSJLw1NhJerk5IPGvA+xdn9RMR2aPtJ89hxZ7TAID590TB01l5ey/9E5YZcki+ns6YN6p6bYUPtqYgPvOC2EBERI3gfGklnvruMABgcq9Q9G3jIzhR42CZIYd1V2QgRkQFwmyR8X/fxKPUaBIdiYiowciyjOfXJiCv2IhWzdwwZ1h70ZEaDcsMObR5IyMQoHdGWn4p5v1yXHQcIqIG88PBs9iYmAONSsKie7vARasWHanRsMyQQ9O7OmHhv6IgScDX+zLw29Ec0ZGIiG5aZmEZ5q4/CgD4v9vD0SlILzhR42KZIYfXu5UPHu7XEgDw3JoE5BVXCE5ERHTjLl06LzGa0D20Cabf2kp0pEbHMkMEYPaQcHQI8ERhaSWe/o6bURKRcn0Uewr7T5+Hu06Dd+7tDLXKPlb5vRaWGSIAOo0a747vDJ1GhdiT5/Dl7tOiIxER1Vt85gW8s/kkAGDu3R0R7O0qOJF1sMwQXdTGzwPPD6+e7f/GhuNIyuHqwESkHCVGE574+hBMFhl3dgrA2K7NRUeyGpYZolom9wrFwLbNYDRZMPPrg6ioMouORER0XV5el4iMwjI093LBG2PsZxPJ68EyQ1SLJElYMC4KzTx0OJlbgnm/HBMdiYjoH607dBZrDp2FSgLeHd8Zehf7W+X3WlhmiP7Gx12Hd/7VGZIErNyTgU2J2aIjERFdVUZBGV5clwgAeGJwG3Rv4S04kfWxzBBdQd82Pnikf/XtjM98fwRnL5QLTkREdLkqswUzVx9CidGEHi2a4PGBrUVHEoJlhugq/jMkHFHBXjBUmPB/q+Nh4u7aRGRjFv52EoczL8DTWYNF47tAo3bMj3XH/FMTXQcntQrvje8Md50G+9IL8R531yYiG7ItKQ8fxZ4CALw1NhLNvVwEJxKHZYboGkKbuuH10dW7a7+/JRl/puQLTkREBOQUVWD2t3/thj2sU4DgRGKxzBD9g5Gdm2N8j2DIMvDk6nhud0BEQpnMFjyx+hAKSyvRMdCzZn0sR8YyQ3Qd5t7dEe38PZBfYsSTX8fDbOF2B0Qkxrt/JGNfWiHctGosntAVzk72uxv29RJaZrZv344RI0YgMDAQkiRh3bp1dR6XZRlz585FYGAgXFxcMGDAABw9elRMWHJozk7V/2i4atXYnVqA9/5IFh2JiBzQzuR8LN5aPX8vZmwkwnzcBCeyDULLTGlpKaKiorB48eIrPj5//ny8/fbbWLx4MeLi4uDv74/bb78dxcVcZp6sr7WvO94Y3QkA8B7nzxCRleUaKjDrm0OQZeC+W0Jwd1Sg6Eg2Q2iZGTZsGObNm4cxY8Zc9pgsy1i0aBFeeOEFjBkzBhEREfjiiy9QVlaGVatWCUhLBIzqUnv+zCHkGTh/hogaX5XZgsdXHUR+SSXa+XvglREdREeyKTY7ZyYtLQ05OTkYMmRIzTmdTodbb70Vu3btuurrjEYjDAZDnYOoIf01f6YSM1YdRBXXnyGiRjZ/0wnEpZ+Hh06Dj/7djfNk/sZmy0xOTg4AwM/Pr855Pz+/mseuJCYmBnq9vuYIDg5u1JzkeJyd1Fjy727w0GkQl34eb208IToSEdmxTYnZ+GRHGgBgwbgotOA8mcvYbJm55O+7fsqyfM2dQOfMmYOioqKaIzMzs7EjkgMK83HDgnFRAIBPd6ZhQwL3byKihpeWX4qnvzsCAJjWLwxDI/wFJ7JNNltm/P2r/8L+PgqTl5d32WhNbTqdDp6ennUOosYwNMIfj/RvCQB4+rvDOHWuRHAiIrIn5ZVmPLryAIov7rv0zNB2oiPZLJstM2FhYfD398fmzZtrzlVWViI2Nha9e/cWmIzoL0/f0Ra3hHmjtNKM6SsOoNRoEh2JiOyALMt4YW0CTuQUw8ddh8UTusLJQfdduh5C35mSkhLEx8cjPj4eQPWk3/j4eGRkZECSJMyaNQtvvPEG1q5di8TEREydOhWurq6YMGGCyNhENTRqFRZP6IJmHjok55XguTUJkGUuqEdEN+eLXelYc+gs1CoJ793XGX6ezqIj2TSNyN98//79GDhwYM3Xs2fPBgBMmTIFy5cvxzPPPIPy8nI89thjOH/+PKKjo/Hbb7/Bw8NDVGSiy/h6OOPDiV1x39I9+OlwFiKb6zHt4uUnIqL62ptagP/+chwAMGdYO/Ru5SM4ke2TZDv/MdJgMECv16OoqIjzZ6hRfbErHa+sPwqVBHz5QDT6tuE/QERUP9lF5Rjx/k7kl1RiZOdALLq38zVverFn9fn85gU4ogYyuVco7ukWBIsMPP71QWQWlomOREQKYjSZMX1l9cJ47QM88eaYSIctMvXFMkPUQCRJwrxREYgM0uNCWRUeWXEA5ZVm0bGISAFkWcYrPx7F4cwL0Ls44eN/d4OLlgvjXS+WGaIG5Oykxkf/7oamblocyzbg2R+OcEIwEf2jFXtOY3VcJlQS8P59XRDS1FV0JEVhmSFqYIFeLvhgYldoVBLWH87Cx9tTRUciIhu2KyUfr/50DADwzNB26B/eTHAi5WGZIWoEPVs2xcsXN4J7a9MJ/H4sV3AiIrJFpwtK8diqgzBbZIzu0rxmIU6qH5YZokYyqWcoJkaH1OywnZRTLDoSEdmQ4ooqPPTFflwoq0JUsBdixnTihN8bxDJD1EgkScLcuzuiZ8vqFYIf+jIOhaWVomMRkQ0wW2TMWh2P5LwS+HnqsHQSd8K+GSwzRI3ISa3CkondEOLtiszCcjy68gAqTRbRsYhIsAW/JuGPE3nQalRYOqk7V/i9SSwzRI2siZsWn03pDnedBnvTCvHyj4m8w4nIgX0bl4mPYk8BAOaPjURUsJfYQHaAZYbICtr4eeD9+7pAJQGr4zKxlHc4ETmkXafy8fzaBADAE4NaY1SX5oIT2QeWGSIrGdjOFy/eWX2HU8zGE9iYkC04ERFZ06lzJZi+4gBMFhkjogLxf7eHi45kN1hmiKzo/j4tMKVXKABg1jfxiM+8IDYQEVlFYWklHlgeB0OFCV1DvLDgHm5V0JBYZoisSJIkvHRXBwxs2wxGkwUPfRHHPZyI7JzRZMb0FQdwuqAMQU1csHRyd9651MBYZoisTKNW4f0JXdE+wBP5JdU/rRWVV4mORUSNwGKR8Z9vD2NfeiE8dBosm9oDPu460bHsDssMkQDuOg0+n9odfp46JOeV4JEV+2E0cVNKInvz5qYT+PlINpzUEj6a1A1t/DxER7JLLDNEggToXfD51B5w12mwJ7UQT313BBYLb9kmshfL/0yruXNx/j2R6NPaR3Ai+8UyQyRQx0A9Pvp3N2hUEn46nIWYjcdFRyKiBrApMQev/ly9eeTTd7TF6C5BghPZN5YZIsH6tvHBgnGRAIBPdqThs51pghMR0c04cLoQT64+BFkGJkaH4LEBrURHsnssM0Q2YHSXIDw7tB0AYN4vx/DzkSzBiYjoRpzMLcYDy/fDaLLgtva+ePXujrwF2wpYZohsxPRbW2JKr1DIMjD7m8PYmZwvOhIR1cOZ82WY/Nk+FJVXoUuIF967rws0an7MWgPfZSIbIUkSXh7REcM7+aPSbMHDK/ZzUT0ihSgoMWLyZ/uQY6hAG193LJvaA65ajehYDoNlhsiGqFUS3rm3M/q29kFZpRn3L9uHlLxi0bGI6BpKjCbcvzwOqfmlaO7lgi8fvAVerlrRsRwKywyRjdFp1Ph4UjdEBXvhfFkV/v3pPpw5z1WCiWyR0WTGIyv248iZIni7afHlg7cgQO8iOpbDYZkhskFuF1cKbe3rjhxDBSZ/tg/5JUbRsYioliqzBTNXHcKfKQVw1aqxbGoPtGrmLjqWQ2KZIbJR3m5arHjwFjT3ckFqfikmfbYPRWXc9oDIFpgtMp767jB+O5YLrUaFTyZ3R1Swl+hYDotlhsiGBehdsOLBW+DjrsPxbAMmL9uH4goWGiKRZFnGi+sS8GN8FjQqCUsmduXqvoKxzBDZuJbN3PHVQ9Fo4uqEw5kX8ODy/SirNImOReSQZFnGf38+jq/3ZUIlAYvGd8bg9n6iYzk8lhkiBWjr74EVD0bDw1mDfemFePjLA6io4saURNYkyzIW/nYSn/9ZvUr3W2MjcVdkoOBUBLDMEClGRHM9lt9/C1y1auxMycdjXx3kTttEVrTo92Qs3poCAHhtZEeM6x4sOBFdwjJDpCDdQpvgsyk9oNOosOVEHmaw0BBZxaLfT+LdP5IBAC/e2R6Te7UQG4jqYJkhUpherZrWFJrfj7PQEDW29/5IxqLfq4vMC8Pb46F+LQUnor9jmSFSoL5tfFhoiKxg8ZZkvL35JABgzrB2mNafRcYWscwQKRQLDVHjev+PZPzvt+oi8+zQdnjk1laCE9HVsMwQKdjfC80jK3iXE9HNkmUZC349gYUXR2SevqMtHh3AImPLWGaIFK5vGx98PrUHnJ1U2JZ0Dvcvi0OpkevQEN0IWZYx75fj+GDrKQDVk31nDGwtOBX9E5YZIjvQp7UPvnwgGu46DXanFmDSZ3tRVM6Vgonqw2KR8dKPifhsZ/U6Mq+N7MjJvgph02Vm7ty5kCSpzuHv7y86FpFNuiXMGysfioanswYHMy5g4qd7UFhaKToWkSKYzBY8+8MRrNyTAUkC3hrbibdfK4hNlxkA6NixI7Kzs2uOhIQE0ZGIbFbnYC+sfrgXmrppkXjWgPFLdyOnqEJ0LCKbVlFlxuOrDuG7A2egkoC3/xWFe3uEiI5F9WDzZUaj0cDf37/maNas2TWfbzQaYTAY6hxEjqRDoCe+eaQn/Dx1OJlbgrFLdiEtv1R0LCKbVGI04YHlcdh0NAdatQofTuyG0V2CRMeierL5MpOcnIzAwECEhYVh/PjxSE1NvebzY2JioNfra47gYC43TY6nta8Hvp/eGy2auuLshXLcs2QXEs8WiY5FZFMKSysx4ZM92HWqAG5aNZY/0ANDIziVQYkkWZZl0SGuZuPGjSgrK0N4eDhyc3Mxb948nDhxAkePHkXTpk2v+Bqj0Qij0VjztcFgQHBwMIqKiuDp6Wmt6EQ2Ib/EiCmf78PRLAPcdRosndQNvVv7iI5FJFzWhXJM+mwvTp0rhbebFsvv74HIIC/RsagWg8EAvV5/XZ/fNl1m/q60tBStWrXCM888g9mzZ1/Xa+rzZhDZo+KKKjz85QHsTi2AVq3CovGdMbxTgOhYRMIczzZg6rJ9yDUYEah3xpcPRqO1r7voWPQ39fn8tvnLTLW5ubmhU6dOSE5OFh2FSDE8nJ2w7P4eGNrRH5VmC2asOohPd6RCQT/HEDWYP1PyMe6j3cg1GBHu547vH+3NImMHFFVmjEYjjh8/joAA/lRJVB/OTmp8MLErJvUMhSwD8345jld/OgazhYWGHMeag2cw5fN9KDGa0LOlN76b3huBXi6iY1EDsOky89RTTyE2NhZpaWnYu3cv7rnnHhgMBkyZMkV0NCLFUaskvDayI54f3g4AsHxXOqavPIDySm5/QPZNlmV8sDUFs789DJNFxoioQHzxwC3QuziJjkYNxKbLzJkzZ3Dfffehbdu2GDNmDLRaLfbs2YPQ0FDR0YgUSZIkPNy/FRZP6AKtRoXNx3Ix/pM9yCvmWjRkn4wmM5767ggW/JoEAHjk1pZ4997O0GnUgpNRQ1LUBOAbwQnARFcWl16IaV/ux4WyKgTqnfHJlO7oGKgXHYuowRSWVuKRFfsRl34eapWEuSM6YBJX9VUMu50ATEQNp0cLb6x9rA9a+rghq6gC9yzZjU2JOaJjETWI5NxijPxgJ+LSz8NDp8GyqT1YZOwYywyRAwvzccPax/qgb2sflFeZMX3lAXywNYV3OpGibU3Kw5gPdyGzsBwh3q5Y81hv9A+/9urxpGwsM0QOTu/qhOX398CUXtVz0Rb8moQnVsejrNIkOBlR/Vya6PvA8jgUG024pYU31s3ogzZ+HqKjUSNjmSEiaNQqvDoyAvNGRUCtkvDT4SyM+XAXThdwTydShhKjCY99dRALfk2CLAP33RKCFQ/dAm83rehoZAUsM0RU4989Q7HqoWj4uGtxIqcYI97fia1JeaJjEV1TWn4pRn/wJzYm5sBJLeGN0Z0QM6YT71hyICwzRFRHdMum+HlmP3QJ8YKhonpH4ff/SIaFC+yRDfr1aA7uXrwTyXkl8PXQYfXDvTAhOkR0LLIylhkiuoy/3hmrH+6JidEhkGVg4eaTuH95HApKjP/8YiIrqDJbMO/nY3hkxQEUV5jQLbQJfp7ZF91Cm4iORgKwzBDRFek0arw+uhPm3xMJnUaF2JPncOd7O7EvrVB0NHJwZy+U418f78anO9MAANP6hWH1wz3h6+ksOBmJwjJDRNf0r+7B+PHxPmjVzA05hgrc98kefLA1hZedSIgtJ3Jx53s7cCjjAjydNVg6qRteuLMDnNT8OHNkXAGYiK5LqdGEF9clYu2hswCAfm18sHBcFH8aJquoqDIjZsNxfLH7NAAgMkiPDyZ0RbC3q+Bk1Fi4AjARNTg3nQZv/ysK88dGwtlJhR3J+bhj0Xb8epSrBlPjOpFjwMjFf9YUmfv7tMB303uxyFANjswQUb2l5BXjydXxOJplAACM7xGMl+7qADedRnAysicWi4wvd6fjjY0nUGmywMddh/+Ni8SAtr6io5EV1Ofzm2WGiG5IpcmChZuTsHR7KmQZaNHUFQv/1Zl3k1CDOHO+DM/+cAR/phQAAAa2bYYF46Lg464TnIyshWWmFpYZosa161Q+/vPtYWQXVUCSgIf6huE/Q9rC2YkLllH9ybKMb+IyMe+X4ygxmuDspMKcYe0xuVcoJEkSHY+siGWmFpYZosZXVFaFV38+ijUHqycHt/Rxw/x7ItG9hbfgZKQk2UXleO6HBMSePAcA6B7aBAvGRSHMx01wMhKBZaYWlhki69lyIhdz1iQg12CEJAH39w7Df4aEcy4NXZPZIuOrvacxf1MSSowm6DQqPH1HW9zfJwxqFUdjHBXLTC0sM0TWVVRehf/+fAzfHzgDAAjUO2Pu3R0xpKO/4GRki07kGDBnTQIOZVwAAHQJ8cKCe6LQ2tddbDASjmWmFpYZIjG2JeXhpR8TkVlYDgAY0sEPc+/uiEAvF8HJyBaUV5rx/pZkLN2eCpNFhrtOg2eHtsXE6FCoOBpDYJmpg2WGSJzySjPe25KMTy5+YLlp1XhicBvc3ycMWg2XuXJEsixjY2IOXv/lOM5eqC66Qzv6Y+7dHeGv5wKM9BeWmVpYZojES8opxvNrE3Dg9HkAQJiPG166qz0GtfMTnIys6WRuMeauP4pdp6pvt27u5YKXR3TAHbwESVfAMlMLywyRbbBYZPxw8Aze2pSE/Iu7bw9o2wwv3dUBrZpxfoQ9O19aife2JOPL3adhtsjQalSYfmsrPHprK7hoeQs/XRnLTC0sM0S2pbiiCou3pODzP9NQZZahUUm475YQzBzcGr4evMxgTyqqzFj2Zzo+3JaC4goTgOq5Uy/d1YFbEdA/YpmphWWGyDalnivB678cxx8n8gAArlo1HurXEg/3bwl33sqtaGaLjHWHzmLhb0nIKqoAALQP8MTzw9uhX5tmgtORUrDM1MIyQ2Tb9qQW4M2NJxCfeQEA0NRNi0cHtMLE6FBeglAYi0XGhsRsvPt7MpLzSgBU35r/1B1tMapzc96lRPXCMlMLywyR7ZNlGZsSc7Dg1ySk5pcCAHzcdXikf0tM7BkCVy1HamyZxSJj09EcvPt7MpJyiwEAns4azBjYGlN6t+DWFnRDWGZqYZkhUo4qswVrDp7B4q0pNevT+LhrMa1fS0yIDoGHs5PghFRbldmCn49k4ePYVJzIqS4xHs4aPNS3Je7v2wKe/Puim8AyUwvLDJHyVJktWHvwLBZvTUFGYRmA6g/JCdEheKBPGPw8OVFYpLJKE76Jy8SnO9Jq1orx0Glwf98wPNg3DHoXlhi6eSwztbDMEClXldmCtYfO4uPYUzh1rvryk5NawsjOzfFg3zC0D+D/09aUXVSOr/Zk4Ku9p3G+rApA9Ryn+/u0wKSeLaB3ZYmhhsMyUwvLDJHyWSwytpzIw9LtqdiXXlhzvntoE0zqFYqhEf7QaTgvozHIsow9qYX4cnc6fjuWC7Ol+iMjxNsV0/q3xLhuQZwTQ42CZaYWlhki+3Io4zw+3ZmGXxNzYLr4wdrUTYt/9QjGuG5BaMkF+BpEfokR6w6dxbf7M3Eyt6TmfM+W3pjcqwWGdPCDRs0tKajxsMzUwjJDZJ/yDBVYHZeJVXszkGOoqDnfNcQLY7sF4a7IQM7dqKcqswXbks7hu/2Z2HIir6YsujipMaZrc0zu1QJt/T0EpyRHwTJTC8sMkX0zmS34/XgevonLwPbk/JrLIFqNCoPb+WJ4pwAMaucLNy7Ed0UmswV7UgvxS0IWNiXm1MyFAYCoYC+M6xaEEVEshmR9LDO1sMwQOY684gr8eCgL3x84U7PeCQDoNCoMaNsMwzsFYEC4r8NPVK2oMmN3agF+P5aLX4/mIL+ksuYxH3ctRndpjnHdgxHux1EYEodlphaWGSLHI8syjmYZsCEhGxsSspFeUFbzmEoCuoU2wYC2vhjY1hftAzwgSfa/Mm3WhXLEnjyHP47n4c+UfJRXmWsea+LqhKERAbgrMgDRYd6cC0M2gWWmFpYZIscmyzKOZVcXm1+P5iIlr6TO4z7uOkS39EbPMG9Et2yKNr7udlFu8gwV2J1agN2nCrA7tQCnaxU6AAjQO2NQO18M6eiP3q2awokFhmyM3ZWZDz/8EAsWLEB2djY6duyIRYsWoV+/ftf1WpYZIqots7AM206eQ2xSHv5MKagzQgEA3m5aRAXpERnkhahgPTo190IzD52gtNen1GjC0SwDDmdeQPzF49JidpeoVRIig/QY3M4Xg9r5OcyIFCmXXZWZb775BpMmTcKHH36IPn364OOPP8ann36KY8eOISQk5B9fzzJDRFdjNJlxOLMIe1ILsDetAAdOn0dFleWy5/l56tDG1wOtfd1rjhBvV/h5OkNtpc0TZVlGfkklMs+X4XRBKU7mliA5txhJucU1Wz/UJklAx0BP9GrZFL1aNUWPFt7cDoIUxa7KTHR0NLp27YolS5bUnGvfvj1GjRqFmJiYf3w9ywwRXa9KkwWJWUVIOFOEI2eKcOTMBaScK8HV/pXUqCT4653R3MsFgV4u8HbT1hxNXLVw12ng7KSCs5MaLlo1tBcv5cgyIEOGLANGkwWllSaUGc0orTShpMKEglIjCkoqca6k+tesC+U4c778slGk2vw8degc7IWoYC90DvZCZJAX3HkHFylYfT6/bfq/9MrKShw4cADPPfdcnfNDhgzBrl27rvgao9EIo9FY87XBYGjUjERkP7QaFbqGNEHXkCY150qMJiTnFiM5rwQpF4/kvGJkX6iAySLjzPnqomENkgT4ezoj2NsVbXzd0dbfA+F+1Ye3m9YqGYhskU2Xmfz8fJjNZvj5+dU57+fnh5ycnCu+JiYmBq+++qo14hGRA3DXadAlpAm61Co4AGC2yMg1VODshXKcPV+OHEMFzpdVorCksvrX0kqUVZpRUWVGeZUZ5ZVmGE0WSBIgQYJKAiRJgk6jgotWDTetBq666l+bumvh466Dj7sOTd21NQUm0MuZ2zYQXYFNl5lL/j5JTZblq05cmzNnDmbPnl3ztcFgQHBwcKPmIyLHo1ZJCLx4ealHC9FpiBybTZcZHx8fqNXqy0Zh8vLyLhutuUSn00Gns+07D4iIiKjh2PTCAlqtFt26dcPmzZvrnN+8eTN69+4tKBURERHZEpsemQGA2bNnY9KkSejevTt69eqFpUuXIiMjA9OnTxcdjYiIiGyAzZeZe++9FwUFBXjttdeQnZ2NiIgIbNiwAaGhoaKjERERkQ2w+XVmbhbXmSEiIlKe+nx+2/ScGSIiIqJ/wjJDREREisYyQ0RERIrGMkNERESKxjJDREREisYyQ0RERIrGMkNERESKxjJDREREisYyQ0RERIpm89sZ3KxLCxwbDAbBSYiIiOh6Xfrcvp6NCuy+zBQXFwMAgoODBSchIiKi+iouLoZer7/mc+x+byaLxYKsrCx4eHhAkiTRcYQzGAwIDg5GZmYm96pqRHyfrYPvs3XwfbYOvs91ybKM4uJiBAYGQqW69qwYux+ZUalUCAoKEh3D5nh6evJ/Fivg+2wdfJ+tg++zdfB9/ss/jchcwgnAREREpGgsM0RERKRoLDMORqfT4ZVXXoFOpxMdxa7xfbYOvs/WwffZOvg+3zi7nwBMRERE9o0jM0RERKRoLDNERESkaCwzREREpGgsM0RERKRoLDMEo9GIzp07Q5IkxMfHi45jV9LT0/Hggw8iLCwMLi4uaNWqFV555RVUVlaKjqZ4H374IcLCwuDs7Ixu3bphx44doiPZnZiYGPTo0QMeHh7w9fXFqFGjkJSUJDqW3YuJiYEkSZg1a5boKIrBMkN45plnEBgYKDqGXTpx4gQsFgs+/vhjHD16FO+88w4++ugjPP/886KjKdo333yDWbNm4YUXXsChQ4fQr18/DBs2DBkZGaKj2ZXY2FjMmDEDe/bswebNm2EymTBkyBCUlpaKjma34uLisHTpUkRGRoqOoii8NdvBbdy4EbNnz8YPP/yAjh074tChQ+jcubPoWHZtwYIFWLJkCVJTU0VHUazo6Gh07doVS5YsqTnXvn17jBo1CjExMQKT2bdz587B19cXsbGx6N+/v+g4dqekpARdu3bFhx9+iHnz5qFz585YtGiR6FiKwJEZB5abm4tp06ZhxYoVcHV1FR3HYRQVFcHb21t0DMWqrKzEgQMHMGTIkDrnhwwZgl27dglK5RiKiooAgP/9NpIZM2bgzjvvxG233SY6iuLY/UaTdGWyLGPq1KmYPn06unfvjvT0dNGRHMKpU6fw/vvvY+HChaKjKFZ+fj7MZjP8/PzqnPfz80NOTo6gVPZPlmXMnj0bffv2RUREhOg4dmf16tU4ePAg4uLiREdRJI7M2Jm5c+dCkqRrHvv378f7778Pg8GAOXPmiI6sSNf7PteWlZWFoUOHYty4cXjooYcEJbcfkiTV+VqW5cvOUcN5/PHHceTIEXz99deio9idzMxMPPnkk1i5ciWcnZ1Fx1EkzpmxM/n5+cjPz7/mc1q0aIHx48fjp59+qvOPv9lshlqtxsSJE/HFF180dlRFu973+dI/TFlZWRg4cCCio6OxfPlyqFT8OeJGVVZWwtXVFd999x1Gjx5dc/7JJ59EfHw8YmNjBaazTzNnzsS6deuwfft2hIWFiY5jd9atW4fRo0dDrVbXnDObzZAkCSqVCkajsc5jdDmWGQeVkZEBg8FQ83VWVhbuuOMOfP/994iOjkZQUJDAdPbl7NmzGDhwILp164aVK1fyH6UGEB0djW7duuHDDz+sOdehQweMHDmSE4AbkCzLmDlzJtauXYtt27ahTZs2oiPZpeLiYpw+fbrOufvvvx/t2rXDs88+y8t614FzZhxUSEhIna/d3d0BAK1atWKRaUBZWVkYMGAAQkJC8L///Q/nzp2reczf319gMmWbPXs2Jk2ahO7du6NXr15YunQpMjIyMH36dNHR7MqMGTOwatUq/Pjjj/Dw8KiZk6TX6+Hi4iI4nf3w8PC4rLC4ubmhadOmLDLXiWWGqBH99ttvSElJQUpKymUlkYOiN+7ee+9FQUEBXnvtNWRnZyMiIgIbNmxAaGio6Gh25dKt7wMGDKhzftmyZZg6dar1AxFdBS8zERERkaJxFiIREREpGssMERERKRrLDBERESkaywwREREpGssMERERKRrLDBERESkaywwREREpGssMERERKRrLDBERESkaywwRKYrZbEbv3r0xduzYOueLiooQHByMF198UVAyIhKF2xkQkeIkJyejc+fOWLp0KSZOnAgAmDx5Mg4fPoy4uDhotVrBCYnImlhmiEiR3nvvPcydOxeJiYmIi4vDuHHjsG/fPnTu3Fl0NCKyMpYZIlIkWZYxaNAgqNVqJCQkYObMmbzEROSgWGaISLFOnDiB9u3bo1OnTjh48CA0Go3oSEQkACcAE5Fiff7553B1dUVaWhrOnDkjOg4RCcKRGSJSpN27d6N///7YuHEj5s+fD7PZjN9//x2SJImORkRWxpEZIlKc8vJyTJkyBY888ghuu+02fPrpp4iLi8PHH38sOhoRCcAyQ0SK89xzz8FiseCtt94CAISEhGDhwoV4+umnkZ6eLjYcEVkdLzMRkaLExsZi8ODB2LZtG/r27VvnsTvuuAMmk4mXm4gcDMsMERERKRovMxEREZGiscwQERGRorHMEBERkaKxzBAREZGiscwQERGRorHMEBERkaKxzBAREZGiscwQERGRorHMEBERkaKxzBAREZGiscwQERGRov0/HvGHp5aGZqIAAAAASUVORK5CYII=",
      "text/plain": [
       "<Figure size 640x480 with 1 Axes>"
      ]
     },
     "metadata": {},
     "output_type": "display_data"
    }
   ],
   "source": [
    "# Plot y versus x using matplotlib\n",
    "import matplotlib.pyplot as plt\n",
    "plt.plot(x, y)\n",
    "plt.xlabel(\"X\")\n",
    "plt.ylabel(\"Y\")"
   ]
  },
  {
   "cell_type": "markdown",
   "id": "1a3b44c5-4bd9-4c1a-bc77-7a500c35401f",
   "metadata": {},
   "source": [
    "### Exploring Library Methods and Objects\n",
    "\n",
    "- Use `dir()` function to print object attributes and methods\n",
    "- Use .<tab> on an object for a list of methods"
   ]
  },
  {
   "cell_type": "code",
   "execution_count": 31,
   "id": "05eb07f4-ddc6-48a1-ae61-8096c95cd220",
   "metadata": {},
   "outputs": [
    {
     "name": "stdout",
     "output_type": "stream",
     "text": [
      "['__add__', '__class__', '__class_getitem__', '__contains__', '__delattr__', '__delitem__', '__dir__', '__doc__', '__eq__', '__format__', '__ge__', '__getattribute__', '__getitem__', '__getstate__', '__gt__', '__hash__', '__iadd__', '__imul__', '__init__', '__init_subclass__', '__iter__', '__le__', '__len__', '__lt__', '__mul__', '__ne__', '__new__', '__reduce__', '__reduce_ex__', '__repr__', '__reversed__', '__rmul__', '__setattr__', '__setitem__', '__sizeof__', '__str__', '__subclasshook__', 'append', 'clear', 'copy', 'count', 'extend', 'index', 'insert', 'pop', 'remove', 'reverse', 'sort']\n"
     ]
    }
   ],
   "source": [
    "# list properties\n",
    "list_data = [0, 1, 2, 4]\n",
    "print(dir(list_data))"
   ]
  },
  {
   "cell_type": "code",
   "execution_count": 34,
   "id": "173c9a57-77f4-4610-a139-39a754819d69",
   "metadata": {},
   "outputs": [
    {
     "name": "stdout",
     "output_type": "stream",
     "text": [
      "['any', 'append', 'apply_along_axis', 'apply_over_axes', 'arange', 'arccos', 'arccosh', 'arcsin', 'arcsinh', 'arctan']\n",
      "arcsin\n",
      "arcsinh\n",
      "asin\n",
      "asinh\n",
      "csingle\n",
      "isin\n",
      "isinf\n",
      "isposinf\n",
      "sin\n",
      "sinc\n",
      "single\n",
      "sinh\n"
     ]
    }
   ],
   "source": [
    "# numpy object\n",
    "import numpy as np\n",
    "np_properties = dir(np)\n",
    "print(np_properties[50:60])\n",
    "\n",
    "# search for sin in numpy\n",
    "for prop in np_properties:\n",
    "    if \"sin\" in prop:\n",
    "        print(prop)\n",
    "# Also try using `tab`"
   ]
  },
  {
   "cell_type": "markdown",
   "id": "5f75d362-23ee-4f3d-8642-1f7d0bc07d96",
   "metadata": {},
   "source": [
    "### Getting Description of method in Google Colab/Ipython\n",
    "\n",
    "Use question map at the end of the function"
   ]
  },
  {
   "cell_type": "code",
   "execution_count": 40,
   "id": "f06e755e-771d-4bb3-8949-53ab908f1f45",
   "metadata": {},
   "outputs": [
    {
     "data": {
      "text/plain": [
       "\u001b[31mSignature:\u001b[39m my_list.clear()\n",
       "\u001b[31mDocstring:\u001b[39m Remove all items from list.\n",
       "\u001b[31mType:\u001b[39m      builtin_function_or_method"
      ]
     },
     "metadata": {},
     "output_type": "display_data"
    }
   ],
   "source": [
    "my_list = [0, 1, 2, 3]\n",
    "my_list.clear?"
   ]
  },
  {
   "cell_type": "markdown",
   "id": "34a52652-1e49-4d95-b921-a2bba56be3f9",
   "metadata": {},
   "source": [
    "### Creating your own library\n",
    "\n",
    "You can create your own library by creating a python text file\n",
    "\n",
    "- The file should be named `<library_name>.py` e.g. `person.py`\n",
    "- Add as many functions and classes as desired to the file\n",
    "- `import` the library using `import library_name` e.g. `import person`"
   ]
  },
  {
   "cell_type": "markdown",
   "id": "f074bb35-bb64-4d51-a95a-e84eb32d59c8",
   "metadata": {},
   "source": [
    "#### Library Exercise: \n",
    "\n",
    "- Create a person library using the `Person` class above\n",
    "- Add a function outside the class that will be used independent of the `Person` class"
   ]
  },
  {
   "cell_type": "markdown",
   "id": "93e7e0dd-56a8-45cc-a1a8-11cbb1571d01",
   "metadata": {},
   "source": [
    "## Exercises\n",
    "\n",
    "### Exercise 1: Using NumPy\n",
    "\n",
    "1. **Create a NumPy array**: Create a 1D array of integers from 1 to 10.\n",
    "2. **Calculate statistics**: Compute the mean, median, and standard deviation of the array.\n",
    "3. **Reshape the array**: Reshape the array into a 2D matrix with 2 rows and 5 columns.\n",
    "4. **Perform element-wise operations**: Multiply each element of the matrix by 2.\n",
    "5. **Indexing and slicing**: Extract the second row of the matrix.\n",
    "\n",
    "Here's a brief example of how you might approach Exercise 1 using NumPy:"
   ]
  },
  {
   "cell_type": "code",
   "execution_count": 36,
   "id": "b5365971-84d1-4098-99f6-66b6605238f6",
   "metadata": {},
   "outputs": [
    {
     "name": "stdout",
     "output_type": "stream",
     "text": [
      "Mean: 5.5, Median: 5.5, Standard Deviation: 2.8722813232690143\n",
      "Reshaped matrix:\n",
      " [[ 1  2  3  4  5]\n",
      " [ 6  7  8  9 10]]\n",
      "Matrix after multiplying by 2:\n",
      " [[ 2  4  6  8 10]\n",
      " [12 14 16 18 20]]\n",
      "Second row of matrix: [12 14 16 18 20]\n"
     ]
    }
   ],
   "source": [
    "import numpy as np\n",
    "\n",
    "# Exercise 1: Using NumPy\n",
    "# 1. Create a NumPy array\n",
    "array = np.array([1, 2, 3, 4, 5, 6, 7, 8, 9, 10])\n",
    "\n",
    "# 2. Calculate statistics\n",
    "mean = np.mean(array)\n",
    "median = np.median(array)\n",
    "std_dev = np.std(array)\n",
    "\n",
    "print(f\"Mean: {mean}, Median: {median}, Standard Deviation: {std_dev}\")\n",
    "\n",
    "# 3. Reshape the array\n",
    "matrix = array.reshape(2, 5)\n",
    "print(\"Reshaped matrix:\\n\", matrix)\n",
    "\n",
    "# 4. Perform element-wise operations\n",
    "matrix *= 2\n",
    "print(\"Matrix after multiplying by 2:\\n\", matrix)\n",
    "\n",
    "# 5. Indexing and slicing\n",
    "second_row = matrix[1, :]\n",
    "print(\"Second row of matrix:\", second_row)"
   ]
  },
  {
   "cell_type": "markdown",
   "id": "f89cafff-948d-4dde-90fa-554cf10735c5",
   "metadata": {},
   "source": [
    "### Using `matplotlib`\n",
    "\n",
    "To generate a plot, we write several lines of code, each line calling a **pyplot** method (function) that serves a specific purpose. Here’s a brief explanation of the common methods used in `matplotlib.pyplot (plt)` and why they are essential for creating a visual:\n",
    "\n",
    "- Depending on the type of plot we want to create, we can use one of the following methods.\n",
    "\n",
    "    - `plt.plot()`: This is the core method for creating a line plot. You pass in the data you want to visualize, and plt.plot() draws the lines connecting your data points. It’s the main action that puts the data on the canvas.\n",
    "    \n",
    "    - `plt.scatter()`: Creates a scatter plot, which is used to show the relationship between two variables. It displays individual data points as dots, making it easier to see patterns or correlations.\n",
    "    \n",
    "    - `plt.bar()`: Generates a bar chart, which is useful for comparing categorical data. Bars represent the frequency or amount of each category, allowing for easy comparison.\n",
    "\n",
    "    - `plt.hist()`: Creates a histogram, which is used to show the distribution of a dataset. It groups data into bins and displays the frequency of data points within each bin.\n",
    "    \n",
    "    - `plt.boxplot()`: Produces a box plot, which visualizes the distribution of data based on quartiles. It highlights the median, quartiles, and outliers, providing insights into the data’s spread and variability.\n",
    "    \n",
    "    - `plt.pie()`: Makes a pie chart, which shows the proportion of each category as a slice of a pie. It’s useful for illustrating how different parts make up a whole.\n",
    "    \n",
    "    - `plt.barh()`: Creates a horizontal bar chart, similar to plt.bar() but with bars oriented horizontally. This can be useful for displaying longer category names.\n",
    "\n",
    "- `plt.title()`: This method adds a title to your plot. It’s important because it gives context to the visual, letting the viewer know what the data represents.\n",
    "\n",
    "- `plt.xlabel()` and `plt.ylabel()`: These methods label the x-axis and y-axis, respectively. Labels are crucial because they tell the viewer what each axis represents, making the chart easier to understand.\n",
    "\n",
    "- `plt.legend()`: When you have multiple lines or data series in one plot, the legend helps identify which line corresponds to which data. It adds a small box that labels each line, making the plot clearer.\n",
    "\n",
    "- `plt.show()`: This method displays the plot. Without it, the plot might not appear, especially in some programming environments. It’s like hitting the “display” button to see the final chart. Not necessary using Colab/Jupyter"
   ]
  },
  {
   "cell_type": "markdown",
   "id": "e3694994-c07c-4274-9dab-c673dbb71ba3",
   "metadata": {},
   "source": [
    "Exercise 2: Using Matplotlib\n",
    "\n",
    "1. **Line plot**: Plot a simple line graph of `y = sin(x)` for values of `x` from 0 to 2π.\n",
    "2. **Scatter plot**: Generate random data points (x, y) and plot them as a scatter plot.\n",
    "3. **Histogram**: Create a histogram of random data with 50 bins.\n",
    "4. **Customizing plots**: Customize the plot by adding labels to axes, a title, and a legend (if applicable).\n",
    "5. **Subplots**: Create a figure with multiple subplots, each displaying different types of plots (e.g., line plot, scatter plot)."
   ]
  },
  {
   "cell_type": "markdown",
   "id": "222a0a75-f646-4756-ba80-9959ec09c16d",
   "metadata": {},
   "source": [
    "## Data Science\n",
    "\n",
    "Data science is a growing field that combines \n",
    " - mathematics\n",
    " - statistics\n",
    " - computer science\n",
    "\n",
    "to **extract meaningful insights** from data. \n",
    "\n",
    "By analyzing and interpreting large amounts of information, data scientists can **uncover patterns**, **make predictions**, and help solve complex problems. \n",
    "\n",
    "In this introduction to data science, you will learn how to use Python to analyze real-world data.\n"
   ]
  },
  {
   "cell_type": "markdown",
   "id": "5883f9a9-983a-46e1-ac00-b1875abf6ec5",
   "metadata": {},
   "source": [
    "### Learning Objectives\n",
    "\n",
    "- To ask good questions about your data in preparation for analysis,\n",
    "- To read data into python from a url,\n",
    "- To identify the level of observation of a dataset,\n",
    "- To explore a pandas dataframe by applying attributes and methods on it."
   ]
  },
  {
   "cell_type": "markdown",
   "id": "7499049a-207f-4281-a6b7-151fa55c24f8",
   "metadata": {},
   "source": [
    "### Japa!\n",
    "\n",
    "Every data science project begins with data, and understanding the context behind the data is crucial for extracting meaningful insights.\n",
    "\n",
    "Our dataset is extracted from the [World Bank's](https://databank.worldbank.org/source/global-bilateral-migration) Global Bilateral Migration database. The dataset provides detailed information on international migration patterns between countries. It includes data on the number of migrants by origin and destination countries, from 1960 to 2000, in ten-year intervals. This dataset can help in analyzing migration trends, demographic changes, and the impacts of migration on economies and societies globally. It is a valuable resource for researchers, policymakers, and organizations involved in migration studies and related fields.\n",
    "\n",
    "Let's spend some time exploring the dataset."
   ]
  },
  {
   "cell_type": "code",
   "execution_count": 21,
   "id": "2b862d35-dbc7-47b9-9d1e-5a78f639e51e",
   "metadata": {},
   "outputs": [],
   "source": [
    "import pandas as pd\n",
    "\n",
    "url = 'https://raw.githubusercontent.com/naijacoderorg/lectures/main/lectures2024/datascience/migrations.csv'\n",
    "df = pd.read_csv(url)"
   ]
  },
  {
   "cell_type": "markdown",
   "id": "4c615a0d-b1e7-45f3-a1c6-848ff4fce3bc",
   "metadata": {},
   "source": [
    "#### Pandas DataFrame Attributes and Methods\n",
    "\n",
    "When we pull in data using pandas read.csv, the object we obtain inherits a class of Pandas DataFrame.\n"
   ]
  },
  {
   "cell_type": "code",
   "execution_count": 22,
   "id": "f2a6149b-c432-4cf1-a8ec-dde6b275e284",
   "metadata": {},
   "outputs": [
    {
     "data": {
      "text/plain": [
       "pandas.core.frame.DataFrame"
      ]
     },
     "execution_count": 22,
     "metadata": {},
     "output_type": "execute_result"
    }
   ],
   "source": [
    "df.__class__ # check for the class of df"
   ]
  },
  {
   "cell_type": "markdown",
   "id": "864b5c3f-9800-457a-8aff-9249d346e173",
   "metadata": {},
   "source": [
    "As a pandas dataframe, our `df` object has certain attributes and methods. An **attribute** in programming is a property of an object that stores data about that object. A **method** is a function that can perform an action on an object of the specified class. Both attributes and methods are accessed using dot notation, but methods additionally have parentheses `()`—because they are functions—even when no arguments are specified.\n",
    "\n",
    "Let's explore some DataFrame attributes and methods for our dataset.\n",
    "\n",
    "#### `.head()` displays the first few rows of the DataFrame\n",
    "\n",
    "By default, only the first five rows are displayed. To get a different number of rows, you can specify that in the argument, like `df.head(10)`."
   ]
  },
  {
   "cell_type": "code",
   "execution_count": 37,
   "id": "d72cc35d-94e1-435e-ade0-c5c44794237d",
   "metadata": {},
   "outputs": [
    {
     "data": {
      "text/html": [
       "<div>\n",
       "<style scoped>\n",
       "    .dataframe tbody tr th:only-of-type {\n",
       "        vertical-align: middle;\n",
       "    }\n",
       "\n",
       "    .dataframe tbody tr th {\n",
       "        vertical-align: top;\n",
       "    }\n",
       "\n",
       "    .dataframe thead th {\n",
       "        text-align: right;\n",
       "    }\n",
       "</style>\n",
       "<table border=\"1\" class=\"dataframe\">\n",
       "  <thead>\n",
       "    <tr style=\"text-align: right;\">\n",
       "      <th></th>\n",
       "      <th>origin_country</th>\n",
       "      <th>origin_country_code</th>\n",
       "      <th>origin_continent</th>\n",
       "      <th>dest_country</th>\n",
       "      <th>dest_country_code</th>\n",
       "      <th>dest_continent</th>\n",
       "      <th>1960</th>\n",
       "      <th>1970</th>\n",
       "      <th>1980</th>\n",
       "      <th>1990</th>\n",
       "      <th>2000</th>\n",
       "    </tr>\n",
       "  </thead>\n",
       "  <tbody>\n",
       "    <tr>\n",
       "      <th>0</th>\n",
       "      <td>Afghanistan</td>\n",
       "      <td>AFG</td>\n",
       "      <td>Asia</td>\n",
       "      <td>Afghanistan</td>\n",
       "      <td>AFG</td>\n",
       "      <td>Asia</td>\n",
       "      <td>0</td>\n",
       "      <td>0</td>\n",
       "      <td>0</td>\n",
       "      <td>0</td>\n",
       "      <td>0</td>\n",
       "    </tr>\n",
       "    <tr>\n",
       "      <th>1</th>\n",
       "      <td>Afghanistan</td>\n",
       "      <td>AFG</td>\n",
       "      <td>Asia</td>\n",
       "      <td>Albania</td>\n",
       "      <td>ALB</td>\n",
       "      <td>Europe</td>\n",
       "      <td>0</td>\n",
       "      <td>0</td>\n",
       "      <td>0</td>\n",
       "      <td>0</td>\n",
       "      <td>0</td>\n",
       "    </tr>\n",
       "    <tr>\n",
       "      <th>2</th>\n",
       "      <td>Afghanistan</td>\n",
       "      <td>AFG</td>\n",
       "      <td>Asia</td>\n",
       "      <td>Algeria</td>\n",
       "      <td>DZA</td>\n",
       "      <td>Africa</td>\n",
       "      <td>41</td>\n",
       "      <td>16</td>\n",
       "      <td>13</td>\n",
       "      <td>10</td>\n",
       "      <td>8</td>\n",
       "    </tr>\n",
       "    <tr>\n",
       "      <th>3</th>\n",
       "      <td>Afghanistan</td>\n",
       "      <td>AFG</td>\n",
       "      <td>Asia</td>\n",
       "      <td>American Samoa</td>\n",
       "      <td>ASM</td>\n",
       "      <td>Oceania</td>\n",
       "      <td>0</td>\n",
       "      <td>0</td>\n",
       "      <td>0</td>\n",
       "      <td>0</td>\n",
       "      <td>0</td>\n",
       "    </tr>\n",
       "    <tr>\n",
       "      <th>4</th>\n",
       "      <td>Afghanistan</td>\n",
       "      <td>AFG</td>\n",
       "      <td>Asia</td>\n",
       "      <td>Andorra</td>\n",
       "      <td>AND</td>\n",
       "      <td>Europe</td>\n",
       "      <td>0</td>\n",
       "      <td>0</td>\n",
       "      <td>2</td>\n",
       "      <td>5</td>\n",
       "      <td>6</td>\n",
       "    </tr>\n",
       "  </tbody>\n",
       "</table>\n",
       "</div>"
      ],
      "text/plain": [
       "  origin_country origin_country_code origin_continent    dest_country  \\\n",
       "0    Afghanistan                 AFG             Asia     Afghanistan   \n",
       "1    Afghanistan                 AFG             Asia         Albania   \n",
       "2    Afghanistan                 AFG             Asia         Algeria   \n",
       "3    Afghanistan                 AFG             Asia  American Samoa   \n",
       "4    Afghanistan                 AFG             Asia         Andorra   \n",
       "\n",
       "  dest_country_code dest_continent  1960  1970  1980  1990  2000  \n",
       "0               AFG           Asia     0     0     0     0     0  \n",
       "1               ALB         Europe     0     0     0     0     0  \n",
       "2               DZA         Africa    41    16    13    10     8  \n",
       "3               ASM        Oceania     0     0     0     0     0  \n",
       "4               AND         Europe     0     0     2     5     6  "
      ]
     },
     "execution_count": 37,
     "metadata": {},
     "output_type": "execute_result"
    }
   ],
   "source": [
    "df.head()"
   ]
  },
  {
   "cell_type": "markdown",
   "id": "41e193f9-198e-4200-99bb-8f072de918ed",
   "metadata": {},
   "source": [
    "Dataframes are tabular\n",
    "\n",
    "-  Rows: single observation containing all information for one occurence\n",
    "-  Columns: Features containing specific information e.g. origin_contry_code\n",
    "\n",
    "Whenever we explore a dataset, one of the first questions we ask ourselves is this: **What is the level of an observation?** Can you describe what information a specific row gives you?\n",
    "\n",
    "In this case, each row of the dataset represents a specific migration flow over time. For example, the third row shows the number of migrations from Afghanistan (the origin) to Algeria (the destination) for the years 1960, 1970, 1980, 1990, and 2000. We always spend time ensuring that we understand what each observation represents as the rest of our analysis is hinged on this knowledge.\n",
    "\n",
    "#### `.shape` displays the number of rows and columns"
   ]
  },
  {
   "cell_type": "code",
   "execution_count": 38,
   "id": "bc549de9-7d48-4d66-baab-8902c27d58dd",
   "metadata": {},
   "outputs": [
    {
     "data": {
      "text/plain": [
       "(51076, 11)"
      ]
     },
     "execution_count": 38,
     "metadata": {},
     "output_type": "execute_result"
    }
   ],
   "source": [
    "df.shape"
   ]
  },
  {
   "cell_type": "markdown",
   "id": "5260fea1-333b-47f8-a87a-989e7bf57de1",
   "metadata": {},
   "source": [
    "Try to interpret the result you get? Why do you think the dataset is this large? We'll explore this later, but feel free to brainstorm now"
   ]
  },
  {
   "cell_type": "markdown",
   "id": "79b6b279-2ed1-4216-8525-f168c2a36511",
   "metadata": {},
   "source": [
    "#### DataFrame methods\n",
    "Try out the following attributes and methods to learn more about your dataset.\n",
    "```python\n",
    "df.columns\n",
    "df.dtypes\n",
    "df.index\n",
    "df.size\n",
    "df.values\n",
    "df.info()\n",
    "df.describe()\n",
    "df.isnull().sum()\n",
    ""```\n"
   ]
  },
  {
   "cell_type": "markdown",
   "id": "40eb2bc8-8ce2-4b18-946a-113a50feda0f",
   "metadata": {},
   "source": [
    "### Principles for Formulating Good Data Questions\n",
    "\n",
    "#### 1. Specificity\n",
    "\n",
    "- Good questions are specific. Vague questions lead to unclear answers. Specific questions narrow down the focus and make it easier to find precise answers.\n",
    "- Example: Instead of asking \"How are our sales?\", ask \"How did our sales perform in the last quarter compared to the previous quarter?\"\n",
    "\n",
    "#### 2. Measurability\n",
    "\n",
    "- Questions should be measurable and quantifiable. If you can't measure it, you can't analyze it.\n",
    "- Example: \"What is the average customer satisfaction score for the past six months?\" rather than \"Are our customers happy?\"\n",
    "\n",
    "#### 3. Relevance:\n",
    "\n",
    "- Questions should be relevant to the business goals or research objectives. They should address a real need or problem.\n",
    "- Example: \"Which marketing channel has the highest return on investment in the past year?\" is more relevant than \"What are all the marketing channels we use?\"\n",
    "\n",
    "#### 4. Actionability:\n",
    "\n",
    "- A good data question leads to actionable insights. The answers should help make decisions or drive actions.\n",
    "- Example: \"What are the top three reasons customers are canceling their subscriptions?\" This can lead to actions to reduce churn.\n",
    "\n",
    "In our work in this class, we will ensure that our questions always satisfy Principles 1 and 2. While our questions may not always meet Principles 3 and 4, these principles will become more useful as we begin practicing asking data questions in real-world situations beyond this camp.\n"
   ]
  },
  {
   "cell_type": "markdown",
   "id": "fd4f98a0-b139-45f4-8760-cef203c76872",
   "metadata": {},
   "source": [
    "### Steps to Formulate Good Data Questions:\n",
    "\n",
    "#### 1. Identify the Objective:\n",
    "\n",
    "- Start by understanding the problem or goal. What do you want to achieve with this analysis?\n",
    "- Example: If the goal is to increase sales, your questions should focus on factors influencing sales.\n",
    "\n",
    "#### 2. Break Down the Problem:\n",
    "\n",
    "- Divide the main objective into smaller, more manageable questions.\n",
    "- Example: Instead of \"How can we increase sales?\", ask \"Which products have seen a decline in sales?\", \"Which customer segments are underperforming?\", and \"Which marketing campaigns were most effective?\"\n",
    "\n",
    "#### 3. Consider the Data Available:\n",
    "\n",
    "- Ensure that the questions can be answered with the data you have or can realistically obtain.\n",
    "- Example: If you have sales data by region, you can ask \"Which regions have the highest growth in sales?\"\n",
    "\n",
    "#### 4. Iterate and Refine:\n",
    "\n",
    "- Continuously refine your questions based on initial findings and feedback.\n",
    "- Example: After analyzing the initial sales data, you might refine the question to focus on a specific product line or customer segment.\n",
    "\n",
    "### Brainstorming Activity\n",
    "\n",
    "In small groups, let's practice coming up with good questions based on our dataset. In your group, brainstorm a list of specific, measurable, (relevant), and (actionable) questions that you would ask.\n",
    "\n",
    "When the time is up, you will present your questions to the class."
   ]
  },
  {
   "cell_type": "markdown",
   "id": "67a97888-6f3f-4d55-92aa-783fcce938b9",
   "metadata": {},
   "source": [
    "## Exercises\n",
    "\n",
    "### Using Pandas Exercises\n",
    "\n",
    "1. **Create a DataFrame**: Create a Pandas DataFrame from a dictionary with columns 'Name', 'Age', and 'City'.\n",
    "2. **Read from CSV**: Load a CSV file into a DataFrame using `pd.read_csv()`.\n",
    "3. **Data manipulation**: Add a new column 'Salary' to the DataFrame with random salary values.\n",
    "4. **Filtering and querying**: Filter rows where 'Age' is greater than 30 and 'City' is 'New York'.\n",
    "5. **Grouping and aggregation**: Group the data by 'City' and calculate the average salary for each city.\n",
    "\n",
    "### Combined Exercises\n",
    "\n",
    "1. **Data manipulation and visualization**: Load a dataset (e.g., from Seaborn's built-in datasets or CSV), perform data manipulation using Pandas (e.g., filtering, grouping), and visualize the results using Matplotlib (e.g., bar plot, box plot)."
   ]
  },
  {
   "cell_type": "markdown",
   "id": "b78f563d-b87c-48d2-91d8-6960b5d009c5",
   "metadata": {},
   "source": [
    "### Homework for Next Week\n",
    "1. Read chapter 1 (The Role of Algorithms in Computing) in CLRS\n",
    "2. Read chapter 2 (Getting Started) in CLRS\n",
    "3. Read chapter 3 (Growth of Functions) in CLRS"
   ]
  }
 ],
 "metadata": {
  "kernelspec": {
   "display_name": "Python 3 (ipykernel)",
   "language": "python",
   "name": "python3"
  },
  "language_info": {
   "codemirror_mode": {
    "name": "ipython",
    "version": 3
   },
   "file_extension": ".py",
   "mimetype": "text/x-python",
   "name": "python",
   "nbconvert_exporter": "python",
   "pygments_lexer": "ipython3",
   "version": "3.13.5"
  }
 },
 "nbformat": 4,
 "nbformat_minor": 5
}
