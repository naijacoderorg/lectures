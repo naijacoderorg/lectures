{
 "cells": [
  {
   "attachments": {},
   "cell_type": "markdown",
   "id": "b7ea5a18-128f-46ab-aa3c-26e90b5af2fd",
   "metadata": {},
   "source": [
    "|        | Morning                 | Afternoon                   |\n",
    "|--------|-------------------------|-----------------------------|\n",
    "| Day 1  | Registrations/Setup     | Motivate Syllabus           |\n",
    "|        | Introductions           | Google Colab Setup          |\n",
    "|        | Algorithms Motivation   | Introduction to Python      |\n",
    "| Day 2  | Introduction to Python  | More Introduction to Python |\n",
    "| Day 3  | More Iteration methods  | More Iteration              |\n",
    "| Day 4  | Comprehension/Recursion | Recursion                   |\n",
    "| Day 5  | Objects and Methods     | Datascience                 |\n",
    "|        | Modules                 |                             |\n",
    "|        | VS Code?                |                             |\n",
    "| Day 6  | Datascience             | Growth of Functions         |\n",
    "| Day 7  | Searching Algorithms    | More Searching + Exercises  |\n",
    "| Day 8  | Sorting Algorithms      | More Sorting + Exercises    |\n",
    "| Day 9  | More Sorting Algorithms | Exercises + Education USA   |\n",
    "| Day 10 | Review                  |                             |\n",
    "|        | Exam                    |                             |\n",
    "|        | Certificates            |                             |\n",
    "|        | Photos                  |                             |\n",
    "|        | Keep in touch           |                             |"
   ]
  },
  {
   "cell_type": "markdown",
   "id": "ad0c5c75-10dc-4a1c-97c2-04b4c45f5f63",
   "metadata": {},
   "source": [
    "### Google Co-lab\n",
    "\n",
    "- What is Colab\n",
    "- Colab Demonstration\n",
    "    - Creating notebooks\n",
    "    - Variable scope\n",
    "    - Run through of buttons\n",
    "    - Downloading notebooks\n",
    "    - Variables view\n",
    "- Download and send notebook to <span style=\"color:red\">Submission method</span> at the end of every day\n",
    "\n",
    "#### Goal:\n",
    "\n",
    "Run `print(\"Hello World\")` in Google Colab"
   ]
  }
 ],
 "metadata": {
  "kernelspec": {
   "display_name": "Python 3 (ipykernel)",
   "language": "python",
   "name": "python3"
  },
  "language_info": {
   "codemirror_mode": {
    "name": "ipython",
    "version": 3
   },
   "file_extension": ".py",
   "mimetype": "text/x-python",
   "name": "python",
   "nbconvert_exporter": "python",
   "pygments_lexer": "ipython3",
   "version": "3.13.5"
  }
 },
 "nbformat": 4,
 "nbformat_minor": 5
}
