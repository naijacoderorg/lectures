{
 "cells": [
  {
   "cell_type": "markdown",
   "id": "cf281b17-19b1-4d40-aa3f-aadcc0dbc58d",
   "metadata": {},
   "source": [
    "## Recap\n",
    "\n",
    "### Variables in Python"
   ]
  },
  {
   "cell_type": "code",
   "execution_count": 100,
   "id": "334acb8b-1677-4c31-a984-26c8d295f606",
   "metadata": {},
   "outputs": [],
   "source": [
    "age = 30 # Integer\n",
    "average_grade = 85.5 # Float\n",
    "student_name = \"Bob\" # String\n",
    "is_passing = True # Boolean"
   ]
  },
  {
   "cell_type": "markdown",
   "id": "764bf3dc-ba55-4449-bf93-2ae0eeb7aae8",
   "metadata": {},
   "source": [
    "### Comments in Python"
   ]
  },
  {
   "cell_type": "code",
   "execution_count": 2,
   "id": "841c5de8-ec11-4a3c-93f4-a1010cdd08ee",
   "metadata": {},
   "outputs": [],
   "source": [
    "# This is a comment\n",
    "'''This is a long comment\n",
    "using three single quotes'''\n",
    "comment = \"\"\"This is another long comment\n",
    "using three double quotes\"\"\""
   ]
  },
  {
   "cell_type": "markdown",
   "id": "bd6478ad-35ab-47a6-a19e-5c5a628c8957",
   "metadata": {},
   "source": [
    "## Agenda for today\n",
    "-------------------\n",
    "\n",
    "- Python Operators\n",
    "- Data Types in Python\n",
    "- Python Indentation Syntax\n",
    "- Conditional Statements\n",
    "- Type Conversions\n",
    "- Python Lists and Tuples\n",
    "- Dictionaries and Sets\n",
    "- Python Functions/Methods\n"
   ]
  },
  {
   "cell_type": "markdown",
   "id": "5a1ef668-89fe-462d-b3fd-2b5a134ccfac",
   "metadata": {},
   "source": [
    "## Python Operators\n",
    "--------------------\n",
    "\n",
    "### Mathematical Operators\n",
    "\n",
    "- Addition `+`\n",
    "- Subtraction `-`\n",
    "- Multiplication `*`\n",
    "- Division `/` \n",
    "- Floor Division (rounds down) `//`\n",
    "- Modulus (remainder) `%`\n",
    "- Raise to power (exponent) ($x^y$) `**`\n"
   ]
  },
  {
   "cell_type": "code",
   "execution_count": 3,
   "id": "1b430dbe-7b2a-460f-bf3e-fcdf1f4bfee4",
   "metadata": {},
   "outputs": [
    {
     "name": "stdout",
     "output_type": "stream",
     "text": [
      "x + y =  16\n",
      "\n",
      "x - y =  6\n",
      "\n",
      "x * y =  55\n",
      "\n",
      "x / y =  2.2\n",
      "\n",
      "x // y =  2\n",
      "\n",
      "x % y =  1\n",
      "\n",
      "x divided by y is (x // y =  2 ) remainder ( x % y =  1 )\n",
      "\n",
      "2 raised to power 3 = 2 * 2 * 2 =  8  =  8\n"
     ]
    }
   ],
   "source": [
    "x = 11\n",
    "y = 5\n",
    "\n",
    "# Addition\n",
    "print(\"x + y = \", x + y)\n",
    "print()\n",
    "# Subtraction\n",
    "print(\"x - y = \", x - y)\n",
    "print()\n",
    "# Multiplication\n",
    "print(\"x * y = \", x * y)\n",
    "print()\n",
    "# Division\n",
    "print(\"x / y = \", x / y)\n",
    "print()\n",
    "# Round down division\n",
    "print(\"x // y = \", x // y)\n",
    "print()\n",
    "# Remainder\n",
    "print(\"x % y = \", x % y)\n",
    "print()\n",
    "print(\"x divided by y is (x // y = \", x // y, \") remainder ( x % y = \", x % y, \")\")\n",
    "print()\n",
    "# Exponent\n",
    "print(\"2 raised to power 3 = 2 * 2 * 2 = \", 2**3, \" = \", 2 * 2 * 2)\n"
   ]
  },
  {
   "cell_type": "markdown",
   "id": "dea5d9cb-254b-433d-85dc-cbb986d5b1cc",
   "metadata": {},
   "source": [
    "## Data Types in Python\n",
    "------------------------\n",
    "\n",
    "Data types categorize the kind of values variables hold. They determine what operations can be done on a variable."
   ]
  },
  {
   "cell_type": "markdown",
   "id": "0df0e777-3311-4332-af45-360a4e288d1c",
   "metadata": {},
   "source": [
    "### Integers (`int`)\n",
    "Integers are whole numbers, without a fractional component."
   ]
  },
  {
   "cell_type": "code",
   "execution_count": 4,
   "id": "93331717-7cd2-45be-94b1-f3a17fec0d6e",
   "metadata": {},
   "outputs": [],
   "source": [
    "# Positive integer\n",
    "a = 10\n",
    "\n",
    "# Negative integer\n",
    "b = -5\n",
    "\n",
    "# Zero\n",
    "c = 0"
   ]
  },
  {
   "cell_type": "markdown",
   "id": "27f01b21-4ca0-4e36-ae43-b5de0b465114",
   "metadata": {},
   "source": [
    "### Floating-Point Numbers (`float`):\n",
    "Floating-point numbers have a decimal point and can represent fractional values."
   ]
  },
  {
   "cell_type": "code",
   "execution_count": 5,
   "id": "6cc93f38-5609-4280-9044-4e12ea54b977",
   "metadata": {},
   "outputs": [],
   "source": [
    "# Positive float\n",
    "d = 10.5\n",
    "\n",
    "# Negative float\n",
    "e = -3.14\n",
    "\n",
    "# Zero as a float\n",
    "f = 0.0\n",
    "\n",
    "# Scientific notation (exponential form)\n",
    "g = 1.23e4  # 1.23 × 10^4 = 12300.0\n",
    "h = 1.23e-4  # 1.23 × 10^-4 = 0.000123"
   ]
  },
  {
   "cell_type": "markdown",
   "id": "e4c9984a-ad99-40cb-adbf-1cb9f437b2c0",
   "metadata": {},
   "source": [
    "### Strings (`str`)\n",
    "In Python, strings are sequences of characters enclosed in either single quotes ('), double quotes (\"), triple single quotes ('''), or triple double quotes (\"\"\")"
   ]
  },
  {
   "cell_type": "code",
   "execution_count": 6,
   "id": "12ef77cb-b47b-4352-8281-09a572d28070",
   "metadata": {},
   "outputs": [
    {
     "name": "stdout",
     "output_type": "stream",
     "text": [
      "Hello, World!\n",
      "Hello, World!\n"
     ]
    }
   ],
   "source": [
    "# Single quotes\n",
    "a = 'Hello, World!'\n",
    "print(a)  # Output: Hello, World!\n",
    "\n",
    "# Double quotes\n",
    "b = \"Hello, World!\"\n",
    "print(b)  # Output: Hello, World!"
   ]
  },
  {
   "cell_type": "markdown",
   "id": "78dde212-1bc1-4c45-b4be-6a5da4901d12",
   "metadata": {},
   "source": [
    "##### Newlines in strings are represented using `\"\\n\"`"
   ]
  },
  {
   "cell_type": "code",
   "execution_count": 7,
   "id": "01449349-e5b0-4a83-bedd-386dac726315",
   "metadata": {},
   "outputs": [
    {
     "name": "stdout",
     "output_type": "stream",
     "text": [
      "Hello\n",
      "World\n"
     ]
    }
   ],
   "source": [
    "a = \"Hello\\nWorld\"\n",
    "print(a)"
   ]
  },
  {
   "cell_type": "markdown",
   "id": "0cee3ac1-e3fd-4654-abee-55f859095db2",
   "metadata": {},
   "source": [
    "##### Triple Single or Double quotes (Multi-line Strings)\n",
    "- Triple single quotes (`''' ... '''`) and triple double quotes (`\"\"\" ... \"\"\"`) create multi-line strings.\n",
    "- These are often used as docstrings or placeholder comments, especially when not assigned to a variable.\n",
    "- Newline characters (`\\n`) are automatically included for each new line.\n",
    "- You can include both single and double quotes inside them without escaping."
   ]
  },
  {
   "cell_type": "code",
   "execution_count": 8,
   "id": "dc744743-c326-4531-abcd-84ce366288e8",
   "metadata": {},
   "outputs": [
    {
     "name": "stdout",
     "output_type": "stream",
     "text": [
      "Hello,\n",
      "World!\n",
      "Hello,\n",
      "World!\n"
     ]
    }
   ],
   "source": [
    "# Triple-quoted string using single quotes\n",
    "c = '''Hello,\n",
    "World!'''\n",
    "print(c)\n",
    "\n",
    "# Triple-quoted string using double quotes\n",
    "d = \"\"\"Hello,\n",
    "World!\"\"\"\n",
    "print(d)"
   ]
  },
  {
   "cell_type": "markdown",
   "id": "488c9dfa-10d9-427a-9a1a-847445877c08",
   "metadata": {},
   "source": [
    "Triple quote strings include the newlines"
   ]
  },
  {
   "cell_type": "code",
   "execution_count": 9,
   "id": "91b2f3e8-df16-4456-b245-f08ed3e270ac",
   "metadata": {},
   "outputs": [
    {
     "data": {
      "text/plain": [
       "\"This is a triple quote comment\\nNotice the '\\n' at the beginning of this line\\nAlso notice the '\\n' is quoted\""
      ]
     },
     "execution_count": 9,
     "metadata": {},
     "output_type": "execute_result"
    }
   ],
   "source": [
    "multi_line = \"\"\"This is a triple quote comment\n",
    "Notice the '\\n' at the beginning of this line\n",
    "Also notice the '\\n' is quoted\"\"\"\n",
    "multi_line"
   ]
  },
  {
   "cell_type": "code",
   "execution_count": 10,
   "id": "1bd01ff6-67b5-4fae-89c2-a55ab4fa3fd3",
   "metadata": {},
   "outputs": [
    {
     "name": "stdout",
     "output_type": "stream",
     "text": [
      "This is a triple quote comment\n",
      "Notice the '\n",
      "' at the beginning of this line\n",
      "Also notice the '\n",
      "' is quoted\n"
     ]
    }
   ],
   "source": [
    "# Newline characters (\\n) are interpreted as actual line breaks when using the print() function\n",
    "print(multi_line)"
   ]
  },
  {
   "cell_type": "markdown",
   "id": "448b01a9-04f6-4584-ab0b-8f1c12c3b8f2",
   "metadata": {},
   "source": [
    "#### String Concatenation"
   ]
  },
  {
   "cell_type": "code",
   "execution_count": 11,
   "id": "a850240b-6fde-4178-be16-1dd691f36c44",
   "metadata": {},
   "outputs": [
    {
     "name": "stdout",
     "output_type": "stream",
     "text": [
      "Hello, World!\n"
     ]
    }
   ],
   "source": [
    "# Using the + operator\n",
    "e = \"Hello\" + \", \" + \"World!\"\n",
    "print(e)"
   ]
  },
  {
   "cell_type": "markdown",
   "id": "a5ba2c7d-1f3c-4982-a6a8-a8d681b05e1c",
   "metadata": {},
   "source": [
    "#### F-Strings for String Formatting"
   ]
  },
  {
   "cell_type": "code",
   "execution_count": 12,
   "id": "e074a5ac-ef49-4a11-9ba6-9e901e9bf132",
   "metadata": {},
   "outputs": [
    {
     "name": "stdout",
     "output_type": "stream",
     "text": [
      "Hello, Alice!\n",
      "a = 20\n",
      "Sum of 1 and 2 is 3\n",
      "pi to 3 decimal places = 3.142\n",
      "1024.345 to 3 signiticant figures = 1.02e+03\n"
     ]
    }
   ],
   "source": [
    "# Using f-strings (formatted string literals)\n",
    "name = \"Alice\"\n",
    "print(f\"Hello, {name}!\")\n",
    "\n",
    "# Also works for numbers\n",
    "a = 20\n",
    "print(f\"a = {a}\")\n",
    "\n",
    "# Works for operations\n",
    "print(f\"Sum of 1 and 2 is {1+2}\")\n",
    "# Can be used to format decimals to decimal places\n",
    "pi = 3.141592653\n",
    "print(f\"pi to 3 decimal places = {pi:.3f}\")\n",
    "\n",
    "# Can also be used to format decimals to significant figures\n",
    "number = 1024.345\n",
    "print(f\"{number} to 3 signiticant figures = {number:3.3g}\")"
   ]
  },
  {
   "cell_type": "markdown",
   "id": "feb65f0f-976b-41c2-b850-b6cc9447d0a3",
   "metadata": {},
   "source": [
    "#### Additional String Formatting Methods\n",
    "##### `format` method"
   ]
  },
  {
   "cell_type": "code",
   "execution_count": 13,
   "id": "3e3617f1-231e-44a8-b75c-a234d117eb89",
   "metadata": {},
   "outputs": [
    {
     "name": "stdout",
     "output_type": "stream",
     "text": [
      "Hello, Alice!\n"
     ]
    }
   ],
   "source": [
    "q = \"Hello, {}!\".format(\"Alice\")\n",
    "print(q)  # Output: Hello, Alice!"
   ]
  },
  {
   "cell_type": "markdown",
   "id": "97a0844a-3f81-4990-b4e6-8b51753a3755",
   "metadata": {},
   "source": [
    "###### Using `%` operator"
   ]
  },
  {
   "cell_type": "code",
   "execution_count": 14,
   "id": "b0adc514-6e4c-4f22-8b35-6af3c72b42e6",
   "metadata": {},
   "outputs": [
    {
     "name": "stdout",
     "output_type": "stream",
     "text": [
      "Hello, Alice!\n"
     ]
    }
   ],
   "source": [
    "# Using % operator\n",
    "s = \"Hello, %s!\" % \"Alice\"\n",
    "print(s)  # Output: Hello, Alice!"
   ]
  },
  {
   "cell_type": "markdown",
   "id": "f9328de4-f0b9-4d8b-8102-a98ef2ce2a8f",
   "metadata": {},
   "source": [
    "#### String Repetition"
   ]
  },
  {
   "cell_type": "code",
   "execution_count": 15,
   "id": "ff9623a5-4c12-4fa6-bf3b-5b3b7ebc2ef6",
   "metadata": {},
   "outputs": [
    {
     "name": "stdout",
     "output_type": "stream",
     "text": [
      "HaHaHa\n"
     ]
    }
   ],
   "source": [
    "h = \"Ha\" * 3\n",
    "print(h)  # Output: HaHaHa"
   ]
  },
  {
   "cell_type": "markdown",
   "id": "ad23a7eb-df16-4a07-8d5e-c255650ebec3",
   "metadata": {},
   "source": [
    "#### String Indexing and Slicing"
   ]
  },
  {
   "cell_type": "code",
   "execution_count": 16,
   "id": "5f6be91c-723e-479b-9f08-74162f850820",
   "metadata": {},
   "outputs": [
    {
     "name": "stdout",
     "output_type": "stream",
     "text": [
      "H\n",
      "o\n",
      "Hello\n",
      "World!\n",
      "Hello\n",
      "Hlo ol!\n"
     ]
    }
   ],
   "source": [
    "# Indexing (accessing a single character)\n",
    "i = \"Hello\"\n",
    "print(i[0])  # Output: H\n",
    "print(i[-1])  # Output: o\n",
    "\n",
    "# Slicing (extracting substrings with [start:end] or [start:end:step])\n",
    "j = \"Hello, World!\"\n",
    "# Characters 0 to 4\n",
    "print(j[0:5])  # Output: Hello\n",
    "\n",
    "# From character 7 to end\n",
    "print(j[7:])  # Output: World!\n",
    "\n",
    "# From start to character 4\n",
    "print(j[:5])  # Output: Hello\n",
    "\n",
    "# Every second character\n",
    "print(j[::2])  # Output: Hlo ol!"
   ]
  },
  {
   "cell_type": "markdown",
   "id": "ca5d661e-6084-454a-9c20-ab698ca84b2e",
   "metadata": {},
   "source": [
    "#### String Methods"
   ]
  },
  {
   "cell_type": "code",
   "execution_count": 17,
   "id": "1fa0b625-5119-4f26-b698-fb99986c5c0c",
   "metadata": {
    "scrolled": true
   },
   "outputs": [
    {
     "name": "stdout",
     "output_type": "stream",
     "text": [
      "HELLO\n",
      "hello\n",
      "Hello\n",
      "Hello, Python!\n",
      "['Hello', 'World!']\n",
      "7\n"
     ]
    }
   ],
   "source": [
    "# Convert to uppercase\n",
    "k = \"hello\".upper()\n",
    "print(k)  # Output: HELLO\n",
    "\n",
    "# Convert to lowercase\n",
    "l = \"HELLO\".lower()\n",
    "print(l)  # Output: hello\n",
    "\n",
    "# Strip whitespace\n",
    "m = \"  Hello  \".strip()\n",
    "print(m)  # Output: Hello\n",
    "\n",
    "# Replace substrings\n",
    "n = \"Hello, World!\".replace(\"World\", \"Python\")\n",
    "print(n)  # Output: Hello, Python!\n",
    "\n",
    "# Split into a list\n",
    "o = \"Hello, World!\".split(\", \")\n",
    "print(o)  # Output: ['Hello', 'World!']\n",
    "\n",
    "# Find a substring\n",
    "p = \"Hello, World!\".find(\"World\")\n",
    "print(p)  # Output: 7 (index of the first occurrence of \"World\")"
   ]
  },
  {
   "cell_type": "markdown",
   "id": "42d7c6dd-98f5-4854-b0cb-285e4b1c4314",
   "metadata": {},
   "source": [
    "#### `None` Values\n",
    "\n",
    "In Python, `None` is a special constant that represents the absence of a value or a null value."
   ]
  },
  {
   "cell_type": "code",
   "execution_count": 18,
   "id": "f64f663e-0386-451e-902e-7e161fe51a4c",
   "metadata": {},
   "outputs": [
    {
     "name": "stdout",
     "output_type": "stream",
     "text": [
      "None\n"
     ]
    }
   ],
   "source": [
    "a = None\n",
    "print(a)  # Output: None"
   ]
  },
  {
   "cell_type": "markdown",
   "id": "f21ae3d7-0967-414a-b420-6c235e3f5ea5",
   "metadata": {},
   "source": [
    "### Boolean Values\n",
    "Boolean types represent `True` or `False` values\n",
    "\n",
    "#### Basic Boolean Values"
   ]
  },
  {
   "cell_type": "code",
   "execution_count": 19,
   "id": "ca0a6c7b-2583-40ac-a81a-1a40291eb638",
   "metadata": {},
   "outputs": [
    {
     "name": "stdout",
     "output_type": "stream",
     "text": [
      "True\n",
      "False\n"
     ]
    }
   ],
   "source": [
    "# Boolean True\n",
    "a = True\n",
    "print(a)  # Output: True\n",
    "\n",
    "# Boolean False\n",
    "b = False\n",
    "print(b)  # Output: False"
   ]
  },
  {
   "cell_type": "markdown",
   "id": "53476371-1085-4900-ac68-c7507628149b",
   "metadata": {},
   "source": [
    "#### Comparison Operators\n",
    "Evaluate relationships between values and return a Boolean result (`True` or `False`)\n",
    "- Equality `==`\n",
    "- Non-equality `!=`\n",
    "- Greater than `>`\n",
    "- Less than `<`\n",
    "- Greater than or equal `>=`\n",
    "- Less than or equal `<=`\n"
   ]
  },
  {
   "cell_type": "code",
   "execution_count": 20,
   "id": "8680a3c1-c3fc-4e95-958d-c2944b52a6ee",
   "metadata": {},
   "outputs": [
    {
     "name": "stdout",
     "output_type": "stream",
     "text": [
      "5 == 5 =  True\n",
      "5 == 6 =  False\n",
      "\n",
      "5 != 6 =  True\n",
      "5 != 5 =  False\n",
      "\n",
      "6 > 5 =  True\n",
      "5 > 6 =  False\n",
      "5 >= 5 =  True\n",
      "5 < 6 =  True\n",
      "6 < 5 =  False\n",
      "not x >= y =  True  = x < y =  True\n",
      "5 <= 6 =  True\n"
     ]
    }
   ],
   "source": [
    "# Equality\n",
    "is_equal = 5 == 5\n",
    "print(\"5 == 5 = \", is_equal)\n",
    "print(\"5 == 6 = \", 5 == 6)\n",
    "print()\n",
    "\n",
    "# Non-Equality\n",
    "print(\"5 != 6 = \", 5 != 6)\n",
    "print(\"5 != 5 = \", 5 != 5)\n",
    "print()\n",
    "\n",
    "# Greater than\n",
    "print(\"6 > 5 = \", 6 > 5)\n",
    "print(\"5 > 6 = \", 5 > 6)\n",
    "# Greater than or equal\n",
    "print(\"5 >= 5 = \", 5 >= 5)\n",
    "# Less than\n",
    "print(\"5 < 6 = \", 5 < 6)\n",
    "print(\"6 < 5 = \", 6 < 5)\n",
    "# Demonstrating equivalence (not x >= y is the same as x < y)\n",
    "x = 5\n",
    "y = 6\n",
    "print(\"not x >= y = \", not x >= y, \" = x < y = \", x < y)\n",
    "# Less than or equal\n",
    "print(\"5 <= 6 = \", 5 <= 6)\n",
    "\n"
   ]
  },
  {
   "cell_type": "markdown",
   "id": "0435cc74-eef8-47c8-b3e0-256890e8429c",
   "metadata": {},
   "source": [
    "#### Logical Operators\n",
    "\n",
    "- `not` Returns opposite of condition\n",
    "- `and` Returns `True` if both conditions are `True`, `False` if either is `False`\n",
    "- `or` Returns `True` if either condition is `True`, `False` if both are `False`"
   ]
  },
  {
   "cell_type": "code",
   "execution_count": 21,
   "id": "0c0856a7-249c-4d4e-b9d4-3b7371f91ed1",
   "metadata": {},
   "outputs": [
    {
     "name": "stdout",
     "output_type": "stream",
     "text": [
      "not True =  False\n",
      "not False =  True\n",
      "\n",
      "True\n",
      "False\n",
      "\n",
      "True\n",
      "False\n"
     ]
    }
   ],
   "source": [
    "# NOT operator\n",
    "print(\"not True = \", not True)\n",
    "print(\"not False = \", not False)\n",
    "print()\n",
    "\n",
    "# AND operator\n",
    "print(5 == 5 and 6 > 5)\n",
    "print(4 > 5 and 6 > 4)\n",
    "print()\n",
    "\n",
    "# OR operator\n",
    "print(6 > 4 or 4 > 6)\n",
    "print(4 > 6 or False)"
   ]
  },
  {
   "cell_type": "markdown",
   "id": "040bb466-d8a1-4c1e-ad30-cda27f114e0e",
   "metadata": {},
   "source": [
    "### Python Indentation Syntax\n",
    "------------------------------\n",
    "\n",
    "Python uses indentation (spacing) to define blocks of code.\n",
    "\n",
    "- A colon `:` is used to start a new code block (e.g., after `if`, `for`, `while`, `def`, etc.)\n",
    "- Google Colab automatically indents after typing a colon.\n",
    "- Indentation must be consistent (typically a tab, or 4 spaces)."
   ]
  },
  {
   "cell_type": "code",
   "execution_count": 22,
   "id": "e7092996-43fc-46c2-89c7-80d3cb603229",
   "metadata": {},
   "outputs": [
    {
     "name": "stdout",
     "output_type": "stream",
     "text": [
      "This line is indented\n"
     ]
    }
   ],
   "source": [
    "m = 5\n",
    "if m == 5:\n",
    "    print(\"This line is indented\")"
   ]
  },
  {
   "cell_type": "markdown",
   "id": "30bd77c0-32c5-4c66-b10e-ff3d95ddda16",
   "metadata": {},
   "source": [
    "You cannot mix indentation for the same level of code"
   ]
  },
  {
   "cell_type": "code",
   "execution_count": 23,
   "id": "6e1cecbc-e93d-4ca1-ab5d-087bd70583a4",
   "metadata": {},
   "outputs": [
    {
     "name": "stdout",
     "output_type": "stream",
     "text": [
      "First indentation runs because m == 10\n",
      "This line runs again because we went back to previous indentation\n"
     ]
    }
   ],
   "source": [
    "# Mark end of block by returning to previous indentation\n",
    "\n",
    "m = 10\n",
    "\n",
    "if m == 10:\n",
    "    print(\"First indentation runs because m == 10\")\n",
    "    if m == 5:\n",
    "        print(\"This line should not run\")\n",
    "        print(\"Still the same level of indentation\")\n",
    "    print(\"This line runs again because we went back to previous indentation\")"
   ]
  },
  {
   "cell_type": "markdown",
   "id": "747664f9-c4c7-447b-bab2-ed97ef344dc5",
   "metadata": {},
   "source": [
    "Only indent when a block of code is required (e.g., after `if`, `for`, `def`, etc.). Mixing indentation without a block will result in a `SyntaxError`."
   ]
  },
  {
   "cell_type": "code",
   "execution_count": 24,
   "id": "b1a0a770-340d-4f6c-b4eb-c3489b4b404a",
   "metadata": {},
   "outputs": [
    {
     "ename": "IndentationError",
     "evalue": "unexpected indent (3166952206.py, line 3)",
     "output_type": "error",
     "traceback": [
      "  \u001b[36mCell\u001b[39m\u001b[36m \u001b[39m\u001b[32mIn[24]\u001b[39m\u001b[32m, line 3\u001b[39m\n\u001b[31m    \u001b[39m\u001b[31mj = 10\u001b[39m\n    ^\n\u001b[31mIndentationError\u001b[39m\u001b[31m:\u001b[39m unexpected indent\n"
     ]
    }
   ],
   "source": [
    "# Syntax error because we attempted to mix indentations\n",
    "m = 5\n",
    "    j = 10"
   ]
  },
  {
   "cell_type": "markdown",
   "id": "57e411b2-8f31-4380-ba1d-5adf1094b986",
   "metadata": {},
   "source": [
    "## Conditional Statements\n",
    "------------------------------------\n",
    "\n",
    "Conditional statements execute a block of code only if a specified condition is\n",
    "`True`. Conditions must end with a colon `:` and the block underneath must be\n",
    "indented"
   ]
  },
  {
   "cell_type": "markdown",
   "id": "e82442a4-d3e3-40d2-aabc-196a55c9e126",
   "metadata": {},
   "source": [
    "- `if`: Executes a block of code once if the condition is `True`.\n",
    "\n",
    "- `while`: Repeatedly executes a block of code as long as the condition remains `True`."
   ]
  },
  {
   "cell_type": "markdown",
   "id": "157a5489-216e-4110-9122-16a037ada542",
   "metadata": {},
   "source": [
    "#### `if` statements\n",
    "\n",
    "The basic syntax of an `if` statement is as follows:\n",
    "\n",
    "```python\n",
    "if condition:\n",
    "    # Indented block of code to execute if condition is true\n",
    "    statement(s)\n",
    "```\n"
   ]
  },
  {
   "cell_type": "code",
   "execution_count": 25,
   "id": "df2884ce-4c4d-4cf3-91df-8e79e4671d37",
   "metadata": {},
   "outputs": [
    {
     "name": "stdout",
     "output_type": "stream",
     "text": [
      "x is greater than 5\n"
     ]
    }
   ],
   "source": [
    "# Example of a simple if statement\n",
    "x = 10\n",
    "if x > 5:\n",
    "    print(\"x is greater than 5\")"
   ]
  },
  {
   "cell_type": "markdown",
   "id": "fd36893f-6f2c-4d45-9a56-ca56941b74c8",
   "metadata": {},
   "source": [
    "#### `if...else` statement\n",
    "\n",
    "The `else` statement is used to execute a block of code when the `if` condition is `False`. The syntax is:\n",
    "```python\n",
    "if condition:\n",
    "    # Block of code to execute if condition is true\n",
    "    statement(s)\n",
    "else:\n",
    "    # Block of code to execute if condition is false\n",
    "    statement(s)\n",
    "```"
   ]
  },
  {
   "cell_type": "code",
   "execution_count": 26,
   "id": "4bb40967-33db-4582-8d6a-b20f0956ff77",
   "metadata": {},
   "outputs": [
    {
     "name": "stdout",
     "output_type": "stream",
     "text": [
      "x is not greater than 5\n"
     ]
    }
   ],
   "source": [
    "# Example of if...else statement\n",
    "x = 2\n",
    "if x > 5:\n",
    "    print(\"x is greater than 5\")\n",
    "else:\n",
    "    print(\"x is not greater than 5\")"
   ]
  },
  {
   "cell_type": "markdown",
   "id": "75ebbdc4-af07-40cc-935a-9bbd1300a6b0",
   "metadata": {},
   "source": [
    "#### `if...elif...else` statement\n",
    "\n",
    "The `elif` statement allows you to check multiple conditions. It is short for \"else if\". You can have multiple `elif` blocks followed by an optional `else` block. The syntax is:\n",
    "```python\n",
    "if condition1:\n",
    "    # Block of code to execute if condition1 is True\n",
    "    statement(s)\n",
    "elif condition2:\n",
    "    # Block of code to execute if condition1 is False and condition2 is True\n",
    "    statement(s)\n",
    "else:\n",
    "    # Block of code to execute if all above conditions are False\n",
    "    statement(s)\n",
    "```"
   ]
  },
  {
   "cell_type": "code",
   "execution_count": 27,
   "id": "c56a39ac-f4f3-4bf3-a113-983535c354e8",
   "metadata": {},
   "outputs": [
    {
     "name": "stdout",
     "output_type": "stream",
     "text": [
      "x is greater than 5 but not greater than 15\n"
     ]
    }
   ],
   "source": [
    "x = 10\n",
    "if x > 15:\n",
    "    print(\"x is greater than 15\")\n",
    "elif x > 5:\n",
    "    print(\"x is greater than 5 but not greater than 15\")\n",
    "else:\n",
    "    print(\"x is 5 or less\")"
   ]
  },
  {
   "cell_type": "markdown",
   "id": "38444b7a-ec7d-4330-8d80-cda790f1f6f1",
   "metadata": {},
   "source": [
    "#### Nested `if` Statements\n",
    "\n",
    "You can also nest `if` statements within each other to create more complex conditional logic."
   ]
  },
  {
   "cell_type": "code",
   "execution_count": 28,
   "id": "d137635c-3d79-4ee0-97c3-d3b4b4adf685",
   "metadata": {},
   "outputs": [
    {
     "name": "stdout",
     "output_type": "stream",
     "text": [
      "x is greater than 5 but not greater than 15\n"
     ]
    }
   ],
   "source": [
    "# Example of nested if statements\n",
    "x = 10\n",
    "if x > 5:\n",
    "    if x > 15:\n",
    "        print(\"x is greater than 15\")\n",
    "    else:\n",
    "        print(\"x is greater than 5 but not greater than 15\")\n",
    "else:\n",
    "    print(\"x is 5 or less\")"
   ]
  },
  {
   "cell_type": "markdown",
   "id": "1585297d-906c-43b1-94a9-8bdf3c84d5dc",
   "metadata": {},
   "source": [
    "#### `while` statements\n",
    "`while` statements run while a condition is `True`"
   ]
  },
  {
   "cell_type": "code",
   "execution_count": 29,
   "id": "eba6a267-7ab2-48c6-ab21-886549821032",
   "metadata": {},
   "outputs": [
    {
     "name": "stdout",
     "output_type": "stream",
     "text": [
      "Running 0 times\n",
      "Running 1 times\n",
      "Running 2 times\n",
      "Running 3 times\n",
      "Running 4 times\n"
     ]
    }
   ],
   "source": [
    "num_runs = 0\n",
    "max_num_runs = 5\n",
    "\n",
    "while num_runs < max_num_runs:\n",
    "    print(f\"Running {num_runs} times\")\n",
    "    num_runs = num_runs + 1"
   ]
  },
  {
   "attachments": {
    "62a5915f-2ba1-4c01-868b-d6730614d515.png": {
     "image/png": "[encoded data removed]"
    }
   },
   "cell_type": "markdown",
   "id": "45cba72e-dc7b-4a57-a335-0b8ba010e105",
   "metadata": {},
   "source": [
    "In Colab/Jupyter, if you forget to terminate the `while` condition, click the stop button\n",
    "![Stop button in Jupyter](attachment:62a5915f-2ba1-4c01-868b-d6730614d515.png)"
   ]
  },
  {
   "cell_type": "markdown",
   "id": "8a67c66f-dc9f-45bb-8e58-029095de6222",
   "metadata": {},
   "source": [
    "#### Conditional Expressions (Ternary Operator)\n",
    "Python also supports a concise way to write conditional expressions known as the ternary operator if...else expression"
   ]
  },
  {
   "cell_type": "code",
   "execution_count": 30,
   "id": "0fa807c0-258b-445d-bb7f-035539c0d61f",
   "metadata": {},
   "outputs": [
    {
     "name": "stdout",
     "output_type": "stream",
     "text": [
      "x is greater than 5\n"
     ]
    }
   ],
   "source": [
    "# Ternary operator example\n",
    "x = 10\n",
    "result = \"x is greater than 5\" if x > 5 else \"x is 5 or less\"\n",
    "print(result)  # Output: x is greater than 5"
   ]
  },
  {
   "cell_type": "markdown",
   "id": "cc17cc3b-82ae-4a01-971f-92e69a8afabc",
   "metadata": {},
   "source": [
    "## Type Conversions\n",
    "--------------------\n",
    "Variables can be converted to other types. To get the type of an object, use the `type` function"
   ]
  },
  {
   "cell_type": "code",
   "execution_count": 31,
   "id": "54dd8cc7-19f0-4638-9ee1-9f405312802a",
   "metadata": {},
   "outputs": [
    {
     "name": "stdout",
     "output_type": "stream",
     "text": [
      "<class 'int'>\n"
     ]
    }
   ],
   "source": [
    "a = 5\n",
    "print(type(a))"
   ]
  },
  {
   "cell_type": "code",
   "execution_count": 32,
   "id": "06c8a1e6-120d-4e65-b577-ee1ebeb2be96",
   "metadata": {},
   "outputs": [
    {
     "name": "stdout",
     "output_type": "stream",
     "text": [
      "<class 'float'>\n"
     ]
    }
   ],
   "source": [
    "a = 5.0\n",
    "print(type(a))"
   ]
  },
  {
   "cell_type": "code",
   "execution_count": 33,
   "id": "0bce2dac-5dfc-4d9f-ba22-5d3fb687a9a8",
   "metadata": {},
   "outputs": [
    {
     "name": "stdout",
     "output_type": "stream",
     "text": [
      "<class 'str'>\n"
     ]
    }
   ],
   "source": [
    "a = \"a string\"\n",
    "print(type(a))"
   ]
  },
  {
   "cell_type": "markdown",
   "id": "43c10667-825e-4a68-a8a9-e26d98f56644",
   "metadata": {},
   "source": [
    "#### Converting Other Types to Boolean\n",
    "\n",
    "You can use the `bool()` function to convert values to `True` or `False`.\n",
    "Python automatically converts non-boolean types to boolean when used in conditional expressions (e.g., `if` statements)."
   ]
  },
  {
   "cell_type": "markdown",
   "id": "1aaa0446-ddb0-4ed2-9720-2a4207df7129",
   "metadata": {},
   "source": [
    "##### Integer to Boolean\n",
    "\n",
    "- `0` is treated as `False`\n",
    "- Any non-zero integer (e.g., `1`, `-15`) is treated as `True`"
   ]
  },
  {
   "cell_type": "code",
   "execution_count": 34,
   "id": "a0005c40-7ab6-4748-bfd4-08117b4b48b5",
   "metadata": {},
   "outputs": [
    {
     "name": "stdout",
     "output_type": "stream",
     "text": [
      "True\n",
      "False\n",
      "<class 'bool'>\n"
     ]
    }
   ],
   "source": [
    "h = bool(1)\n",
    "print(h)  # Output: True\n",
    "\n",
    "i = bool(0)\n",
    "print(i)  # Output: False\n",
    "\n",
    "print(type(i))"
   ]
  },
  {
   "cell_type": "markdown",
   "id": "b110edb4-6246-4105-a998-0e30e4ed8fd2",
   "metadata": {},
   "source": [
    "##### Float to Boolean\n",
    "\n",
    "- `0.0` is considered `False`\n",
    "- Any non-zero float (e.g., `0.1`, `-1.5`) is considered `True`"
   ]
  },
  {
   "cell_type": "code",
   "execution_count": 35,
   "id": "fe6582ea-2574-4fae-9320-99366bc95364",
   "metadata": {},
   "outputs": [
    {
     "name": "stdout",
     "output_type": "stream",
     "text": [
      "True\n",
      "False\n"
     ]
    }
   ],
   "source": [
    "j = bool(0.1)\n",
    "print(j)  # Output: True\n",
    "\n",
    "k = bool(0.0)\n",
    "print(k)  # Output: False"
   ]
  },
  {
   "cell_type": "markdown",
   "id": "8589165e-1cbb-47db-a477-0aa36b3de477",
   "metadata": {},
   "source": [
    "##### String to Boolean\n",
    "\n",
    "- An empty string (`\"\"`) is considered `False`\n",
    "- Any non-empty string (e.g., `\"Hello\"`) is considered `True`\n"
   ]
  },
  {
   "cell_type": "code",
   "execution_count": 36,
   "id": "f6536c2f-7fb6-4330-aa12-5f8615bc4c8d",
   "metadata": {},
   "outputs": [
    {
     "name": "stdout",
     "output_type": "stream",
     "text": [
      "True\n",
      "False\n"
     ]
    }
   ],
   "source": [
    "l = bool(\"Hello\")\n",
    "print(l)  # Output: True\n",
    "\n",
    "m = bool(\"\")\n",
    "print(m)  # Output: False"
   ]
  },
  {
   "cell_type": "markdown",
   "id": "a0e079b2-df91-4b65-b5c9-978998a98552",
   "metadata": {},
   "source": [
    "##### List to Boolean\n",
    "\n",
    "- An empty list (`[]`) is considered `False`\n",
    "- A non-empty list (e.g., `[1, 2, 3]`) is considered `True`"
   ]
  },
  {
   "cell_type": "code",
   "execution_count": 37,
   "id": "a49c2ffe-9622-4038-95fa-38c6efff128b",
   "metadata": {},
   "outputs": [
    {
     "name": "stdout",
     "output_type": "stream",
     "text": [
      "True\n",
      "False\n"
     ]
    }
   ],
   "source": [
    "n = bool([1, 2, 3])\n",
    "print(n)  # Output: True\n",
    "\n",
    "o = bool([])\n",
    "print(o)  # Output: False"
   ]
  },
  {
   "cell_type": "markdown",
   "id": "adc111dd-d18b-4fb2-aa4c-c41d4f47d958",
   "metadata": {},
   "source": [
    "#### Converting Integers to Floats\n",
    "\n",
    "Use the `float()` function to convert an integer to a float."
   ]
  },
  {
   "cell_type": "code",
   "execution_count": 38,
   "id": "8e73ff10-f019-4c40-88c9-4b16934b68c4",
   "metadata": {},
   "outputs": [
    {
     "name": "stdout",
     "output_type": "stream",
     "text": [
      "10.0\n"
     ]
    }
   ],
   "source": [
    "# Integer\n",
    "a = 10\n",
    "\n",
    "# Convert to float\n",
    "b = float(a)\n",
    "print(b)  # Output: 10.0"
   ]
  },
  {
   "cell_type": "markdown",
   "id": "45e23c6f-770d-4024-ac40-65dc6349aa19",
   "metadata": {},
   "source": [
    "##### Converting Floats to Integers\n",
    "Use the `int()` function to convert a float to an integer.\n",
    "Note: This truncates the decimal part."
   ]
  },
  {
   "cell_type": "code",
   "execution_count": 39,
   "id": "1847a74e-b0f4-450a-a7c2-6bc03fc563c0",
   "metadata": {},
   "outputs": [
    {
     "name": "stdout",
     "output_type": "stream",
     "text": [
      "10\n"
     ]
    }
   ],
   "source": [
    "# Float\n",
    "c = 10.5\n",
    "\n",
    "# Convert to integer (note: this will truncate the decimal part)\n",
    "d = int(c)\n",
    "print(d)  # Output: 10"
   ]
  },
  {
   "cell_type": "markdown",
   "id": "b1205026-769b-46dc-9b83-710201534baf",
   "metadata": {},
   "source": [
    "##### Converting Strings to Integers\n",
    "\n",
    "Use the `int()` function to convert a numeric string (e.g., `\"123\"`) into an integer."
   ]
  },
  {
   "cell_type": "code",
   "execution_count": 40,
   "id": "b91fd362-6bcb-41d7-9832-97541a691e24",
   "metadata": {},
   "outputs": [
    {
     "name": "stdout",
     "output_type": "stream",
     "text": [
      "123\n"
     ]
    }
   ],
   "source": [
    "# String\n",
    "i = \"123\"\n",
    "\n",
    "# Convert to integer\n",
    "j = int(i)\n",
    "print(j)  # Output: 123"
   ]
  },
  {
   "cell_type": "markdown",
   "id": "f2d5a485-824f-40af-96db-975cb5b0c950",
   "metadata": {},
   "source": [
    "##### Converting Strings to Floats\n",
    "\n",
    "Use the `float()` function to convert a numeric string with decimals into a float (e.g., `\"123.45\"` → `123.45`)."
   ]
  },
  {
   "cell_type": "code",
   "execution_count": 41,
   "id": "2567e341-57a3-48d6-b9e5-e382dc382e12",
   "metadata": {},
   "outputs": [
    {
     "name": "stdout",
     "output_type": "stream",
     "text": [
      "123.45\n"
     ]
    }
   ],
   "source": [
    "# String\n",
    "k = \"123.45\"\n",
    "\n",
    "# Convert to float\n",
    "l = float(k)\n",
    "print(l)  # Output: 123.45"
   ]
  },
  {
   "cell_type": "markdown",
   "id": "788952aa-edb6-40d3-81c5-f6190caa0ace",
   "metadata": {},
   "source": [
    "#### Converting String Characters to ASCII/Unicode Code Point\n",
    "\n",
    "- Computers internally store and transfer all variables as bytes\n",
    "- An encoding standard defines how characters are converted to and from byte sequences\n",
    "- A **code point** is a numerical value assigned to each character in a standard like ASCII or Unicode.  \n",
    "- ASCII is a subset of Unicode, covering characters from 0–127.\n",
    "- Unicode supports many more characters, including emojis and symbols, and is used in modern encoding formats like UTF-8."
   ]
  },
  {
   "cell_type": "markdown",
   "id": "e0f5f2e6-6ebd-41e9-9627-0b689022edcc",
   "metadata": {},
   "source": [
    "##### `ord` Function\n",
    "The `ord()` function returns the Unicode code point for a given character."
   ]
  },
  {
   "cell_type": "code",
   "execution_count": 42,
   "id": "9f0c1f11-15c6-47ba-a342-7c58834e1fff",
   "metadata": {},
   "outputs": [
    {
     "name": "stdout",
     "output_type": "stream",
     "text": [
      "65\n",
      "97\n",
      "128512\n"
     ]
    }
   ],
   "source": [
    "# Using ord to get the ASCII/Unicode code point of a character\n",
    "ascii_value = ord('A')\n",
    "print(ascii_value)  # Output: 65\n",
    "\n",
    "# Using ord with another character\n",
    "ascii_value = ord('a')\n",
    "print(ascii_value)  # Output: 97\n",
    "\n",
    "# Using ord with a Unicode character\n",
    "unicode_value = ord('😀')\n",
    "print(unicode_value)  # Output: 128512"
   ]
  },
  {
   "cell_type": "markdown",
   "id": "8f201d85-0fcd-4bc8-8be6-f0aca0e7359d",
   "metadata": {},
   "source": [
    "##### `chr` Function\n",
    "\n",
    "The `chr()` function takes a numeric code point and returns the corresponding Unicode character."
   ]
  },
  {
   "cell_type": "code",
   "execution_count": 43,
   "id": "4a2bdfc9-b224-4fc8-9dbc-14039db71bac",
   "metadata": {},
   "outputs": [
    {
     "name": "stdout",
     "output_type": "stream",
     "text": [
      "A\n",
      "a\n",
      "😀\n"
     ]
    }
   ],
   "source": [
    "char = chr(65)\n",
    "print(char)  # Output: A\n",
    "\n",
    "# Using chr with another ASCII/Unicode value\n",
    "char = chr(97)\n",
    "print(char)  # Output: a\n",
    "\n",
    "# Using chr with a Unicode code point\n",
    "char = chr(128512)\n",
    "print(char)  # Output: 😀"
   ]
  },
  {
   "cell_type": "markdown",
   "id": "060aaa76-3a98-4889-b3b8-73380d28835f",
   "metadata": {},
   "source": [
    "## Python Lists and Tuples\n",
    "---------------------------\n",
    "\n",
    "### Lists\n",
    "\n",
    "Lists are the most versatile array type in Python. They can store elements of different types and support various operations.\n",
    "\n"
   ]
  },
  {
   "cell_type": "markdown",
   "id": "d925e14f-46bc-40df-a8d3-b87c481c4524",
   "metadata": {},
   "source": [
    "##### Creating a list\n",
    "\n",
    "Use square brackets `[]` to define a list. You can include multiple elements separated by commas."
   ]
  },
  {
   "cell_type": "code",
   "execution_count": 12,
   "id": "7e5575f9-fe7b-48b9-9931-59d50446f9a5",
   "metadata": {},
   "outputs": [
    {
     "name": "stdout",
     "output_type": "stream",
     "text": [
      "[1, 2, 3, 4, 5]\n"
     ]
    }
   ],
   "source": [
    "a = [1, 2, 3, 4, 5]\n",
    "print(a)  # Output: [1, 2, 3, 4, 5]"
   ]
  },
  {
   "cell_type": "markdown",
   "id": "7961404d-fa10-4f3b-b5f2-08dffd4116d5",
   "metadata": {},
   "source": [
    "##### Accessing elements\n",
    "\n",
    "You can access individual items in a list using zero-based indexing.\n",
    "- `my_list[0]` returns the first element\n",
    "- `my_list[-1]` returns the last element"
   ]
  },
  {
   "cell_type": "code",
   "execution_count": 13,
   "id": "63d8f06d-d7ea-4aec-98ac-409392f7b468",
   "metadata": {},
   "outputs": [
    {
     "name": "stdout",
     "output_type": "stream",
     "text": [
      "1\n",
      "5\n"
     ]
    }
   ],
   "source": [
    "print(a[0])  # Output: 1\n",
    "print(a[-1])  # Output: 5"
   ]
  },
  {
   "cell_type": "markdown",
   "id": "bfbc3c7a-c6b7-4c9d-a443-d5fc14618bfb",
   "metadata": {},
   "source": [
    "##### Modifying elements\n",
    "\n",
    "You can update a list item by assigning a new value at a specific index."
   ]
  },
  {
   "cell_type": "code",
   "execution_count": 46,
   "id": "043d24ef-de6c-47eb-b8c1-9b11ef80d308",
   "metadata": {},
   "outputs": [
    {
     "name": "stdout",
     "output_type": "stream",
     "text": [
      "[1, 2, 10, 4, 5]\n"
     ]
    }
   ],
   "source": [
    "a[2] = 10\n",
    "print(a)  # Output: [1, 2, 10, 4, 5]"
   ]
  },
  {
   "cell_type": "markdown",
   "id": "c99de2ea-b9c1-4a2e-a6d2-cabd04107148",
   "metadata": {},
   "source": [
    "##### Adding elements\n",
    "\n",
    "Use `.append(value)` to add an item to the end of the list."
   ]
  },
  {
   "cell_type": "code",
   "execution_count": 47,
   "id": "ebbdb43b-a49a-4863-b878-26d50bc615b2",
   "metadata": {},
   "outputs": [
    {
     "name": "stdout",
     "output_type": "stream",
     "text": [
      "[1, 2, 10, 4, 5, 6]\n"
     ]
    }
   ],
   "source": [
    "a.append(6)\n",
    "print(a)  # Output: [1, 2, 10, 4, 5, 6]"
   ]
  },
  {
   "cell_type": "markdown",
   "id": "0f64643c-884a-45fd-843e-521886ab00ed",
   "metadata": {},
   "source": [
    "##### Removing elements\n",
    "\n",
    "Use `.remove(value)` to remove the first occurence of an item from a list."
   ]
  },
  {
   "cell_type": "code",
   "execution_count": 48,
   "id": "cdb1f121-4e76-4162-a8a3-573f058126bb",
   "metadata": {},
   "outputs": [
    {
     "name": "stdout",
     "output_type": "stream",
     "text": [
      "[1, 2, 4, 5, 6]\n"
     ]
    }
   ],
   "source": [
    "a.remove(10)\n",
    "print(a)  # Output: [1, 2, 4, 5, 6]"
   ]
  },
  {
   "cell_type": "markdown",
   "id": "101f62cf",
   "metadata": {},
   "source": [
    "##### Inserting elements\n",
    "\n",
    "Use `.insert(index, value)` to insert a value at a specific position"
   ]
  },
  {
   "cell_type": "code",
   "execution_count": 17,
   "id": "8bf22d54",
   "metadata": {},
   "outputs": [
    {
     "name": "stdout",
     "output_type": "stream",
     "text": [
      "[1, 2, 99, 4, 5, 6]\n"
     ]
    }
   ],
   "source": [
    "a.insert(2, 99)\n",
    "print(a)  # Output: [1, 2, 99, 4, 5, 6]"
   ]
  },
  {
   "cell_type": "markdown",
   "id": "83bd036e",
   "metadata": {},
   "source": [
    "##### Reverse elements\n",
    "\n",
    "Use `.reverse()` to reverse the list in place."
   ]
  },
  {
   "cell_type": "code",
   "execution_count": null,
   "id": "7ec60c74",
   "metadata": {},
   "outputs": [
    {
     "name": "stdout",
     "output_type": "stream",
     "text": [
      "[6, 5, 4, 99, 2, 1]\n"
     ]
    }
   ],
   "source": [
    "a.reverse()\n",
    "print(a)  # Output: [6, 5, 4, 99, 2, 1]"
   ]
  },
  {
   "cell_type": "markdown",
   "id": "8d677296-ba54-49b5-b017-e2f7edd646bb",
   "metadata": {},
   "source": [
    "##### Slicing\n",
    "\n",
    "You can access a range of list elements using slicing: `list[start:end]`  \n",
    "The `end` index is not included."
   ]
  },
  {
   "cell_type": "code",
   "execution_count": 49,
   "id": "4fe4c6d6-1950-44c1-aebe-af89a851b5ec",
   "metadata": {},
   "outputs": [
    {
     "name": "stdout",
     "output_type": "stream",
     "text": [
      "[5, 4, 99]\n"
     ]
    }
   ],
   "source": [
    "print(a[1:4])  # Output: [5, 4, 99]"
   ]
  },
  {
   "cell_type": "markdown",
   "id": "b2607bbc-7146-450d-b753-081c78a06f28",
   "metadata": {},
   "source": [
    "##### List comprehension\n",
    "\n",
    "Shortcut to create a list from another list"
   ]
  },
  {
   "cell_type": "code",
   "execution_count": 50,
   "id": "d789f6af-570d-42c6-9a1e-060b849ebf20",
   "metadata": {},
   "outputs": [
    {
     "name": "stdout",
     "output_type": "stream",
     "text": [
      "[1, 2, 3, 4]  ->  [1, 4, 9, 16]\n"
     ]
    }
   ],
   "source": [
    "numbers = [1, 2, 3, 4]\n",
    "# List comprehension\n",
    "numbers_square = [x**2 for x in numbers]\n",
    "print(numbers, \" -> \", numbers_square)"
   ]
  },
  {
   "cell_type": "markdown",
   "id": "aa6d40bf-ea81-4615-8c38-af1d745d4b94",
   "metadata": {},
   "source": [
    "### Lists of Lists (2D Arrays)\n",
    "\n",
    "Lists of lists can be used to create multi-dimensional arrays."
   ]
  },
  {
   "cell_type": "markdown",
   "id": "d0c31884-3309-4157-a0df-ab44eced5fff",
   "metadata": {},
   "source": [
    "##### Creating a 2D List"
   ]
  },
  {
   "cell_type": "code",
   "execution_count": 51,
   "id": "4cebc3ca-19fd-46d1-845b-4634c6280c16",
   "metadata": {},
   "outputs": [
    {
     "name": "stdout",
     "output_type": "stream",
     "text": [
      "[[1, 2, 3], [4, 5, 6], [7, 8, 9]]\n"
     ]
    }
   ],
   "source": [
    "f = [\n",
    "    [1, 2, 3],\n",
    "    [4, 5, 6],\n",
    "    [7, 8, 9]\n",
    "]\n",
    "print(f)"
   ]
  },
  {
   "cell_type": "markdown",
   "id": "a8421f92-38a4-4495-863c-9ef93a0822cc",
   "metadata": {},
   "source": [
    "##### Accessing Elements in a 2D List\n",
    "\n",
    "Use two indices: `list[row][column]`."
   ]
  },
  {
   "cell_type": "code",
   "execution_count": 52,
   "id": "12eae622-67a8-40af-934b-26e2564d76b7",
   "metadata": {},
   "outputs": [
    {
     "name": "stdout",
     "output_type": "stream",
     "text": [
      "1\n",
      "6\n"
     ]
    }
   ],
   "source": [
    "print(f[0][0])  # First row, first column -> Output: 1\n",
    "print(f[1][2])  # Second row, third column -> Output: 6"
   ]
  },
  {
   "cell_type": "markdown",
   "id": "cc4119d0-01e3-40dd-a086-bf734fc8fa03",
   "metadata": {},
   "source": [
    "##### Modifying Elements in a 2D List"
   ]
  },
  {
   "cell_type": "code",
   "execution_count": 53,
   "id": "36962f65-eccf-43c8-9fd9-96dd51f04faf",
   "metadata": {},
   "outputs": [
    {
     "name": "stdout",
     "output_type": "stream",
     "text": [
      "[[10, 2, 3], [4, 5, 6], [7, 8, 9]]\n"
     ]
    }
   ],
   "source": [
    "# Change the value in the first row, first column to 10\n",
    "f[0][0] = 10\n",
    "print(f)"
   ]
  },
  {
   "cell_type": "markdown",
   "id": "079df94c-8d10-4ae9-95d3-16a9eb05c011",
   "metadata": {},
   "source": [
    "### Tuples\n",
    "\n",
    "A tuple is an ordered, immutable collection of elements.  \n",
    "They are similar to lists, but **cannot be modified** once created.\n",
    "- Defined using parentheses `()`\n",
    "- Can contain any data type (including other tuples)\n",
    "- Often used to group related pieces of data"
   ]
  },
  {
   "cell_type": "markdown",
   "id": "579359c6-8d52-449c-a9c5-22ec113d8869",
   "metadata": {},
   "source": [
    "##### Creating a tuple\n",
    "\n",
    "Use parentheses `()` to define a tuple."
   ]
  },
  {
   "cell_type": "code",
   "execution_count": 54,
   "id": "3f8fa1c9-089a-4e9e-90fc-f3381b231bcf",
   "metadata": {},
   "outputs": [
    {
     "name": "stdout",
     "output_type": "stream",
     "text": [
      "(1, 2, 3, 4, 5)\n"
     ]
    }
   ],
   "source": [
    "b = (1, 2, 3, 4, 5)\n",
    "print(b)  # Output: (1, 2, 3, 4, 5)"
   ]
  },
  {
   "cell_type": "markdown",
   "id": "55918529-3da7-4a25-9f8f-88d6bd4a8a71",
   "metadata": {},
   "source": [
    "##### Tuple with Mixed Data Types\n",
    "\n",
    "Tuples can store elements of different types, such as strings, integers, booleans, and floats."
   ]
  },
  {
   "cell_type": "code",
   "execution_count": 55,
   "id": "b9776bf4-9efc-4efc-8f7e-adae42c04b4a",
   "metadata": {},
   "outputs": [
    {
     "name": "stdout",
     "output_type": "stream",
     "text": [
      "('apple', 3, True, 2.5)\n"
     ]
    }
   ],
   "source": [
    "# Tuple with mixed data types\n",
    "mixed_tuple = ('apple', 3, True, 2.5)\n",
    "print(mixed_tuple)  # Output: ('apple', 3, True, 2.5)"
   ]
  },
  {
   "cell_type": "markdown",
   "id": "abfc02e4-709c-47d6-a9e1-1f4fb401c7ec",
   "metadata": {},
   "source": [
    "##### Nested Tuples\n",
    "\n",
    "Tuples can contain other tuples or even lists as elements."
   ]
  },
  {
   "cell_type": "code",
   "execution_count": 56,
   "id": "8fe2f26c-a998-42f8-a226-d12b8df65139",
   "metadata": {},
   "outputs": [
    {
     "name": "stdout",
     "output_type": "stream",
     "text": [
      "('hello', (1, 2, 3), ['a', 'b', 'c'])\n"
     ]
    }
   ],
   "source": [
    "# Tuple containing another tuple and a list\n",
    "nested_tuple = ('hello', (1, 2, 3), ['a', 'b', 'c'])\n",
    "print(nested_tuple)  # Output: ('hello', (1, 2, 3), ['a', 'b', 'c'])"
   ]
  },
  {
   "cell_type": "markdown",
   "id": "94dda990-3952-42d0-819b-90937484ae5a",
   "metadata": {},
   "source": [
    "##### Accessing elements\n",
    "You can access elements in a tuple using zero-based indexing, just like with lists.\n",
    "- `my_tuple[0]` returns the first element\n",
    "- `my_tuple[-1]` returns the last element"
   ]
  },
  {
   "cell_type": "code",
   "execution_count": 57,
   "id": "9ed9f8ef-b752-45e3-82c8-db41fc24c3bf",
   "metadata": {},
   "outputs": [
    {
     "name": "stdout",
     "output_type": "stream",
     "text": [
      "1\n",
      "5\n"
     ]
    }
   ],
   "source": [
    "print(b[0])  # Output: 1\n",
    "print(b[-1])  # Output: 5"
   ]
  },
  {
   "cell_type": "markdown",
   "id": "28e28d0a-72b4-4a73-af0b-1abb5c469d4a",
   "metadata": {},
   "source": [
    "##### Tuples are immutable, so elements cannot be modified"
   ]
  },
  {
   "cell_type": "code",
   "execution_count": 58,
   "id": "5faa4d36-f176-4f4b-9c2d-5eae328e5a7d",
   "metadata": {},
   "outputs": [
    {
     "ename": "TypeError",
     "evalue": "'tuple' object does not support item assignment",
     "output_type": "error",
     "traceback": [
      "\u001b[31m---------------------------------------------------------------------------\u001b[39m",
      "\u001b[31mTypeError\u001b[39m                                 Traceback (most recent call last)",
      "\u001b[36mCell\u001b[39m\u001b[36m \u001b[39m\u001b[32mIn[58]\u001b[39m\u001b[32m, line 1\u001b[39m\n\u001b[32m----> \u001b[39m\u001b[32m1\u001b[39m \u001b[43mb\u001b[49m\u001b[43m[\u001b[49m\u001b[32;43m2\u001b[39;49m\u001b[43m]\u001b[49m = \u001b[32m10\u001b[39m  \u001b[38;5;66;03m# This will raise a TypeError\u001b[39;00m\n",
      "\u001b[31mTypeError\u001b[39m: 'tuple' object does not support item assignment"
     ]
    }
   ],
   "source": [
    "b[2] = 10  # This will raise a TypeError"
   ]
  },
  {
   "cell_type": "markdown",
   "id": "03ee07c0-d390-4e7e-9baf-68bfa5827b0a",
   "metadata": {},
   "source": [
    "##### Slicing\n",
    "\n",
    "Tuples support slicing, just like lists. Use `[start:end]` to extract a subset."
   ]
  },
  {
   "cell_type": "code",
   "execution_count": 59,
   "id": "874d742c-8bc1-42fa-847d-fc5ed8a9027f",
   "metadata": {},
   "outputs": [
    {
     "name": "stdout",
     "output_type": "stream",
     "text": [
      "(2, 3, 4)\n"
     ]
    }
   ],
   "source": [
    "print(b[1:4])  # Output: (2, 3, 4)"
   ]
  },
  {
   "cell_type": "markdown",
   "id": "c3c08a80-0d65-4aab-a42d-349394acbf9f",
   "metadata": {},
   "source": [
    "##### Tuple Methods\n",
    "Since tuples are immutable, they have a limited number of methods compared to lists. Here are some common methods:\n",
    "\n",
    "- **`len()`**: Returns the number of elements in the tuple.\n",
    "- **`count()`**: Returns the number of occurrences of a specified value.\n",
    "- **`index()`**: Returns the index of the first occurrence of a specified value."
   ]
  },
  {
   "cell_type": "code",
   "execution_count": 60,
   "id": "22ed9984-adb4-4289-bdf1-596f70137f12",
   "metadata": {},
   "outputs": [
    {
     "name": "stdout",
     "output_type": "stream",
     "text": [
      "6\n",
      "3\n",
      "3\n"
     ]
    }
   ],
   "source": [
    "my_tuple = (1, 2, 2, 3, 4, 2)\n",
    "print(len(my_tuple))    # Output: 6\n",
    "print(my_tuple.count(2))    # Output: 3\n",
    "print(my_tuple.index(3))    # Output: 3"
   ]
  },
  {
   "cell_type": "markdown",
   "id": "b4ee52c8-b190-49fd-b260-9c9fe0172d83",
   "metadata": {},
   "source": [
    "### Arrays (from the `array` module)\n",
    "The `array` module provides a way to create arrays with a fixed type.\n"
   ]
  },
  {
   "cell_type": "markdown",
   "id": "78ebe66a-969f-4b91-9d57-6dcd9d447354",
   "metadata": {},
   "source": [
    "##### Creating an integer array\n",
    "\n",
    "Use `array.array(typecode, iterable)` to create a typed array. For integers, the typecode is `'i'`."
   ]
  },
  {
   "cell_type": "code",
   "execution_count": 61,
   "id": "e9ad6b25-7149-4f18-ab4b-76527f2d81fb",
   "metadata": {},
   "outputs": [
    {
     "name": "stdout",
     "output_type": "stream",
     "text": [
      "array('i', [1, 2, 3, 4, 5])\n"
     ]
    }
   ],
   "source": [
    "import array\n",
    "\n",
    "c = array.array('i', [1, 2, 3, 4, 5])\n",
    "print(c)  # Output: array('i', [1, 2, 3, 4, 5])"
   ]
  },
  {
   "cell_type": "markdown",
   "id": "ee1199d1-d525-4098-b34d-61d58a09ac0e",
   "metadata": {},
   "source": [
    "##### Accessing elements\n",
    "\n",
    "Access array elements using indexing, just like with lists."
   ]
  },
  {
   "cell_type": "code",
   "execution_count": 62,
   "id": "574b9abc-211c-4637-84a5-14fdc4a9d0b1",
   "metadata": {},
   "outputs": [
    {
     "name": "stdout",
     "output_type": "stream",
     "text": [
      "1\n",
      "5\n"
     ]
    }
   ],
   "source": [
    "print(c[0])  # Output: 1\n",
    "print(c[-1])  # Output: 5"
   ]
  },
  {
   "cell_type": "markdown",
   "id": "0492d6c5-e692-4e89-9a67-1070f3e0d290",
   "metadata": {},
   "source": [
    "##### Modifying elements\n",
    "\n",
    "You can modify array elements using indexing, just like with lists."
   ]
  },
  {
   "cell_type": "code",
   "execution_count": 63,
   "id": "31a6ce08-1895-42c6-9eb6-38ec15814ea5",
   "metadata": {},
   "outputs": [
    {
     "name": "stdout",
     "output_type": "stream",
     "text": [
      "array('i', [1, 2, 10, 4, 5])\n"
     ]
    }
   ],
   "source": [
    "c[2] = 10\n",
    "print(c)  # Output: array('i', [1, 2, 10, 4, 5])"
   ]
  },
  {
   "cell_type": "markdown",
   "id": "9fae0989-769d-4baf-b3d4-1dba1f339fa4",
   "metadata": {},
   "source": [
    "##### Adding elements\n",
    "\n",
    "Use `.append(value)` to add an item to the end of the array."
   ]
  },
  {
   "cell_type": "code",
   "execution_count": 64,
   "id": "821dcd02-a150-4c2f-807a-a857ba00f942",
   "metadata": {},
   "outputs": [
    {
     "name": "stdout",
     "output_type": "stream",
     "text": [
      "array('i', [1, 2, 10, 4, 5, 6])\n"
     ]
    }
   ],
   "source": [
    "c.append(6)\n",
    "print(c)  # Output: array('i', [1, 2, 10, 4, 5, 6])"
   ]
  },
  {
   "cell_type": "markdown",
   "id": "036997a2-7e86-44a5-95f1-3ba4e8e42c5a",
   "metadata": {},
   "source": [
    "##### Removing elements\n",
    "\n",
    "Use `.remove(value)` to delete the first occurrence of a value from the array."
   ]
  },
  {
   "cell_type": "code",
   "execution_count": 65,
   "id": "ed8c405f-5808-4e3f-8fe5-49c46b5425d1",
   "metadata": {},
   "outputs": [
    {
     "name": "stdout",
     "output_type": "stream",
     "text": [
      "array('i', [1, 2, 4, 5, 6])\n"
     ]
    }
   ],
   "source": [
    "c.remove(10)\n",
    "print(c)  # Output: array('i', [1, 2, 4, 5, 6])"
   ]
  },
  {
   "cell_type": "markdown",
   "id": "e42ea22b-5e42-45d5-a97c-7fc2372f77de",
   "metadata": {},
   "source": [
    "##### Slicing\n",
    "\n",
    "Arrays support slicing just like lists: `array[start:end]`  \n",
    "The `end` index is exclusive."
   ]
  },
  {
   "cell_type": "code",
   "execution_count": 66,
   "id": "8d775092-e24b-4522-85a4-9f5160e6df57",
   "metadata": {},
   "outputs": [
    {
     "name": "stdout",
     "output_type": "stream",
     "text": [
      "array('i', [2, 4, 5])\n"
     ]
    }
   ],
   "source": [
    "print(c[1:4])  # Output: array('i', [2, 4, 5])"
   ]
  },
  {
   "cell_type": "markdown",
   "id": "2b90a3a6-c0ff-4e49-b5f6-83c6cb413cc6",
   "metadata": {},
   "source": [
    "#### Iterating through Tuples and Lists\n",
    "\n",
    "You can iterate through lists, tuples and other iterable objects using `for` loops"
   ]
  },
  {
   "cell_type": "code",
   "execution_count": 67,
   "id": "1c51fe85-bc94-4ed7-90b8-5220fce6dfe0",
   "metadata": {},
   "outputs": [
    {
     "name": "stdout",
     "output_type": "stream",
     "text": [
      "Element 0 is [1, 2, 3]\n",
      "Element 1 is [4, 5, 6]\n",
      "Element 2 is [7, 8, 9]\n"
     ]
    }
   ],
   "source": [
    "# Iterating through a 2D list (list of lists)\n",
    "f = [\n",
    "    [1, 2, 3],\n",
    "    [4, 5, 6],\n",
    "    [7, 8, 9]\n",
    "]\n",
    "\n",
    "element_idx = 0\n",
    "for element in f:\n",
    "    print(f\"Element {element_idx} is {element}\")\n",
    "    element_idx = element_idx + 1"
   ]
  },
  {
   "cell_type": "code",
   "execution_count": 68,
   "id": "efdb73e5-2208-4baf-9738-06962e0eac65",
   "metadata": {},
   "outputs": [
    {
     "name": "stdout",
     "output_type": "stream",
     "text": [
      "Element 0 is hello\n",
      "Element 1 is (1, 2, 3)\n",
      "Element 2 is ['a', 'b', 'c']\n"
     ]
    }
   ],
   "source": [
    "nested_tuple = ('hello', (1, 2, 3), ['a', 'b', 'c'])\n",
    "element_idx = 0\n",
    "for element in nested_tuple:\n",
    "    print(f\"Element {element_idx} is {element}\")\n",
    "    element_idx = element_idx + 1"
   ]
  },
  {
   "cell_type": "markdown",
   "id": "df8d39aa-a8c6-4a32-8913-389b8bf2d014",
   "metadata": {},
   "source": [
    "#### Advantages of Tuples over lists\n",
    "- **Immutable**: Once created, tuples cannot be modified, making them useful for protecting data integrity.\n",
    "- **Faster Access**: Tuples are generally faster for accessing elements compared to lists.\n",
    "- **Used as Dictionary Keys**: Tuples can be used as keys in dictionaries because they are immutable."
   ]
  },
  {
   "cell_type": "markdown",
   "id": "ef5f6736-7a0a-4a29-ba2a-2f72812ca234",
   "metadata": {},
   "source": [
    "#### When to use Tuples\n",
    "- Use tuples when you have a collection of items that should not change, such as coordinates, settings, or configuration values.\n",
    "- Use tuples as dictionary keys when the key is a fixed set of values."
   ]
  },
  {
   "cell_type": "markdown",
   "id": "b8769265-4b35-4e48-a8b5-c7e7d336de39",
   "metadata": {},
   "source": [
    "## Dictionaries and Sets\n",
    "-------------------------\n",
    "\n",
    "### Dictionaries\n",
    "Dictionaries in Python are mutable, ordered collections of key-value pairs. They are widely used for mapping keys to values and are denoted by curly braces `{}`.\n",
    "\n",
    "##### Creating a Dictionary"
   ]
  },
  {
   "cell_type": "code",
   "execution_count": 70,
   "id": "b3f14957-3819-4281-9deb-5ada466ce35e",
   "metadata": {},
   "outputs": [
    {
     "name": "stdout",
     "output_type": "stream",
     "text": [
      "{'name': 'Alice', 'age': 30, 'city': 'Wonderland'}\n"
     ]
    }
   ],
   "source": [
    "person = {'name': 'Alice', 'age': 30, 'city': 'Wonderland'}\n",
    "print(person)  # Output: {'name': 'Alice', 'age': 30, 'city': 'Wonderland'}"
   ]
  },
  {
   "cell_type": "markdown",
   "id": "d792eda0-7f2c-4fc0-80e5-ce380c431cfe",
   "metadata": {},
   "source": [
    "##### Accessing Values\n",
    "\n",
    "Use square brackets (`[]`) or the `.get()` method to retrieve values by key."
   ]
  },
  {
   "cell_type": "code",
   "execution_count": 71,
   "id": "ad5f6284-a5b4-4415-8e17-b53a07a44078",
   "metadata": {},
   "outputs": [
    {
     "name": "stdout",
     "output_type": "stream",
     "text": [
      "Alice\n",
      "30\n"
     ]
    }
   ],
   "source": [
    "# Accessing values in a dictionary\n",
    "person = {'name': 'Alice', 'age': 30, 'city': 'Wonderland'}\n",
    "print(person['name'])  # Output: Alice\n",
    "print(person.get('age'))  # Output: 30"
   ]
  },
  {
   "cell_type": "markdown",
   "id": "5c2fcb8d-094d-4dbb-8d09-11f730592dd9",
   "metadata": {},
   "source": [
    "##### Modifying and Adding Elements"
   ]
  },
  {
   "cell_type": "code",
   "execution_count": 72,
   "id": "fd0bf8f1-9397-456d-b136-20cb98b32244",
   "metadata": {},
   "outputs": [
    {
     "name": "stdout",
     "output_type": "stream",
     "text": [
      "{'name': 'Alice', 'age': 31, 'city': 'Wonderland'}\n",
      "{'name': 'Alice', 'age': 31, 'city': 'Wonderland', 'job': 'Engineer'}\n"
     ]
    }
   ],
   "source": [
    "# Modifying values in a dictionary\n",
    "person['age'] = 31\n",
    "print(person)  # Output: {'name': 'Alice', 'age': 31, 'city': 'Wonderland'}\n",
    "\n",
    "# Adding a new key-value pair\n",
    "person['job'] = 'Engineer'\n",
    "print(person)  # Output: {'name': 'Alice', 'age': 31, 'city': 'Wonderland', 'job': 'Engineer'}"
   ]
  },
  {
   "cell_type": "markdown",
   "id": "b36f0d60-eeb8-4762-ac84-572cd84e0b66",
   "metadata": {},
   "source": [
    "##### Iterating Through a Dictionary\n",
    "\n",
    "- **Keys and values**: `for key, value in person.items():`\n",
    "- **Keys only**: `for key in person:` or `for key in person.keys():`\n",
    "- **Values only**: `for value in person.values():`"
   ]
  },
  {
   "cell_type": "code",
   "execution_count": 73,
   "id": "c0dccde9-cb7e-4ed6-811c-28b1124c2a7c",
   "metadata": {},
   "outputs": [
    {
     "name": "stdout",
     "output_type": "stream",
     "text": [
      "name: Alice\n",
      "age: 31\n",
      "city: Wonderland\n",
      "job: Engineer\n"
     ]
    }
   ],
   "source": [
    "# Iterating key and value\n",
    "for key, value in person.items():\n",
    "    print(f\"{key}: {value}\")"
   ]
  },
  {
   "cell_type": "code",
   "execution_count": 74,
   "id": "1457a4cb-0af5-421d-bd2d-7c5a1c1c39c8",
   "metadata": {},
   "outputs": [
    {
     "name": "stdout",
     "output_type": "stream",
     "text": [
      "name: Alice\n",
      "age: 31\n",
      "city: Wonderland\n",
      "job: Engineer\n"
     ]
    }
   ],
   "source": [
    "# Iterate over keys (also valid: `for key in person.keys():`)\n",
    "for key in person:\n",
    "    print(f\"{key}: {person[key]}\")"
   ]
  },
  {
   "cell_type": "code",
   "execution_count": 75,
   "id": "96cd4690-1f3b-4eee-9c46-6ab414a4005a",
   "metadata": {},
   "outputs": [
    {
     "name": "stdout",
     "output_type": "stream",
     "text": [
      "Alice\n",
      "31\n",
      "Wonderland\n",
      "Engineer\n"
     ]
    }
   ],
   "source": [
    "# Iterating through values only\n",
    "for value in person.values():\n",
    "    print(value)"
   ]
  },
  {
   "cell_type": "markdown",
   "id": "c0b4bf27-d585-4884-9268-f6c73cf87a6c",
   "metadata": {},
   "source": [
    "##### Dictionary Comprehension\n",
    "Shortcut to create a dictionary from a list, tuple or other iterables"
   ]
  },
  {
   "cell_type": "code",
   "execution_count": 76,
   "id": "9667e3d0-c050-419a-a568-7f73aadcc0b8",
   "metadata": {},
   "outputs": [
    {
     "name": "stdout",
     "output_type": "stream",
     "text": [
      "{1: 1, 2: 4, 3: 9, 4: 16, 5: 25}\n"
     ]
    }
   ],
   "source": [
    "# Create a dictionary where each number maps to its square using a dictionary comprehension\n",
    "numbers = [1, 2, 3, 4, 5]\n",
    "squared_numbers = {num: num**2 for num in numbers}\n",
    "print(squared_numbers)  # Output: {1: 1, 2: 4, 3: 9, 4: 16, 5: 25}"
   ]
  },
  {
   "cell_type": "markdown",
   "id": "a6ef0953-fa00-40c2-b9ad-698ae6e0f450",
   "metadata": {},
   "source": [
    "### Sets\n",
    "Sets in Python are unordered collections of **unique** elements, denoted by curly braces `{}`.\n",
    "An element is only present once in the set even if it is added multiple times\n",
    "\n",
    "##### Creating a Set\n"
   ]
  },
  {
   "cell_type": "code",
   "execution_count": 77,
   "id": "0e502a75-74ac-49e9-b0b6-23b412c158e0",
   "metadata": {},
   "outputs": [
    {
     "name": "stdout",
     "output_type": "stream",
     "text": [
      "{'banana', 'apple', 'orange'}\n"
     ]
    }
   ],
   "source": [
    "# Create a set of fruits (order is not guaranteed)\n",
    "fruits = {'apple', 'banana', 'orange'}\n",
    "print(fruits)  # Output: {'banana', 'apple', 'orange'}"
   ]
  },
  {
   "cell_type": "markdown",
   "id": "9bbfc0c4-41f5-47c8-9d8a-a97fcd09eacc",
   "metadata": {},
   "source": [
    "##### Creating an empty set\n",
    "\n",
    "Use `set()` to create an empty set — using `{}` creates an empty dictionary."
   ]
  },
  {
   "cell_type": "code",
   "execution_count": 78,
   "id": "cdabfe1a-0f5a-4e9b-867d-cfda58042941",
   "metadata": {},
   "outputs": [],
   "source": [
    "my_set = set()"
   ]
  },
  {
   "cell_type": "markdown",
   "id": "cf336216-f3af-44a1-b863-cd11a22df483",
   "metadata": {},
   "source": [
    "##### Adding elements to the set\n",
    "\n",
    "Use `.add()` to insert an element into a set. If the element already exists, it won’t be duplicated."
   ]
  },
  {
   "cell_type": "code",
   "execution_count": 79,
   "id": "f2a28f3e-2294-4482-b165-287a72fe87ee",
   "metadata": {},
   "outputs": [
    {
     "name": "stdout",
     "output_type": "stream",
     "text": [
      "{'pear'}\n",
      "{'pear'}\n"
     ]
    }
   ],
   "source": [
    "my_set = set()\n",
    "my_set.add('pear')\n",
    "print(my_set)\n",
    "# Adding 'pear' again does nothing\n",
    "my_set.add('pear')\n",
    "print(my_set)"
   ]
  },
  {
   "cell_type": "markdown",
   "id": "3658ba09-509c-4210-96aa-c3e81f4fa5c5",
   "metadata": {},
   "source": [
    "##### Removing elements from the set\n",
    "\n",
    "Use `.remove(value)` to delete an element. Raises a `KeyError` if the element is not present."
   ]
  },
  {
   "cell_type": "code",
   "execution_count": 80,
   "id": "d0ff7832-31a9-4c78-994f-ccc5be2602ce",
   "metadata": {},
   "outputs": [
    {
     "name": "stdout",
     "output_type": "stream",
     "text": [
      "{'pear', 'apple', 'orange'}\n"
     ]
    }
   ],
   "source": [
    "fruits = {'apple', 'banana', 'orange', 'pear'}\n",
    "fruits.remove('banana')\n",
    "print(fruits)  # Output: {'orange', 'apple', 'pear'}"
   ]
  },
  {
   "cell_type": "markdown",
   "id": "c5aa51fe-6680-49dc-9472-dc96fa213f58",
   "metadata": {},
   "source": [
    "#### Set Operations\n",
    "\n",
    "You can perform standard mathematical set operations like union, intersection, and difference.\n",
    "\n",
    "##### Union\n",
    "\n",
    "Returns all unique elements from both sets"
   ]
  },
  {
   "cell_type": "code",
   "execution_count": 81,
   "id": "9a822d02-9c42-436b-89f0-0de8b6940294",
   "metadata": {},
   "outputs": [
    {
     "name": "stdout",
     "output_type": "stream",
     "text": [
      "{1, 2, 3, 4, 5, 6, 7, 8}\n"
     ]
    }
   ],
   "source": [
    "set1 = {1, 2, 3, 4, 5}\n",
    "set2 = {4, 5, 6, 7, 8}\n",
    "union_set = set1 | set2\n",
    "print(union_set)  # Output: {1, 2, 3, 4, 5, 6, 7, 8}"
   ]
  },
  {
   "cell_type": "markdown",
   "id": "8f3007c2-98bd-463d-a17d-9dae2abb9062",
   "metadata": {},
   "source": [
    "##### Intersection\n",
    "\n",
    "Returns only the elements common to both sets."
   ]
  },
  {
   "cell_type": "code",
   "execution_count": 82,
   "id": "6f5159b8-64a6-4938-a6b6-3c599a9e98da",
   "metadata": {},
   "outputs": [
    {
     "name": "stdout",
     "output_type": "stream",
     "text": [
      "{4, 5}\n"
     ]
    }
   ],
   "source": [
    "set1 = {1, 2, 3, 4, 5}\n",
    "set2 = {4, 5, 6, 7, 8}\n",
    "intersection_set = set1 & set2\n",
    "print(intersection_set)  # Output: {4, 5}"
   ]
  },
  {
   "cell_type": "markdown",
   "id": "ece5cffa-43dc-4d6c-a92f-ba304e9dc46e",
   "metadata": {},
   "source": [
    "##### Difference\n",
    "\n",
    "Returns elements present in the first set but not in the second."
   ]
  },
  {
   "cell_type": "code",
   "execution_count": 83,
   "id": "9e99172b-542d-4031-8a87-b39a0278aedf",
   "metadata": {},
   "outputs": [
    {
     "name": "stdout",
     "output_type": "stream",
     "text": [
      "{1, 2, 3}\n"
     ]
    }
   ],
   "source": [
    "set1 = {1, 2, 3, 4, 5}\n",
    "set2 = {4, 5, 6, 7, 8}\n",
    "difference_set = set1 - set2\n",
    "print(difference_set)  # Output: {1, 2, 3}"
   ]
  },
  {
   "cell_type": "markdown",
   "id": "4563973c-2678-4023-9fd6-8ea6c7d16f56",
   "metadata": {},
   "source": [
    "##### Iterating through a set\n",
    "\n",
    "You can iterate over a set using a `for` loop, just like with lists, tuples, and other iterables."
   ]
  },
  {
   "cell_type": "code",
   "execution_count": 84,
   "id": "e22bc446-46a1-4e1e-a07d-5e599d1e69cf",
   "metadata": {},
   "outputs": [
    {
     "name": "stdout",
     "output_type": "stream",
     "text": [
      "apple\n",
      "orange\n",
      "pear\n",
      "banana\n"
     ]
    }
   ],
   "source": [
    "fruits = {'apple', 'banana', 'orange', 'pear'}\n",
    "for fruit in fruits:\n",
    "    print(fruit)"
   ]
  },
  {
   "cell_type": "markdown",
   "id": "7219fe63-675f-47d2-bdf5-cbbe1797b74d",
   "metadata": {},
   "source": [
    "##### Set Comprehension\n",
    "\n",
    "Set comprehensions allow you to build sets using a concise expression, similar to list or dictionary comprehensions."
   ]
  },
  {
   "cell_type": "code",
   "execution_count": 85,
   "id": "65d4da79-3746-49e5-b7ec-0fcce5ceb437",
   "metadata": {},
   "outputs": [
    {
     "name": "stdout",
     "output_type": "stream",
     "text": [
      "{1, 2, 3, 4, 5}\n"
     ]
    }
   ],
   "source": [
    "numbers = [1, 2, 3, 4, 5, 5, 4, 3, 2, 1]\n",
    "unique_numbers = {num for num in numbers}\n",
    "print(unique_numbers)  # Output: {1, 2, 3, 4, 5}"
   ]
  },
  {
   "cell_type": "markdown",
   "id": "d6ecdd1a-2ec7-4819-919b-666bd8eccfda",
   "metadata": {},
   "source": [
    "## Python Functions/Methods\n",
    "----------------------------\n",
    "\n",
    "A Python function is a block of code that performs a specific well-defined task\n",
    "\n",
    "Why define functions?\n",
    "- Reuse the same block of logic in multiple places\n",
    "- To make code more organized, readable, and maintainable\n",
    "\n",
    "##### Defining Functions\n",
    "A function definition includes\n",
    "- `def` keyword\n",
    "- function name\n",
    "- Optional arguments\n",
    "- Optional comment description\n",
    "- Optional `return` value\n",
    "\n",
    "Example:"
   ]
  },
  {
   "cell_type": "code",
   "execution_count": 86,
   "id": "e2f4c3f8-b1c4-460e-8fd5-0df4b0a1b9b5",
   "metadata": {},
   "outputs": [
    {
     "name": "stdout",
     "output_type": "stream",
     "text": [
      "Hello, Favour!\n",
      "None\n"
     ]
    }
   ],
   "source": [
    "def greet(name):\n",
    "    \"\"\"This function prints a simple greeting.\"\"\"\n",
    "    print(f\"Hello, {name}!\")\n",
    "\n",
    "print(greet(\"Favour\"))  # Output: Hello, Favour!"
   ]
  },
  {
   "cell_type": "markdown",
   "id": "7c90bbf1-ff1f-48f8-ae4a-1751f3169a3e",
   "metadata": {},
   "source": [
    "##### Return Values\n",
    "\n",
    "Notice `None` is also printed.\n",
    "\n",
    "- All functions return `None` if `return` is not specified\n",
    "\n",
    "##### Example function with return value"
   ]
  },
  {
   "cell_type": "code",
   "execution_count": 87,
   "id": "241cb910-4499-4a87-99a1-16fd824273f5",
   "metadata": {},
   "outputs": [
    {
     "name": "stdout",
     "output_type": "stream",
     "text": [
      "Hypotenuse of 3 and 4 is 5.0\n"
     ]
    }
   ],
   "source": [
    "def hypotenuse(a, b):\n",
    "    \"\"\"Returns the hypotenuse of two numbers a and b\"\"\"\n",
    "    a_square = a * a\n",
    "    b_square = b * b\n",
    "    sum_square = a_square + b_square\n",
    "    # Raising to power 0.5 does square root\n",
    "    return sum_square**0.5\n",
    "\n",
    "hypotenuse_3_4 = hypotenuse(3, 4)\n",
    "print(f\"Hypotenuse of 3 and 4 is {hypotenuse_3_4}\")"
   ]
  },
  {
   "cell_type": "markdown",
   "id": "7fbcce88-ce7b-48ae-a3aa-0386f6618bf9",
   "metadata": {},
   "source": [
    "##### Functions with Default Arguments\n",
    "\n",
    "You can assign default values to parameters, making them optional when calling the function."
   ]
  },
  {
   "cell_type": "code",
   "execution_count": 88,
   "id": "38578a0b-ea8c-4c45-a252-40302ec944cd",
   "metadata": {},
   "outputs": [
    {
     "name": "stdout",
     "output_type": "stream",
     "text": [
      "Hello, Alice!\n",
      "Hi, Bob!\n"
     ]
    }
   ],
   "source": [
    "def greet(name, greeting=\"Hello\"):\n",
    "    return f\"{greeting}, {name}!\"\n",
    "\n",
    "# Using the function\n",
    "print(greet(\"Alice\"))           # Output: Hello, Alice!\n",
    "print(greet(\"Bob\", \"Hi\"))       # Output: Hi, Bob!"
   ]
  },
  {
   "cell_type": "markdown",
   "id": "11732d05-2921-463d-b768-192a95948507",
   "metadata": {},
   "source": [
    "##### Calling Functions with Named Arguments\n",
    "\n",
    "You can call functions using named arguments (keyword arguments), allowing you to pass them in any order."
   ]
  },
  {
   "cell_type": "code",
   "execution_count": 89,
   "id": "5e0b531f-b612-4828-9d0b-55602af12d62",
   "metadata": {},
   "outputs": [
    {
     "name": "stdout",
     "output_type": "stream",
     "text": [
      "Hi, Bob!\n",
      "Hi, Bob!\n"
     ]
    }
   ],
   "source": [
    "def greet(name, greeting):\n",
    "    return f\"{greeting}, {name}!\"\n",
    "\n",
    "# Using the function\n",
    "print(greet(name = \"Bob\", greeting=\"Hi\"))       # Output: Hi, Bob!\n",
    "print(greet(greeting = \"Hi\", name=\"Bob\"))       # Output: Hi, Bob!"
   ]
  },
  {
   "cell_type": "markdown",
   "id": "5b7a7cf7-76f1-45b2-9780-8954c749aff1",
   "metadata": {},
   "source": [
    "##### Functions with Variable-Length Arguments\n",
    "- Use `*args` to accept any number of positional arguments\n",
    "- Use `**kwargs` to accept any number of keyword arguments"
   ]
  },
  {
   "cell_type": "code",
   "execution_count": 90,
   "id": "53dcdc16-d287-4dbb-850b-a2798f70b682",
   "metadata": {},
   "outputs": [
    {
     "name": "stdout",
     "output_type": "stream",
     "text": [
      "Positional arguments: (1, 2, 3)\n",
      "Keyword arguments: {'key1': 'value1', 'key2': 'value2'}\n"
     ]
    }
   ],
   "source": [
    "def example(*args, **kwargs):\n",
    "    print(\"Positional arguments:\", args)\n",
    "    print(\"Keyword arguments:\", kwargs)\n",
    "\n",
    "example(1, 2, 3, key1='value1', key2='value2')\n",
    "# Output:\n",
    "# Positional arguments: (1, 2, 3)\n",
    "# Keyword arguments: {'key1': 'value1', 'key2': 'value2'}"
   ]
  },
  {
   "cell_type": "markdown",
   "id": "a9c11977-130b-4561-b46e-bb9737300f18",
   "metadata": {},
   "source": [
    "##### Functions as First-Class Objects\n",
    "\n",
    "Functions in Python can be assigned to variables, passed as arguments, and returned from other functions."
   ]
  },
  {
   "cell_type": "code",
   "execution_count": 91,
   "id": "9f51aa59-ad9d-4b19-b281-4b37a438ae43",
   "metadata": {},
   "outputs": [
    {
     "name": "stdout",
     "output_type": "stream",
     "text": [
      "7\n"
     ]
    }
   ],
   "source": [
    "# Assigning a function to a variable\n",
    "def add(a, b):\n",
    "    return a + b\n",
    "\n",
    "sum_function = add\n",
    "\n",
    "# Calling the function through the variable\n",
    "print(sum_function(3, 4))  # Output: 7"
   ]
  },
  {
   "cell_type": "markdown",
   "id": "f4b60020-845e-43cf-9534-7138a8c21c34",
   "metadata": {},
   "source": [
    "##### Anonymous (Lambda) Functions\n",
    "\n",
    "Lambda functions are one-line anonymous functions, often used for short, simple operations."
   ]
  },
  {
   "cell_type": "code",
   "execution_count": 92,
   "id": "5cd7bb50-2fbf-4e53-b3f5-19432d6ba5fb",
   "metadata": {},
   "outputs": [
    {
     "name": "stdout",
     "output_type": "stream",
     "text": [
      "5.0\n"
     ]
    }
   ],
   "source": [
    "# Defining and using a lambda function\n",
    "hypotenuse = lambda x, y: (x**2 + y**2)**0.5\n",
    "\n",
    "print(hypotenuse(3, 4))  # Output: 5"
   ]
  },
  {
   "cell_type": "markdown",
   "id": "c16680d8-9f31-4cf0-aa73-407d22a6dd96",
   "metadata": {},
   "source": [
    "#####  Passing Functions as Arguments"
   ]
  },
  {
   "cell_type": "code",
   "execution_count": 93,
   "id": "ae5b7ece-566c-4e69-b637-c8b69f48ee52",
   "metadata": {},
   "outputs": [
    {
     "name": "stdout",
     "output_type": "stream",
     "text": [
      "8\n"
     ]
    }
   ],
   "source": [
    "def add(a, b):\n",
    "    return a + b\n",
    "\n",
    "def operate(func, x, y):\n",
    "    return func(x, y)\n",
    "\n",
    "# Using the function\n",
    "result = operate(add, 5, 3)\n",
    "print(result)  # Output: 8"
   ]
  },
  {
   "cell_type": "markdown",
   "id": "f91dfae2-0f63-4351-9567-b560ec0cdec6",
   "metadata": {},
   "source": [
    "##### Higher-Order Functions\n",
    "Higher-order functions either:\n",
    "- Take one or more functions as arguments\n",
    "- Return a function as a result\n",
    "\n",
    "They are often used to process data structures like lists, tuples, or dictionaries.\n",
    "\n",
    "**Examples**: `map()`, `filter()`, `reduce()`"
   ]
  },
  {
   "cell_type": "code",
   "execution_count": 94,
   "id": "6816ce33-2921-4b1c-a134-8e535ab93aa7",
   "metadata": {},
   "outputs": [
    {
     "name": "stdout",
     "output_type": "stream",
     "text": [
      "[1, 4, 9, 16, 25]\n"
     ]
    }
   ],
   "source": [
    "numbers = [1, 2, 3, 4, 5]\n",
    "\n",
    "def square(x):\n",
    "    \"\"\"Returns the square of a number\"\"\"\n",
    "    return x * x\n",
    "\n",
    "# Using map function\n",
    "squared_numbers = map(square, numbers)\n",
    "print(list(squared_numbers))  # Output: [1, 4, 9, 16, 25]"
   ]
  },
  {
   "cell_type": "markdown",
   "id": "7eec1cfd-75fd-4fec-9fea-45e2b2637359",
   "metadata": {},
   "source": [
    "##### Using lambdas in Higher-Order Functions\n",
    "\n",
    "Lambdas are often used with functions like `map()`, `filter()`, and `sorted()` for concise logic."
   ]
  },
  {
   "cell_type": "code",
   "execution_count": 95,
   "id": "c76bec1b-7a0d-49ea-9205-6d9b4fc44eee",
   "metadata": {},
   "outputs": [
    {
     "name": "stdout",
     "output_type": "stream",
     "text": [
      "[2, 4]\n"
     ]
    }
   ],
   "source": [
    "# Using filter function\n",
    "even_numbers = filter(lambda x: x % 2 == 0, numbers)\n",
    "print(list(even_numbers))  # Output: [2, 4]"
   ]
  },
  {
   "cell_type": "markdown",
   "id": "3cdbf038-12c8-4fc8-8a41-051d46b2674f",
   "metadata": {},
   "source": [
    "##### Closures\n",
    "\n",
    "Closures occur when a function returns another function, and the returned function retains access to variables from the enclosing scope."
   ]
  },
  {
   "cell_type": "code",
   "execution_count": 96,
   "id": "889d06a8-116a-457d-9070-9e2fbf8569bb",
   "metadata": {},
   "outputs": [
    {
     "name": "stdout",
     "output_type": "stream",
     "text": [
      "10\n",
      "15\n"
     ]
    }
   ],
   "source": [
    "# Function that returns another function\n",
    "def multiplier(factor):\n",
    "    def multiply_by_factor(number):\n",
    "        return number * factor # Uses the outer function's variable\n",
    "    return multiply_by_factor\n",
    "\n",
    "# Create specialized multiplier functions\n",
    "double = multiplier(2)\n",
    "print(double(5))  # Output: 10\n",
    "triple = multiplier(3)\n",
    "print(triple(5))  # Output: 15"
   ]
  },
  {
   "cell_type": "markdown",
   "id": "c4e90ba2-fe81-4672-b272-a3abd7290fee",
   "metadata": {},
   "source": [
    "##### Function Decorators\n",
    "Wrap functions to add additional functionality to them"
   ]
  },
  {
   "cell_type": "code",
   "execution_count": 97,
   "id": "17a0dc4b-93ec-4e01-a857-7b37599fa113",
   "metadata": {},
   "outputs": [
    {
     "name": "stdout",
     "output_type": "stream",
     "text": [
      "Before run\n",
      "After run\n",
      "Execution time of 'my_sleep_func': 0.5005 seconds\n",
      "Before run\n",
      "Reducing to 2 seconds to prevent long wait\n",
      "After run\n",
      "Execution time of 'my_sleep_func': 2.0004 seconds\n"
     ]
    }
   ],
   "source": [
    "# Example find how long it takes to run a function\n",
    "import time\n",
    "def timer(original_func):\n",
    "    def implementation(*args, **kwargs):\n",
    "        \"\"\"Add the timing logic\"\"\"\n",
    "        print(\"Before run\")\n",
    "        start_time = time.perf_counter() # Current time\n",
    "        # Run the original function\n",
    "        result = original_func(*args, **kwargs)\n",
    "        end_time = time.perf_counter() # Time after execution\n",
    "        duration = end_time - start_time\n",
    "        print(\"After run\")\n",
    "        print(f\"Execution time of '{original_func.__name__}': {duration:.4f} seconds\")\n",
    "        return result\n",
    "\n",
    "    return implementation\n",
    "\n",
    "@timer\n",
    "def my_sleep_func(duration):\n",
    "    if duration > 2:\n",
    "        print(\"Reducing to 2 seconds to prevent long wait\")\n",
    "        duration = 2\n",
    "    time.sleep(duration)\n",
    "\n",
    "my_sleep_func(0.5)\n",
    "my_sleep_func(10)"
   ]
  },
  {
   "cell_type": "markdown",
   "id": "68c34865-9eab-42d1-be15-9a546f3e7c06",
   "metadata": {},
   "source": [
    "## Data Structures and Functions Exercises\n",
    "------------------------------------------\n",
    "\n",
    "- Write a function that calculates the area of a triangle. The arguments should be the base and height of the triangle\n",
    "\n",
    "- Write a function decorator that ensures that all the arguments passed to the functions that use it are positive numbers.\n",
    "\n",
    "    - Print an error message if negative arguments are passed to the original function\n",
    " \n",
    "    - The error message should include the value passed to the original function so users can see their mistake \n",
    "\n",
    "    - Use the function decorator to wrap the area function. \n",
    "\n",
    "- Write a function decorator that creates a dictionary storing all the results of calling all the functions that call it.\n",
    "  - The key to the dictionary should be the name of the function it wraps. Use e.g. `original_func.__name__` to get the name of the function\n",
    "  - The values should be a list. Every time the function is called, add the result of calling the function to the values list\n"
   ]
  }
 ],
 "metadata": {
  "kernelspec": {
   "display_name": "Python 3 (ipykernel)",
   "language": "python",
   "name": "python3"
  },
  "language_info": {
   "codemirror_mode": {
    "name": "ipython",
    "version": 3
   },
   "file_extension": ".py",
   "mimetype": "text/x-python",
   "name": "python",
   "nbconvert_exporter": "python",
   "pygments_lexer": "ipython3",
   "version": "3.13.5"
  }
 },
 "nbformat": 4,
 "nbformat_minor": 5
}
